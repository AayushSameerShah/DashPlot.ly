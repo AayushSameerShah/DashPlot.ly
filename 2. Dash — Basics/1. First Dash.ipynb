{
 "cells": [
  {
   "cell_type": "markdown",
   "metadata": {},
   "source": [
    "# The First Time\n",
    "*We will combine `<H1>` with `plot`.*"
   ]
  },
  {
   "cell_type": "markdown",
   "metadata": {},
   "source": [
    "###### "
   ]
  },
  {
   "cell_type": "markdown",
   "metadata": {},
   "source": [
    "#### The Approach\n",
    "    See, this is gonna be very very basic and minimalist DASH. Which will have the\n",
    "    Graphs and HTML components—together. \n",
    "    \n",
    "    Now, the thing is, while providing the data of the graphs, we are not going to\n",
    "    `Directly give` the \"go\" objects. We will go with the way which is called \"CORE\"\n",
    "    we will see how the things work internally. So with that you can reinforce the\n",
    "    underlying method of how go plots work and what do they pass in the figure.\n",
    "    \n",
    "    See, Dash runs on the server. So to make a server there will be some syntax \n",
    "         similarity between dash and flask. So please be patient and keep learning.\n",
    "    \n",
    "    As always, Don'y make things complicated, even if they are. Let's get started."
   ]
  },
  {
   "cell_type": "markdown",
   "metadata": {},
   "source": [
    "###### "
   ]
  },
  {
   "cell_type": "code",
   "execution_count": 1,
   "metadata": {},
   "outputs": [],
   "source": [
    "import dash\n",
    "import dash_core_components as dcc\n",
    "import dash_html_components as html\n",
    "\n",
    "# YEAH! No `plotly.go` or `plotly.pyo` for now!"
   ]
  },
  {
   "cell_type": "markdown",
   "metadata": {},
   "source": [
    "## A Basic Structure"
   ]
  },
  {
   "cell_type": "code",
   "execution_count": 8,
   "metadata": {},
   "outputs": [
    {
     "name": "stdout",
     "output_type": "stream",
     "text": [
      " * Serving Flask app \"dash\" (lazy loading)\n",
      " * Environment: production\n",
      "   WARNING: This is a development server. Do not use it in a production deployment.\n",
      "   Use a production WSGI server instead.\n",
      " * Debug mode: off\n"
     ]
    },
    {
     "name": "stderr",
     "output_type": "stream",
     "text": [
      " * Running on http://127.0.0.1:8050/ (Press CTRL+C to quit)\n",
      "127.0.0.1 - - [17/Aug/2021 10:07:34] \"\u001b[37mGET / HTTP/1.1\u001b[0m\" 200 -\n",
      "127.0.0.1 - - [17/Aug/2021 10:07:35] \"\u001b[37mGET /_dash-layout HTTP/1.1\u001b[0m\" 200 -\n",
      "127.0.0.1 - - [17/Aug/2021 10:07:35] \"\u001b[37mGET /_dash-dependencies HTTP/1.1\u001b[0m\" 200 -\n",
      "127.0.0.1 - - [17/Aug/2021 10:07:35] \"\u001b[37mGET /favicon.ico HTTP/1.1\u001b[0m\" 200 -\n"
     ]
    }
   ],
   "source": [
    "# Making an app\n",
    "app = dash.Dash()\n",
    "\n",
    "# Building that document\n",
    "app.layout = html.Div('Hey man!')\n",
    "             # ↑ first HTML tag with the string HEY MAN!\n",
    "    \n",
    "# Run!\n",
    "app.run_server()"
   ]
  },
  {
   "cell_type": "markdown",
   "metadata": {},
   "source": [
    "# "
   ]
  },
  {
   "cell_type": "markdown",
   "metadata": {},
   "source": [
    "### *Core Way*"
   ]
  },
  {
   "cell_type": "code",
   "execution_count": 22,
   "metadata": {},
   "outputs": [
    {
     "name": "stdout",
     "output_type": "stream",
     "text": [
      " * Serving Flask app \"dash\" (lazy loading)\n",
      " * Environment: production\n",
      "   WARNING: This is a development server. Do not use it in a production deployment.\n",
      "   Use a production WSGI server instead.\n",
      " * Debug mode: off\n"
     ]
    },
    {
     "name": "stderr",
     "output_type": "stream",
     "text": [
      " * Running on http://127.0.0.1:8050/ (Press CTRL+C to quit)\n",
      "127.0.0.1 - - [17/Aug/2021 10:19:00] \"\u001b[37mGET / HTTP/1.1\u001b[0m\" 200 -\n",
      "127.0.0.1 - - [17/Aug/2021 10:19:00] \"\u001b[37mGET /_dash-layout HTTP/1.1\u001b[0m\" 200 -\n",
      "127.0.0.1 - - [17/Aug/2021 10:19:00] \"\u001b[37mGET /_dash-dependencies HTTP/1.1\u001b[0m\" 200 -\n",
      "127.0.0.1 - - [17/Aug/2021 10:19:00] \"\u001b[37mGET /favicon.ico HTTP/1.1\u001b[0m\" 200 -\n"
     ]
    }
   ],
   "source": [
    "app = dash.Dash()\n",
    "                    ### ↓ This will make a hierarchy ###\n",
    "app.layout = html.Div(children=[\n",
    "                            html.H1('Aayush Shah'),\n",
    "                            html.Div(\"\"\"This is Aayush Shah\n",
    "                            This is the first page in the Indian history.\"\"\"),\n",
    "                            dcc.Graph(figure=dict(data=[\n",
    "                                                        dict(x=[2015, 2016, 2017, 2018, 2019, 2020],\n",
    "                                                             y=[224, 443, 112, 445, 22, 112],\n",
    "                                                             type='bar',\n",
    "                                                             name=\"Aayush's Motivation\"),\n",
    "                                                        \n",
    "                                                        dict(x=[2015, 2016, 2017, 2018, 2019, 2020],\n",
    "                                                             y=[2224, 4443, 6112, 5445, 6822, 8112],\n",
    "                                                             type='bar',\n",
    "                                                             name=\"Real Aayush's Motivation\")\n",
    "                                                        ],\n",
    "                                                  layout=dict(title=\"Motivation Comparision of Aayush vs Real Aayush\")),\n",
    "                                      id=\"First\"\n",
    "                                    )])\n",
    "\n",
    "app.run_server()"
   ]
  },
  {
   "cell_type": "markdown",
   "metadata": {},
   "source": [
    "#### ↑ This one is so amzaing!!! "
   ]
  },
  {
   "cell_type": "markdown",
   "metadata": {},
   "source": [
    "# "
   ]
  },
  {
   "cell_type": "markdown",
   "metadata": {},
   "source": [
    "We have to break down things a bit. Well you can skip this part of reading if you want... but hey, it is for you."
   ]
  },
  {
   "cell_type": "markdown",
   "metadata": {},
   "source": [
    "—<br>I see, things get to seem more complicated from `dcc.Graph()` so we will start from there, because the code before is jist about the tag hierarchy.\n",
    "```python\n",
    "dcc.Graph(...)\n",
    "```\n",
    "↑ This is just a graph. Take is as a `<Graph>` tag in html. Which will include the graphy stuff."
   ]
  },
  {
   "cell_type": "markdown",
   "metadata": {},
   "source": [
    "```python\n",
    "dcc.Graph(figure=dict(data=..., layout=...),\n",
    "          id='#')\n",
    "```\n",
    "↑ Graph method involves 2 main attributes to be passed. 1. Figure and 2. Layout. **Does that sound familiar?** <br>\n",
    "If yes, then exactly. You are essentially ***replacing*** `pyo.plot(figure)` with `dcc.Graph(figure)` and whatever `figure` includes will be given in the `dcc.Graph(figure=dict()`. \n",
    "\n",
    "And what does `figure` includes? It includes:\n",
    "1. Traces (List)\n",
    "2. Layout\n",
    "\n",
    "Now, here the same thing is there. Traces are passed as the list and the layout in the form of dict. But the traces are not called directly with the `go.Scatter` or `go.Bar` but we have made our own dict so the dash has to do some less stuff. Let me show you another way.\n",
    "\n",
    "And hey, the explanation of the Graph is ended here. You're smart to understand that.<br> Before moving on, one main thing. ***dcc.Graph() requires `id` to be passed*** otherwise will raise an error."
   ]
  },
  {
   "cell_type": "markdown",
   "metadata": {},
   "source": [
    "# "
   ]
  },
  {
   "cell_type": "markdown",
   "metadata": {},
   "source": [
    "### *Comapct Way*"
   ]
  },
  {
   "cell_type": "code",
   "execution_count": 23,
   "metadata": {},
   "outputs": [],
   "source": [
    "# We need to import a couple of libs\n",
    "import plotly.graph_objs as go\n",
    "import plotly.offline as pyo"
   ]
  },
  {
   "cell_type": "code",
   "execution_count": 25,
   "metadata": {},
   "outputs": [
    {
     "name": "stdout",
     "output_type": "stream",
     "text": [
      " * Serving Flask app \"dash\" (lazy loading)\n",
      " * Environment: production\n",
      "   WARNING: This is a development server. Do not use it in a production deployment.\n",
      "   Use a production WSGI server instead.\n",
      " * Debug mode: off\n"
     ]
    },
    {
     "name": "stderr",
     "output_type": "stream",
     "text": [
      " * Running on http://127.0.0.1:8050/ (Press CTRL+C to quit)\n",
      "127.0.0.1 - - [17/Aug/2021 11:22:55] \"\u001b[37mGET / HTTP/1.1\u001b[0m\" 200 -\n",
      "127.0.0.1 - - [17/Aug/2021 11:22:55] \"\u001b[37mGET /_dash-layout HTTP/1.1\u001b[0m\" 200 -\n",
      "127.0.0.1 - - [17/Aug/2021 11:22:55] \"\u001b[37mGET /_dash-dependencies HTTP/1.1\u001b[0m\" 200 -\n",
      "127.0.0.1 - - [17/Aug/2021 11:22:55] \"\u001b[37mGET /favicon.ico HTTP/1.1\u001b[0m\" 200 -\n"
     ]
    }
   ],
   "source": [
    "app = dash.Dash()\n",
    "\n",
    "x1 = [2015, 2016, 2017, 2018, 2019, 2020]\n",
    "y1 = [224, 443, 112, 445, 22, 112]\n",
    "\n",
    "x2 = [2015, 2016, 2017, 2018, 2019, 2020]\n",
    "y2 = [2224, 4443, 6112, 5445, 6822, 8112]\n",
    "\n",
    "# Creating traces as usual\n",
    "data = [go.Bar(x=x1, y=y1, name=\"Aayush\"),\n",
    "        go.Bar(x=x2, y=y2, name=\"Real Aayush\")]\n",
    "layout = go.Layout(title=\"This is Shah\")\n",
    "\n",
    "\n",
    "app.layout = html.Div(children=[\n",
    "                            html.H1('Aayush Shah'),\n",
    "                            html.Div(\"\"\"This is Aayush Shah\n",
    "                            This is the first page in the Indian history.\"\"\"),\n",
    "                            dcc.Graph(figure=dict(data=data, layout=layout),  # ← How compact!!!\n",
    "                                      id=\"First\" ### POI ↑ POI ↑ POI ###\n",
    "                                    )])\n",
    "                                    \n",
    "\n",
    "app.run_server()"
   ]
  },
  {
   "cell_type": "markdown",
   "metadata": {},
   "source": [
    "# "
   ]
  },
  {
   "cell_type": "markdown",
   "metadata": {},
   "source": [
    "# Cool... It is enough for this book\n",
    "Next up, we will stylize our page and do more stuff with it."
   ]
  }
 ],
 "metadata": {
  "kernelspec": {
   "display_name": "Python 3",
   "language": "python",
   "name": "python3"
  },
  "language_info": {
   "codemirror_mode": {
    "name": "ipython",
    "version": 3
   },
   "file_extension": ".py",
   "mimetype": "text/x-python",
   "name": "python",
   "nbconvert_exporter": "python",
   "pygments_lexer": "ipython3",
   "version": "3.8.5"
  }
 },
 "nbformat": 4,
 "nbformat_minor": 4
}
