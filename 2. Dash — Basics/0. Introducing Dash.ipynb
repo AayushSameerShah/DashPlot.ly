{
 "cells": [
  {
   "cell_type": "markdown",
   "metadata": {},
   "source": [
    "# <center> **Dash**board </center>"
   ]
  },
  {
   "cell_type": "markdown",
   "metadata": {},
   "source": [
    "#### Features:\n",
    "- Allows the interactivity with the data rather than the part of that data\n",
    "- Runs on the server\n",
    "- Do not need to know HTML or CSS. It is pure python\n",
    "    - Ex. `html.H1(children = \"Header\")` == `<h1> Header </h1>`\n",
    "\n",
    "<br>\n",
    "\n",
    "#### 2 Parts of Dash:\n",
    "1. **Layout** → How the application looks like.\n",
    "2. **Interactivity** → The interaction you give to access the data.\n",
    "\n",
    "<br>\n",
    "\n",
    "#### 2 Libraries of Dash:\n",
    "\n",
    "1. `dash_html_components` (Includes the tag related things like we just seen above)\n",
    "2. `dash_core_components` (For the interactivity and other things - React.js)"
   ]
  },
  {
   "cell_type": "markdown",
   "metadata": {},
   "source": [
    "##### "
   ]
  },
  {
   "cell_type": "markdown",
   "metadata": {},
   "source": [
    "# "
   ]
  },
  {
   "cell_type": "markdown",
   "metadata": {},
   "source": [
    "# "
   ]
  },
  {
   "cell_type": "markdown",
   "metadata": {},
   "source": [
    "# "
   ]
  },
  {
   "cell_type": "markdown",
   "metadata": {},
   "source": [
    "# "
   ]
  },
  {
   "cell_type": "markdown",
   "metadata": {},
   "source": [
    "# Enough Intro... now ***Action***."
   ]
  }
 ],
 "metadata": {
  "kernelspec": {
   "display_name": "Python 3",
   "language": "python",
   "name": "python3"
  },
  "language_info": {
   "codemirror_mode": {
    "name": "ipython",
    "version": 3
   },
   "file_extension": ".py",
   "mimetype": "text/x-python",
   "name": "python",
   "nbconvert_exporter": "python",
   "pygments_lexer": "ipython3",
   "version": "3.8.5"
  }
 },
 "nbformat": 4,
 "nbformat_minor": 4
}
