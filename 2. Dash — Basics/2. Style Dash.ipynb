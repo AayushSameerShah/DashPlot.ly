{
 "cells": [
  {
   "cell_type": "markdown",
   "metadata": {},
   "source": [
    "# S `t` **y** *l* ***e***"
   ]
  },
  {
   "cell_type": "code",
   "execution_count": 1,
   "metadata": {},
   "outputs": [],
   "source": [
    "import dash\n",
    "import dash_core_components as dcc\n",
    "import dash_html_components as html\n",
    "\n",
    "import plotly\n",
    "import plotly.graph_objs as go\n",
    "import plotly.offline as pyo\n",
    "\n",
    "import numpy as np"
   ]
  },
  {
   "cell_type": "markdown",
   "metadata": {},
   "source": [
    "# "
   ]
  },
  {
   "cell_type": "markdown",
   "metadata": {},
   "source": [
    "## Stepping up"
   ]
  },
  {
   "cell_type": "markdown",
   "metadata": {},
   "source": [
    "*A simple color to `HTML elements`*"
   ]
  },
  {
   "cell_type": "code",
   "execution_count": 3,
   "metadata": {},
   "outputs": [
    {
     "name": "stdout",
     "output_type": "stream",
     "text": [
      " * Serving Flask app \"dash\" (lazy loading)\n",
      " * Environment: production\n",
      "   WARNING: This is a development server. Do not use it in a production deployment.\n",
      "   Use a production WSGI server instead.\n",
      " * Debug mode: off\n"
     ]
    },
    {
     "name": "stderr",
     "output_type": "stream",
     "text": [
      " * Running on http://127.0.0.1:8050/ (Press CTRL+C to quit)\n",
      "127.0.0.1 - - [17/Aug/2021 11:37:18] \"\u001b[37mGET / HTTP/1.1\u001b[0m\" 200 -\n",
      "127.0.0.1 - - [17/Aug/2021 11:37:18] \"\u001b[37mGET /_dash-layout HTTP/1.1\u001b[0m\" 200 -\n",
      "127.0.0.1 - - [17/Aug/2021 11:37:18] \"\u001b[37mGET /_dash-dependencies HTTP/1.1\u001b[0m\" 200 -\n",
      "127.0.0.1 - - [17/Aug/2021 11:37:18] \"\u001b[37mGET /favicon.ico HTTP/1.1\u001b[0m\" 200 -\n"
     ]
    }
   ],
   "source": [
    "app = dash.Dash()\n",
    "app.layout = html.Div(children=[\n",
    "                                html.H1(\"The Perfect Symettry\",\n",
    "                                       style={\"font-family\":\"product sans\",\n",
    "                                              \"text-align\":\"center\"})\n",
    "                                ])\n",
    "app.run_server()"
   ]
  },
  {
   "cell_type": "markdown",
   "metadata": {},
   "source": [
    "# "
   ]
  },
  {
   "cell_type": "markdown",
   "metadata": {},
   "source": [
    "*A simple color to `Dash Objects`*"
   ]
  },
  {
   "cell_type": "markdown",
   "metadata": {},
   "source": [
    "**NOTE:** We are *changing* the styles of the PLOTS, which are not made directly with CSS, but with some other services like react.js ans stuff.\n",
    "<br>Now, to change the style of those, will not be same as the html-css styles. But they will be more customized like built in names and others that you will see. "
   ]
  },
  {
   "cell_type": "code",
   "execution_count": 7,
   "metadata": {},
   "outputs": [
    {
     "name": "stdout",
     "output_type": "stream",
     "text": [
      " * Serving Flask app \"dash\" (lazy loading)\n",
      " * Environment: production\n",
      "   WARNING: This is a development server. Do not use it in a production deployment.\n",
      "   Use a production WSGI server instead.\n",
      " * Debug mode: off\n"
     ]
    },
    {
     "name": "stderr",
     "output_type": "stream",
     "text": [
      " * Running on http://127.0.0.1:8050/ (Press CTRL+C to quit)\n"
     ]
    }
   ],
   "source": [
    "app = dash.Dash()\n",
    "\n",
    "x1 = [2015, 2016, 2017, 2018, 2019, 2020]\n",
    "y1 = [224, 443, 112, 445, 22, 112]\n",
    "\n",
    "x2 = [2015, 2016, 2017, 2018, 2019, 2020]\n",
    "y2 = [2224, 4443, 6112, 5445, 6822, 8112]\n",
    "\n",
    "\n",
    "data = [go.Bar(x=x1, y=y1, name=\"Aayush\"),\n",
    "        go.Bar(x=x2, y=y2, name=\"Real Aayush\")]\n",
    "\n",
    "\n",
    "app.layout = html.Div(children=[\n",
    "                                html.H1(\"The Perfect Symettry\",\n",
    "                                       style={\"font-family\":\"product sans\",\n",
    "                                              \"text-align\":\"center\"}),\n",
    "                \n",
    "                                dcc.Graph(figure=dict(data=data,\n",
    "                                                      layout=dict(title=\"Stylized Graph\",\n",
    "                                                                  plot_bgcolor=\"#111122\", ### POI ← POI ###\n",
    "                                                                  paper_bgcolor=\"#123432\", ### POI ← POI ###\n",
    "                                                                  font={\"color\":\"white\"})), ### POI ← POI ###\n",
    "                                         id=\"#\")\n",
    "                                ])\n",
    "app.run_server()"
   ]
  },
  {
   "cell_type": "markdown",
   "metadata": {},
   "source": [
    "___"
   ]
  },
  {
   "cell_type": "markdown",
   "metadata": {},
   "source": [
    "```python\n",
    "dcc.Graph(figure=dict(data=data,\n",
    "                      layout=dict(...,\n",
    "                                  plot_bgcolor=\"#111122\",\n",
    "                                  paper_bgcolor=\"#123432\",\n",
    "                                  font={\"color\":\"white\"})))\n",
    "```\n",
    "See? How cool—customized it is?"
   ]
  },
  {
   "cell_type": "markdown",
   "metadata": {},
   "source": [
    "One more **Quick Note**: <br>\n",
    "If you want the layout style instead of this ↑ style... you also can pass like this ↓\n",
    "```python\n",
    "data = [go.Scatter(...), go.Scatter(...)]\n",
    "layout = go.Layout(..., plot_bgcolor=\"red\", paper_bgcolor=\"blue\", font=dict(color=\"white\")) # ← This one\n",
    "\n",
    "app.layout = html.Div(children=[...,                \n",
    "                                dcc.Graph(figure=dict(data=data, layout=layout,\n",
    "                                                      id=\"#\"))]\n",
    "```\n",
    "Easy an amazing!"
   ]
  },
  {
   "cell_type": "markdown",
   "metadata": {},
   "source": [
    "___"
   ]
  },
  {
   "cell_type": "markdown",
   "metadata": {},
   "source": [
    "# "
   ]
  },
  {
   "cell_type": "markdown",
   "metadata": {},
   "source": [
    "*A style to `Layout itself`*"
   ]
  },
  {
   "cell_type": "markdown",
   "metadata": {},
   "source": [
    "Now, what do I mean by layout? It is simple — `<body>` tag.\n",
    "\n",
    "If you have tried to type `html.Bo<TAB>` then you have noticed that ***there is no Body tag*** in the list! So how am I supposed to give the main background color or some other global stuff without that tag? <br>\n",
    "— <br>\n",
    "The thing is, we need to append `External CSS` with the body tag configurations. But for now, we can work with the DIV tag's style as shown below."
   ]
  },
  {
   "cell_type": "code",
   "execution_count": 9,
   "metadata": {},
   "outputs": [
    {
     "name": "stdout",
     "output_type": "stream",
     "text": [
      " * Serving Flask app \"dash\" (lazy loading)\n",
      " * Environment: production\n",
      "   WARNING: This is a development server. Do not use it in a production deployment.\n",
      "   Use a production WSGI server instead.\n",
      " * Debug mode: off\n"
     ]
    },
    {
     "name": "stderr",
     "output_type": "stream",
     "text": [
      " * Running on http://127.0.0.1:8050/ (Press CTRL+C to quit)\n",
      "127.0.0.1 - - [17/Aug/2021 11:52:06] \"\u001b[37mGET / HTTP/1.1\u001b[0m\" 200 -\n",
      "127.0.0.1 - - [17/Aug/2021 11:52:06] \"\u001b[37mGET /_dash-layout HTTP/1.1\u001b[0m\" 200 -\n",
      "127.0.0.1 - - [17/Aug/2021 11:52:06] \"\u001b[37mGET /_dash-dependencies HTTP/1.1\u001b[0m\" 200 -\n",
      "127.0.0.1 - - [17/Aug/2021 11:52:06] \"\u001b[37mGET /favicon.ico HTTP/1.1\u001b[0m\" 200 -\n"
     ]
    }
   ],
   "source": [
    "app = dash.Dash()\n",
    "\n",
    "x1 = [2015, 2016, 2017, 2018, 2019, 2020]\n",
    "y1 = [224, 443, 112, 445, 22, 112]\n",
    "\n",
    "x2 = [2015, 2016, 2017, 2018, 2019, 2020]\n",
    "y2 = [2224, 4443, 6112, 5445, 6822, 8112]\n",
    "\n",
    "\n",
    "data = [go.Bar(x=x1, y=y1, name=\"Aayush\"),\n",
    "        go.Bar(x=x2, y=y2, name=\"Real Aayush\")]\n",
    "\n",
    "\n",
    "app.layout = html.Div(children=[\n",
    "                                html.H1(\"The Perfect Symettry\",\n",
    "                                       style={\"font-family\":\"product sans\",\n",
    "                                              \"text-align\":\"center\"}),\n",
    "                \n",
    "                                dcc.Graph(figure=dict(data=data,\n",
    "                                                      layout=dict(title=\"Stylized Graph\",\n",
    "                                                                  plot_bgcolor=\"#111122\", ### POI ← POI ###\n",
    "                                                                  paper_bgcolor=\"#123432\", ### POI ← POI ###\n",
    "                                                                  font={\"color\":\"white\"})), ### POI ← POI ###\n",
    "                                         id=\"#\")\n",
    "                                ],\n",
    "                     style={\"background-color\":\"pink\"})\n",
    "app.run_server()    ### POI ↑ POI ###"
   ]
  },
  {
   "cell_type": "markdown",
   "metadata": {},
   "source": [
    "```python\n",
    "app.layout = html.Div(children=[...]\n",
    "                      style={\"background-color\":\"pink\"})\n",
    "app.run_server()       ### POI ↑ POI ###\n",
    "```"
   ]
  },
  {
   "cell_type": "markdown",
   "metadata": {},
   "source": [
    "# "
   ]
  },
  {
   "cell_type": "markdown",
   "metadata": {},
   "source": [
    "# Next up\n",
    "We will do something new."
   ]
  }
 ],
 "metadata": {
  "kernelspec": {
   "display_name": "Python 3",
   "language": "python",
   "name": "python3"
  },
  "language_info": {
   "codemirror_mode": {
    "name": "ipython",
    "version": 3
   },
   "file_extension": ".py",
   "mimetype": "text/x-python",
   "name": "python",
   "nbconvert_exporter": "python",
   "pygments_lexer": "ipython3",
   "version": "3.8.5"
  }
 },
 "nbformat": 4,
 "nbformat_minor": 4
}
