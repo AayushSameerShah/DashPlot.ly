{
 "cells": [
  {
   "cell_type": "markdown",
   "metadata": {},
   "source": [
    "# HTML Components"
   ]
  },
  {
   "cell_type": "markdown",
   "metadata": {},
   "source": [
    "Here is not a new thing that we are going to do... this book just introduces how the Hierarchy is maintained and how the CSS is given to the html components. \n",
    "\n",
    "The things that I am going to show now, are the same that we have done already in the Dash Basics. So, just for the sake of this course, I am going to implement just a single one."
   ]
  },
  {
   "cell_type": "code",
   "execution_count": 1,
   "metadata": {},
   "outputs": [],
   "source": [
    "import plotly, plotly.graph_objs as go, plotly.offline as pyo\n",
    "import dash, dash_core_components as dcc, dash_html_components as html"
   ]
  },
  {
   "cell_type": "code",
   "execution_count": null,
   "metadata": {},
   "outputs": [],
   "source": [
    "app = dash.Dash()\n",
    "app.layout = html.Div(children=[\"Most Outer Div\",\n",
    "                                html.Div(children=[\n",
    "                                                  \"Middle Innter Div\",\n",
    "                                                  html.Div([\"Most Innter Div\"], style=dict(\n",
    "                                                            border=\"1px green solid\",\n",
    "                                                            color=\"green\"))\n",
    "                                    \n",
    "                                                  ],style=dict(\n",
    "                                                            border=\"1px blue solid\",\n",
    "                                                            color=\"blue\")),\n",
    "                                \n",
    "                                \"Most Outer Div\"], style=dict(\n",
    "                                                            border=\"1px red solid\",\n",
    "                                                            color=\"red\"))\n",
    "app.run_server()"
   ]
  },
  {
   "cell_type": "markdown",
   "metadata": {},
   "source": [
    "I know, the code becomes so ugly when there is hierarchy, but this is the way it is!"
   ]
  },
  {
   "cell_type": "markdown",
   "metadata": {},
   "source": [
    "—"
   ]
  },
  {
   "cell_type": "markdown",
   "metadata": {},
   "source": [
    "**There is one more new HTML comp** to show the text original tylized way — `<pre>`. More on this in the `6. Dash — More Interaction → 1. Hover Interaction.ipynb`. Which basically acts as when you press `<TAB>` in markdown, all text become monospaced and all spaces are getting printed.\n",
    "\n",
    "Ex.<br>\n",
    "—<br>\n",
    "\n",
    "This is simple text.\n",
    "\n",
    "    This is the text in <PRE> html tag which doesn't care of how much space you     g   i   ve. "
   ]
  },
  {
   "cell_type": "markdown",
   "metadata": {},
   "source": [
    "# "
   ]
  },
  {
   "cell_type": "markdown",
   "metadata": {},
   "source": [
    "# Next up!\n",
    "Some Dash Core Comps."
   ]
  }
 ],
 "metadata": {
  "kernelspec": {
   "display_name": "Python 3",
   "language": "python",
   "name": "python3"
  },
  "language_info": {
   "codemirror_mode": {
    "name": "ipython",
    "version": 3
   },
   "file_extension": ".py",
   "mimetype": "text/x-python",
   "name": "python",
   "nbconvert_exporter": "python",
   "pygments_lexer": "ipython3",
   "version": "3.8.5"
  }
 },
 "nbformat": 4,
 "nbformat_minor": 4
}
