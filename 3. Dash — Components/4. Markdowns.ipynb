{
 "cells": [
  {
   "cell_type": "markdown",
   "metadata": {},
   "source": [
    "# Markdowns!"
   ]
  },
  {
   "cell_type": "markdown",
   "metadata": {},
   "source": [
    "You might be thinking, why am I so excited with the Markdowns. The things is I have been familiar with Markdown morethan a year now, and have made many notebooks which look awsome to me. \n",
    "\n",
    "Markdown actully allow me to write more stuff in a clear and engaging way without writing the repeatative html code. The cooler thing is we can also use html in markdown. I have used much much markdown in [Pandas Book (Repository)](https://github.com/AayushSameerShah/Pandas_Book) which I have created a while ago."
   ]
  },
  {
   "cell_type": "markdown",
   "metadata": {},
   "source": [
    "Back to the job. <br>\n",
    "— <br>\n",
    "#### What is markdown doing in the dash?\n"
   ]
  },
  {
   "cell_type": "markdown",
   "metadata": {},
   "source": [
    "I don't exactly know this, but I think, when learning Dash, we essentially are making the webpage but with graphs. So if in case, we want to write more stuff and include explanation—we might need markdown. Now, we are using that in the dash, so dash should support it. So yeah."
   ]
  },
  {
   "cell_type": "markdown",
   "metadata": {},
   "source": [
    "#### It is not big.\n",
    "It is just a single line of code to include a markdown. Let's see how."
   ]
  },
  {
   "cell_type": "markdown",
   "metadata": {},
   "source": [
    "# "
   ]
  },
  {
   "cell_type": "code",
   "execution_count": 1,
   "metadata": {},
   "outputs": [],
   "source": [
    "import dash\n",
    "import dash_core_components as dcc\n",
    "import dash_html_components as html"
   ]
  },
  {
   "cell_type": "code",
   "execution_count": 2,
   "metadata": {},
   "outputs": [],
   "source": [
    "markdown_text = \\\n",
    "\"\"\"\n",
    "# Markdown in Dash\n",
    "\n",
    "You might be thinking, why am I so excited with the Markdowns. The things is I have been familiar with Markdown morethan a year now,\n",
    "and have made many notebooks which look awsome to me. \n",
    "\n",
    "Markdown actully allow me to write more stuff in a clear and engaging way without writing the repeatative html code.\n",
    "The cooler thing is we can also use html in markdown. I have used much much markdown in [Pandas Book (Repository)](https://github.com/AayushSameerShah/Pandas_Book)\n",
    "which I have created a while ago.\n",
    "\"\"\""
   ]
  },
  {
   "cell_type": "code",
   "execution_count": null,
   "metadata": {},
   "outputs": [],
   "source": [
    "app = dash.Dash()\n",
    "app.layout = html.Div(children=[\n",
    "                    dcc.Markdown(markdown_text)])\n",
    "app.run_server()"
   ]
  },
  {
   "cell_type": "markdown",
   "metadata": {},
   "source": [
    "Yeah! It is that easy! <br>\n",
    "Just remember this: **Markdown in Dash is NOT from <strike>`html.Markdown`</strike>. But is from `dcc.Markdown`**"
   ]
  },
  {
   "cell_type": "markdown",
   "metadata": {},
   "source": [
    "# "
   ]
  },
  {
   "cell_type": "markdown",
   "metadata": {},
   "source": [
    "# That's it!\n",
    "Really!"
   ]
  }
 ],
 "metadata": {
  "kernelspec": {
   "display_name": "Python 3",
   "language": "python",
   "name": "python3"
  },
  "language_info": {
   "codemirror_mode": {
    "name": "ipython",
    "version": 3
   },
   "file_extension": ".py",
   "mimetype": "text/x-python",
   "name": "python",
   "nbconvert_exporter": "python",
   "pygments_lexer": "ipython3",
   "version": "3.8.5"
  }
 },
 "nbformat": 4,
 "nbformat_minor": 4
}
