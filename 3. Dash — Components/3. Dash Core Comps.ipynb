{
 "cells": [
  {
   "cell_type": "markdown",
   "metadata": {},
   "source": [
    "# Dash Core Components"
   ]
  },
  {
   "cell_type": "markdown",
   "metadata": {},
   "source": [
    "*They are the high level abstract that allows you to quickly place the comps to the dashboard*"
   ]
  },
  {
   "cell_type": "markdown",
   "metadata": {},
   "source": [
    "[This link](https://dash.plotly.com/dash-core-components) includes the corecomponents' list. (Really Amazing)"
   ]
  },
  {
   "cell_type": "markdown",
   "metadata": {},
   "source": [
    "# "
   ]
  },
  {
   "cell_type": "markdown",
   "metadata": {},
   "source": [
    "### What are they?"
   ]
  },
  {
   "cell_type": "markdown",
   "metadata": {},
   "source": [
    "Have you heard of \"Slider\", \"Dropdown\", \"Range\"... they are the DCC. And the `dcc.Graph` which we just saw, was the part of DCC. "
   ]
  },
  {
   "cell_type": "markdown",
   "metadata": {},
   "source": [
    "—"
   ]
  },
  {
   "cell_type": "markdown",
   "metadata": {},
   "source": [
    "### Here in this notebook..."
   ]
  },
  {
   "cell_type": "markdown",
   "metadata": {},
   "source": [
    "We will see the syntax and different types of DCCs. We will cover HOW TO handle the values, later in other book. Here—Just how to show is covered. You know, baby steps."
   ]
  },
  {
   "cell_type": "markdown",
   "metadata": {},
   "source": [
    "##### "
   ]
  },
  {
   "cell_type": "code",
   "execution_count": 1,
   "metadata": {},
   "outputs": [],
   "source": [
    "import dash\n",
    "import dash_core_components as dcc\n",
    "import dash_html_components as html"
   ]
  },
  {
   "cell_type": "markdown",
   "metadata": {},
   "source": [
    "As discussed, `dcc.Graph` which we have just learnt in the previous section is as 'part' of DCC. So, the implementation is go the same with other widgets. Let's have a look at our first candidate: Dropdown"
   ]
  },
  {
   "cell_type": "markdown",
   "metadata": {},
   "source": [
    "###### "
   ]
  },
  {
   "cell_type": "markdown",
   "metadata": {},
   "source": [
    "## Dropdown"
   ]
  },
  {
   "cell_type": "code",
   "execution_count": null,
   "metadata": {},
   "outputs": [],
   "source": [
    "app = dash.Dash()\n",
    "app.layout = html.Div(children=[\n",
    "                            html.Label(\"Select City\"),\n",
    "                            dcc.Dropdown(options=[\n",
    "                                            {\"label\":\"India\", \"value\":\"IN\"},\n",
    "                                            {\"label\":\"United States\", \"value\":\"US\"},\n",
    "                                            {\"label\":\"United Kingdom\", \"value\":\"UK\"}\n",
    "                                                 ])\n",
    "                              ])\n",
    "app.run_server()"
   ]
  },
  {
   "cell_type": "markdown",
   "metadata": {},
   "source": [
    "##### It was the simplest one. I mean really nice."
   ]
  },
  {
   "cell_type": "markdown",
   "metadata": {},
   "source": [
    "So the thing is...\n",
    "```python\n",
    "app.layout = html.Div(children=[\n",
    "                            html.Label(\"Select City\"), ## 1 ##\n",
    "                            dcc.Dropdown(options=[ {}, {} ])  ## 2 ##\n",
    "                              ])\n",
    "```\n",
    "\n",
    "**`## 1 ##`**: New thing introduced `Label` it is an html tag, which specifically is used to put the text with the input widgets<br>\n",
    "**`## 2 ##`**: The Dropdown widget requires the Dict with *label* and *value* which of them displays and other to access in the back."
   ]
  },
  {
   "cell_type": "markdown",
   "metadata": {},
   "source": [
    "#### Setting <u>Default</u> selection in Dropdown"
   ]
  },
  {
   "cell_type": "code",
   "execution_count": null,
   "metadata": {},
   "outputs": [],
   "source": [
    "app = dash.Dash()\n",
    "app.layout = html.Div(children=[\n",
    "                            html.Label(\"Select City\"),\n",
    "                            dcc.Dropdown(options=[\n",
    "                                            {\"label\":\"India\", \"value\":\"IN\"},\n",
    "                                            {\"label\":\"United States\", \"value\":\"US\"},\n",
    "                                            {\"label\":\"United Kingdom\", \"value\":\"UK\"}\n",
    "                                                 ],\n",
    "                                        value=\"IN\") ### POI  ← POI ###\n",
    "                              ])\n",
    "app.run_server()"
   ]
  },
  {
   "cell_type": "markdown",
   "metadata": {},
   "source": [
    "Just add `value` as a parameter. <br>\n",
    "**NOTE**: You need to pass only ***those*** as the value which are in the list of dicts ***AS*** value parameter. Ex. passing \"India\" won't work. You need to pass \"IN\", \"US\", or \"UK\"."
   ]
  },
  {
   "cell_type": "markdown",
   "metadata": {},
   "source": [
    "# "
   ]
  },
  {
   "cell_type": "markdown",
   "metadata": {},
   "source": [
    "## Slider"
   ]
  },
  {
   "cell_type": "code",
   "execution_count": null,
   "metadata": {},
   "outputs": [],
   "source": [
    "app = dash.Dash()\n",
    "app.layout = html.Div(children=[\n",
    "                            html.Label(\"What is your age?\"),\n",
    "                            dcc.Slider(min=0, max=100)\n",
    "                              ])\n",
    "app.run_server()"
   ]
  },
  {
   "cell_type": "markdown",
   "metadata": {},
   "source": [
    "##### Adding `Step size`"
   ]
  },
  {
   "cell_type": "code",
   "execution_count": null,
   "metadata": {},
   "outputs": [],
   "source": [
    "app = dash.Dash()\n",
    "app.layout = html.Div(children=[\n",
    "                            html.Label(\"What is your age?\"),\n",
    "                            dcc.Slider(min=0, max=100, step=10)\n",
    "                               ])               ### POI ↑ POI ###\n",
    "                              \n",
    "app.run_server()"
   ]
  },
  {
   "cell_type": "markdown",
   "metadata": {},
   "source": [
    "##### Adding `Default Location to Start`"
   ]
  },
  {
   "cell_type": "code",
   "execution_count": null,
   "metadata": {},
   "outputs": [],
   "source": [
    "app = dash.Dash()\n",
    "app.layout = html.Div(children=[\n",
    "                            html.Label(\"What is your age?\"),\n",
    "                            dcc.Slider(min=0, max=100, step=10, value=15)\n",
    "                              ])                        ### POI ↑ POI ###\n",
    "app.run_server()"
   ]
  },
  {
   "cell_type": "markdown",
   "metadata": {},
   "source": [
    "\n",
    "**Quick Help**: Now, note that, we have given the `step = 10` and the default value is `15` **which it will not show in the middle of 10 and 20** because the step is 10. Instead it will show on the 20th mark. Because 15 is larger than 10."
   ]
  },
  {
   "cell_type": "markdown",
   "metadata": {},
   "source": [
    "##### Adding `Marks` (Really helpful)"
   ]
  },
  {
   "cell_type": "code",
   "execution_count": null,
   "metadata": {},
   "outputs": [],
   "source": [
    "app = dash.Dash()\n",
    "app.layout = html.Div(children=[\n",
    "                            html.Label(\"What is your age?\"),\n",
    "                            dcc.Slider(min=0, max=100, step=10, value=15,\n",
    "                                      marks={i : i for i in range(0, 100, 10)})\n",
    "                              ])  ### POI ↑ POI ###\n",
    "app.run_server()"
   ]
  },
  {
   "cell_type": "markdown",
   "metadata": {},
   "source": [
    "See? As the step is different in the `range()` it will only show where the value matches."
   ]
  },
  {
   "cell_type": "markdown",
   "metadata": {},
   "source": [
    "But if... you change the **step** in the range, it will simply give more detailed values, so... it will OVERRIDE the step in the slider and instead of **step = 10**, it will be **step = 2**."
   ]
  },
  {
   "cell_type": "code",
   "execution_count": null,
   "metadata": {},
   "outputs": [],
   "source": [
    "app = dash.Dash()\n",
    "app.layout = html.Div(children=[\n",
    "                            html.Label(\"What is your age?\"),\n",
    "                            dcc.Slider(min=0, max=100, step=10, value=15,\n",
    "                                      marks={i : i for i in range(0, 100, 2)})\n",
    "                              ])                                  ### POI ↑ POI ###\n",
    "app.run_server()"
   ]
  },
  {
   "cell_type": "markdown",
   "metadata": {},
   "source": [
    "**Syntax Analysis**\n",
    "```python\n",
    "dcc.Slider(...,         # ↓ What to show there\n",
    "           marks={value : label})\n",
    "                 # ↑ for the value on the slider\n",
    "```"
   ]
  },
  {
   "cell_type": "markdown",
   "metadata": {},
   "source": [
    "So, that means, we can even pass other strings."
   ]
  },
  {
   "cell_type": "markdown",
   "metadata": {},
   "source": [
    "# "
   ]
  },
  {
   "cell_type": "markdown",
   "metadata": {},
   "source": [
    "## Radio Buttons"
   ]
  },
  {
   "cell_type": "markdown",
   "metadata": {},
   "source": [
    "*If you know Dropdown, then Radio button is just the same*"
   ]
  },
  {
   "cell_type": "code",
   "execution_count": null,
   "metadata": {},
   "outputs": [],
   "source": [
    "app = dash.Dash()\n",
    "app.layout = html.Div(children=[\n",
    "                            html.Label(\"Choose City\"),\n",
    "                            dcc.RadioItems(options=[                                        # ← S\n",
    "                                            {\"label\":\"India\", \"value\":\"IN\"},                # ← A\n",
    "                                            {\"label\":\"United States\", \"value\":\"US\"},        # ← M\n",
    "                                            {\"label\":\"United Kingdom\", \"value\":\"UK\"}        # ← E\n",
    "                                                   ],                                       # Stuff\n",
    "                                           value=\"IN\")\n",
    "                              ])       ### ↑ This one too! ###\n",
    "app.run_server()"
   ]
  },
  {
   "cell_type": "markdown",
   "metadata": {},
   "source": [
    "# "
   ]
  },
  {
   "cell_type": "markdown",
   "metadata": {},
   "source": [
    "# That's it!\n",
    "I mean really. There are many other widgets, but as the course says - they might be covered in the later sections. They can also be learnt from the docs. So... that's it for now.\n",
    "\n",
    "Next up, we will take a look at → Mark downs!!"
   ]
  }
 ],
 "metadata": {
  "kernelspec": {
   "display_name": "Python 3",
   "language": "python",
   "name": "python3"
  },
  "language_info": {
   "codemirror_mode": {
    "name": "ipython",
    "version": 3
   },
   "file_extension": ".py",
   "mimetype": "text/x-python",
   "name": "python",
   "nbconvert_exporter": "python",
   "pygments_lexer": "ipython3",
   "version": "3.8.5"
  }
 },
 "nbformat": 4,
 "nbformat_minor": 4
}
