{
 "cells": [
  {
   "cell_type": "markdown",
   "metadata": {},
   "source": [
    "# Hey, Me!\n"
   ]
  },
  {
   "cell_type": "markdown",
   "metadata": {},
   "source": [
    "After long time han! Great."
   ]
  },
  {
   "cell_type": "markdown",
   "metadata": {},
   "source": [
    "I am really excited to take this course. Because after a long time (**Google Data Analtyics** - 3.5 months) I wanted to keep learning faster. I had a couple of courses enrolled on Coursera, I tried one of **AWS ML** and got the certificate, but... that *wasn't* one that I thought it would be. \n",
    "\n",
    "Then again, I took **Google Cloud for Azure professional**, haha by any means, I am not an Azure professional *now*, but still to learn, **I took it**. But after *3 days*, it looked like I am wasting my time. *I left* that. Nothing was going inside my mind. Then took another one called **Aruba Networking basics**. It was *shitty* as well.\n",
    "\n",
    "I started feeling that I need not to learn about ML or some kind of technical stuff for now. I needed a gap. But that gap should not be a waste of time. My mind was constantly getting attracted to the course \"Interactive Plots with Plotly and Dash\" but I was keeping it for later. Now, I knew, I needed to take this one. So, yeah it feels like it is a right choice."
   ]
  },
  {
   "cell_type": "markdown",
   "metadata": {},
   "source": [
    "**Today** is 10th Aug 2021, so starting it officially. And will see till when it lasts."
   ]
  },
  {
   "cell_type": "markdown",
   "metadata": {},
   "source": [
    "##### "
   ]
  },
  {
   "cell_type": "markdown",
   "metadata": {},
   "source": [
    "## How to read the files\n",
    "The other thing that I want to share before starting all technical stuff is that, the course itself introduces to code in the IDE, but a goal like this to learn the plots with multiple independent / dependent parts, I need to sink through the code and try new things. And also after some time, when **YOU** come here to refresh the concepts, it should be clear as well. So I have chosen to code in JupyterLab becuse it provides the Markdown (my favourite stuff) and the code blocks. \n",
    "\n",
    "This is not a concept course, I mean not like other courses of ML and so which requires much explanation but still I have tried to devide the codes in seperate sections for a clear idea and easy easching."
   ]
  },
  {
   "cell_type": "markdown",
   "metadata": {},
   "source": [
    "# "
   ]
  },
  {
   "cell_type": "markdown",
   "metadata": {},
   "source": [
    "#### It is gonna be amazing. Let's get going.\n",
    "Aayush ∞ Shah"
   ]
  }
 ],
 "metadata": {
  "kernelspec": {
   "display_name": "Python 3",
   "language": "python",
   "name": "python3"
  },
  "language_info": {
   "codemirror_mode": {
    "name": "ipython",
    "version": 3
   },
   "file_extension": ".py",
   "mimetype": "text/x-python",
   "name": "python",
   "nbconvert_exporter": "python",
   "pygments_lexer": "ipython3",
   "version": "3.8.5"
  }
 },
 "nbformat": 4,
 "nbformat_minor": 4
}
