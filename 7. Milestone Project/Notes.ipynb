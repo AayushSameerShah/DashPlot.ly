{
 "cells": [
  {
   "cell_type": "markdown",
   "metadata": {},
   "source": [
    "# Bro!\n",
    "Finally we have reached to that point where we are going to implement the project in our own.\n",
    "\n",
    "### Main Thing\n",
    "This time, I am not going to implement the project and the code directly here, in the jupyter lab. But instead there will be a ingle .py file which you can run. The reason is because it looks good to code in the IDE instead of the notebook for such a long code.\n",
    "\n",
    "### Thanks!\n",
    "Now just go and check out the `project.py` file and just hit run."
   ]
  }
 ],
 "metadata": {
  "kernelspec": {
   "display_name": "Python 3",
   "language": "python",
   "name": "python3"
  },
  "language_info": {
   "codemirror_mode": {
    "name": "ipython",
    "version": 3
   },
   "file_extension": ".py",
   "mimetype": "text/x-python",
   "name": "python",
   "nbconvert_exporter": "python",
   "pygments_lexer": "ipython3",
   "version": "3.8.5"
  }
 },
 "nbformat": 4,
 "nbformat_minor": 4
}
