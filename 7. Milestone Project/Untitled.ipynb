{
 "cells": [
  {
   "cell_type": "code",
   "execution_count": 4,
   "metadata": {},
   "outputs": [
    {
     "name": "stdout",
     "output_type": "stream",
     "text": [
      " * Serving Flask app \"dash\" (lazy loading)\n",
      " * Environment: production\n",
      "   WARNING: This is a development server. Do not use it in a production deployment.\n",
      "   Use a production WSGI server instead.\n",
      " * Debug mode: off\n"
     ]
    },
    {
     "name": "stderr",
     "output_type": "stream",
     "text": [
      " * Running on http://127.0.0.1:8050/ (Press CTRL+C to quit)\n"
     ]
    }
   ],
   "source": [
    "import dash\n",
    "import dash_core_components as dcc\n",
    "import dash_html_components as html\n",
    "from dash.dependencies import Output, Input, State\n",
    "\n",
    "from pandas.core.indexes import multi\n",
    "import plotly.graph_objs as go\n",
    "\n",
    "import pandas as pd\n",
    "import pandas_datareader as pdr\n",
    "from datetime import date\n",
    "\n",
    "nasdaq = pd.read_pickle(\"./nasdaq\")\n",
    "\n",
    "'''Main Page'''\n",
    "app = dash.Dash()\n",
    "\n",
    "'''Individual Widgets'''\n",
    "# 1.\n",
    "drop_down = dcc.Dropdown(\n",
    "                options=[\n",
    "                    {\"label\":face_value, \"value\":value}\n",
    "                    for value, face_value in nasdaq.values\n",
    "                ],\n",
    "                multi=True,\n",
    "                id=\"stocks_picker\"\n",
    "            )   \n",
    "\n",
    "# 2.\n",
    "date_picker = dcc.DatePickerRange(\n",
    "                id='date_picker',\n",
    "                min_date_allowed = date(2000, 1, 1),\n",
    "                start_date = date(2016, 1, 1),\n",
    "                start_date_placeholder_text = 'From Date', \n",
    "                end_date_placeholder_text = 'To Date', \n",
    "            )\n",
    "\n",
    "app.layout = html.Div(children=[\n",
    "                html.Div([\n",
    "                    html.Label(\"Choose Stock(s)\"),\n",
    "                    drop_down\n",
    "                    ], style={\"display\":\"inline-block\", \n",
    "                          \"width\":\"40%\"}\n",
    "                ),\n",
    "                html.Div([\n",
    "                    html.Label(\"Choose Date Range (Choose nothing for all data)\"),\n",
    "                    date_picker\n",
    "                    ], style={\"display\":\"inline-block\", \n",
    "                          \"width\":\"40%\"}\n",
    "                ),\n",
    "                html.Div([\n",
    "                    html.Button(children=\"Get Data\", id=\"submit\")\n",
    "                    ], style={\"display\":\"inline-block\", \n",
    "                          \"width\":\"10%\"}\n",
    "                ),\n",
    "                html.Div([\n",
    "                    dcc.Graph(id=\"graph\")\n",
    "                    ]\n",
    "                ),\n",
    "    \n",
    "])\n",
    "\n",
    "@app.callback(Output(\"graph\", \"figure\"),\n",
    "             [Input(\"submit\", \"n_clicks\")],\n",
    "             [State(\"stocks_picker\", \"value\"),\n",
    "              State(\"date_picker\", \"start_date\"),\n",
    "              State(\"date_picker\", \"end_date\")])\n",
    "def update_values(_, stocks, start_date, end_date):\n",
    "    print(stocks, start_date, end_date, end=\"\\n-----------\\n\")\n",
    "    if stocks:\n",
    "        all_stocks = []\n",
    "        for stock in stocks:\n",
    "            data = pdr.get_data_yahoo(stock, start_date, end_date)[\"Close\"].rename(stock)\n",
    "            all_stocks.append(data)\n",
    "        all_stocks = pd.DataFrame(all_stocks).T\n",
    "        \n",
    "        traces = [go.Scatter(x=all_stocks.index,\n",
    "                             y=all_stocks[stock],\n",
    "                             mode='lines',\n",
    "                             name=stock)\n",
    "                 for stock in all_stocks.columns]\n",
    "        layout = go.Layout(title=f\"The stock prices of {len(all_stocks.columns)} stocks\")\n",
    "        figure = go.Figure(data=traces, layout=layout)\n",
    "        return figure\n",
    "    return None\n",
    "\n",
    "app.run_server()"
   ]
  },
  {
   "cell_type": "code",
   "execution_count": null,
   "metadata": {},
   "outputs": [],
   "source": []
  }
 ],
 "metadata": {
  "interpreter": {
   "hash": "b3ba2566441a7c06988d0923437866b63cedc61552a5af99d1f4fb67d367b25f"
  },
  "kernelspec": {
   "display_name": "Python 3",
   "language": "python",
   "name": "python3"
  },
  "language_info": {
   "codemirror_mode": {
    "name": "ipython",
    "version": 3
   },
   "file_extension": ".py",
   "mimetype": "text/x-python",
   "name": "python",
   "nbconvert_exporter": "python",
   "pygments_lexer": "ipython3",
   "version": "3.8.5"
  }
 },
 "nbformat": 4,
 "nbformat_minor": 4
}
