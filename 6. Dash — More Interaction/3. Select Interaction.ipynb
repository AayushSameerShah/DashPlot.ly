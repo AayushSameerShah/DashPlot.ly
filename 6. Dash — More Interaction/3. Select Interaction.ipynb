{
 "cells": [
  {
   "cell_type": "markdown",
   "metadata": {},
   "source": [
    "# Select Interaction\n",
    "Once again! Just a small change instead of `hoverData` or `clickData` we will use `selectedData`. \n",
    "\n",
    "**Don't Skip this book**<br> It contains more things. Just keep scrolling."
   ]
  },
  {
   "cell_type": "markdown",
   "metadata": {},
   "source": [
    "# "
   ]
  },
  {
   "cell_type": "markdown",
   "metadata": {},
   "source": [
    "## Showing Usual Change"
   ]
  },
  {
   "cell_type": "code",
   "execution_count": 1,
   "metadata": {},
   "outputs": [],
   "source": [
    "import dash\n",
    "import dash_core_components as dcc\n",
    "import dash_html_components as html\n",
    "from dash.dependencies import Input, Output\n",
    "\n",
    "import plotly.offline as pyo\n",
    "import plotly.graph_objs as go\n",
    "\n",
    "import pandas as pd\n",
    "import json"
   ]
  },
  {
   "cell_type": "code",
   "execution_count": 2,
   "metadata": {},
   "outputs": [
    {
     "data": {
      "text/html": [
       "<div>\n",
       "<style scoped>\n",
       "    .dataframe tbody tr th:only-of-type {\n",
       "        vertical-align: middle;\n",
       "    }\n",
       "\n",
       "    .dataframe tbody tr th {\n",
       "        vertical-align: top;\n",
       "    }\n",
       "\n",
       "    .dataframe thead th {\n",
       "        text-align: right;\n",
       "    }\n",
       "</style>\n",
       "<table border=\"1\" class=\"dataframe\">\n",
       "  <thead>\n",
       "    <tr style=\"text-align: right;\">\n",
       "      <th></th>\n",
       "      <th>wheels</th>\n",
       "      <th>color</th>\n",
       "      <th>image</th>\n",
       "    </tr>\n",
       "  </thead>\n",
       "  <tbody>\n",
       "    <tr>\n",
       "      <th>0</th>\n",
       "      <td>1</td>\n",
       "      <td>red</td>\n",
       "      <td>redunicycle.jpg</td>\n",
       "    </tr>\n",
       "    <tr>\n",
       "      <th>1</th>\n",
       "      <td>1</td>\n",
       "      <td>blue</td>\n",
       "      <td>blueunicycle.jpg</td>\n",
       "    </tr>\n",
       "    <tr>\n",
       "      <th>2</th>\n",
       "      <td>1</td>\n",
       "      <td>yellow</td>\n",
       "      <td>yellowunicycle.jpg</td>\n",
       "    </tr>\n",
       "    <tr>\n",
       "      <th>3</th>\n",
       "      <td>2</td>\n",
       "      <td>red</td>\n",
       "      <td>redbicycle.jpg</td>\n",
       "    </tr>\n",
       "    <tr>\n",
       "      <th>4</th>\n",
       "      <td>2</td>\n",
       "      <td>blue</td>\n",
       "      <td>bluemotorcycle.jpg</td>\n",
       "    </tr>\n",
       "    <tr>\n",
       "      <th>5</th>\n",
       "      <td>2</td>\n",
       "      <td>yellow</td>\n",
       "      <td>yellowscooter.jpg</td>\n",
       "    </tr>\n",
       "    <tr>\n",
       "      <th>6</th>\n",
       "      <td>3</td>\n",
       "      <td>red</td>\n",
       "      <td>redtricycle.jpg</td>\n",
       "    </tr>\n",
       "    <tr>\n",
       "      <th>7</th>\n",
       "      <td>3</td>\n",
       "      <td>blue</td>\n",
       "      <td>bluetricycle.jpg</td>\n",
       "    </tr>\n",
       "    <tr>\n",
       "      <th>8</th>\n",
       "      <td>3</td>\n",
       "      <td>yellow</td>\n",
       "      <td>yellowrickshaw.jpg</td>\n",
       "    </tr>\n",
       "  </tbody>\n",
       "</table>\n",
       "</div>"
      ],
      "text/plain": [
       "   wheels   color               image\n",
       "0       1     red     redunicycle.jpg\n",
       "1       1    blue    blueunicycle.jpg\n",
       "2       1  yellow  yellowunicycle.jpg\n",
       "3       2     red      redbicycle.jpg\n",
       "4       2    blue  bluemotorcycle.jpg\n",
       "5       2  yellow   yellowscooter.jpg\n",
       "6       3     red     redtricycle.jpg\n",
       "7       3    blue    bluetricycle.jpg\n",
       "8       3  yellow  yellowrickshaw.jpg"
      ]
     },
     "execution_count": 2,
     "metadata": {},
     "output_type": "execute_result"
    }
   ],
   "source": [
    "df = pd.read_csv(\"../data/data/wheels.csv\")\n",
    "df"
   ]
  },
  {
   "cell_type": "code",
   "execution_count": 6,
   "metadata": {},
   "outputs": [],
   "source": [
    "app = dash.Dash()\n",
    "\n",
    "plot = [go.Scatter(x=df.color,\n",
    "                   y=df.wheels,\n",
    "                   mode=\"markers\")]\n",
    "layout = go.Layout(title=\"Hover over and see the result\", hovermode=\"closest\")\n",
    "figure = go.Figure(data=plot, layout=layout)\n",
    "\n",
    "app.layout = html.Div([\n",
    "                html.Div([\n",
    "                    dcc.Graph(figure=figure,\n",
    "                              id=\"graph\")\n",
    "                ], style={\"width\":\"30%\", \"float\":\"left\"}), \n",
    "                html.Div([\n",
    "                    html.Pre(id=\"preview\")\n",
    "                ])\n",
    "])\n",
    "\n",
    "@app.callback(Output(\"preview\", \"children\"),\n",
    "             [Input(\"graph\", \"selectedData\")])   \n",
    "                        ### POI ↑ POI ### \n",
    "def show_values(hovered_data):\n",
    "    json_in_text = json.dumps(hovered_data, indent=4)\n",
    "    return json_in_text\n",
    "\n",
    "app.run_server()"
   ]
  },
  {
   "cell_type": "markdown",
   "metadata": {},
   "source": [
    "Many things get printed, isn't it?"
   ]
  },
  {
   "cell_type": "markdown",
   "metadata": {},
   "source": [
    "# "
   ]
  },
  {
   "cell_type": "markdown",
   "metadata": {},
   "source": [
    "## Making Use of Selection\n",
    "*Calculating density of points — of course we will use another data*"
   ]
  },
  {
   "cell_type": "code",
   "execution_count": 7,
   "metadata": {},
   "outputs": [],
   "source": [
    "import numpy as np"
   ]
  },
  {
   "cell_type": "code",
   "execution_count": 12,
   "metadata": {},
   "outputs": [],
   "source": [
    "x = np.random.randint(0, 10, 100)\n",
    "y = np.random.randint(0, 10, 100)"
   ]
  },
  {
   "cell_type": "code",
   "execution_count": 22,
   "metadata": {},
   "outputs": [],
   "source": [
    "# Making a simple app\n",
    "app = dash.Dash()\n",
    "\n",
    "# Default initializations\n",
    "plot = [go.Scatter(x=x, y=y, mode=\"markers\")]\n",
    "layout = go.Layout(title=\"Select the area to get density\")\n",
    "figure = go.Figure(data=plot, layout=layout)\n",
    "\n",
    "# App layout\n",
    "app.layout = html.Div([\n",
    "                html.Div([ # For Graph\n",
    "                    dcc.Graph(id=\"graph\",\n",
    "                              figure=figure)\n",
    "                ], style={\"width\":\"30%\", \"float\":\"left\", \"display\":\"inlince-block\"}), \n",
    "                html.Div([ # For Graph\n",
    "                    html.Pre(id=\"result\")\n",
    "                ], style={\"marginTop\":\"30%\", \"fontSize\":\"30px\", \"display\":\"inlince-block\"}), \n",
    "            ])\n",
    "\n",
    "# Connection\n",
    "@app.callback(Output(\"result\", \"children\"),\n",
    "             [Input(\"graph\", \"selectedData\")])\n",
    "def get_density(selectedRegion):\n",
    "    n_points = len(selectedRegion[\"points\"])\n",
    "    \n",
    "    # Accessing 2nd key in the dict after \"points\" key\n",
    "    # Why using index [1] because it can be \"lassopoints\"\n",
    "    # or \"selectedpoints\"\n",
    "    points_label = list(selectedRegion.keys())[1]\n",
    "    selected_area = selectedRegion[points_label]\n",
    "    \n",
    "    min_x = min(selected_area[\"x\"])\n",
    "    max_x = max(selected_area[\"x\"])\n",
    "    min_y = min(selected_area[\"y\"])\n",
    "    max_y = max(selected_area[\"y\"])\n",
    "    \n",
    "    # Counting density\n",
    "    area = (max_x - min_x) * (max_y - min_y)\n",
    "    density = n_points / area\n",
    "    return f\"Density in the selected area is {density:.2f}\"\n",
    "\n",
    "app.run_server()"
   ]
  },
  {
   "cell_type": "markdown",
   "metadata": {},
   "source": [
    "## Amazing!\n",
    "How potential there is! We can actully access each individual element and return the output as desired. There is just about **How to access the dict → list → dict** stuff. That's it."
   ]
  },
  {
   "cell_type": "markdown",
   "metadata": {},
   "source": [
    "**NOTE**: That, if a region has overlapping nodes, or say datapoints, `they will be counted individually`. "
   ]
  },
  {
   "cell_type": "markdown",
   "metadata": {},
   "source": [
    "# "
   ]
  },
  {
   "cell_type": "markdown",
   "metadata": {},
   "source": [
    "# That's it!\n",
    "I know, it was not that much but see, we can access the datapoints right away. Just we need a proper problem to solve and data to show. "
   ]
  }
 ],
 "metadata": {
  "kernelspec": {
   "display_name": "Python 3",
   "language": "python",
   "name": "python3"
  },
  "language_info": {
   "codemirror_mode": {
    "name": "ipython",
    "version": 3
   },
   "file_extension": ".py",
   "mimetype": "text/x-python",
   "name": "python",
   "nbconvert_exporter": "python",
   "pygments_lexer": "ipython3",
   "version": "3.8.5"
  }
 },
 "nbformat": 4,
 "nbformat_minor": 4
}
