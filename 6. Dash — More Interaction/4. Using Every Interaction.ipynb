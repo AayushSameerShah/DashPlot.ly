{
 "cells": [
  {
   "cell_type": "markdown",
   "metadata": {},
   "source": [
    "# Mix em' Up!"
   ]
  },
  {
   "cell_type": "markdown",
   "metadata": {},
   "source": [
    "Now, as we have see the power of `hoverData`, `clickData` and `selectedData` we will start leveraging their real power in this notebook. We will use them (ie. select or hover or click on the graph) and then the result accordingly will be reflected on another graphs! So basically a graph updates a graph!\n",
    "\n",
    "Now, you will say \"*Yea, now it looks kinds a Dashboard!*\" <br>\n",
    "—<br>\n",
    "Let's get started!"
   ]
  },
  {
   "cell_type": "markdown",
   "metadata": {},
   "source": [
    "# "
   ]
  },
  {
   "cell_type": "code",
   "execution_count": 129,
   "metadata": {},
   "outputs": [],
   "source": [
    "import dash\n",
    "import dash_core_components as dcc, dash_html_components as html\n",
    "from dash.dependencies import Output, Input\n",
    "\n",
    "import plotly.graph_objs as go\n",
    "import plotly.figure_factory as ff\n",
    "import pandas as pd, numpy as np\n",
    "import json"
   ]
  },
  {
   "cell_type": "markdown",
   "metadata": {},
   "source": [
    "### Loading the data"
   ]
  },
  {
   "cell_type": "code",
   "execution_count": 189,
   "metadata": {},
   "outputs": [
    {
     "data": {
      "text/html": [
       "<div>\n",
       "<style scoped>\n",
       "    .dataframe tbody tr th:only-of-type {\n",
       "        vertical-align: middle;\n",
       "    }\n",
       "\n",
       "    .dataframe tbody tr th {\n",
       "        vertical-align: top;\n",
       "    }\n",
       "\n",
       "    .dataframe thead th {\n",
       "        text-align: right;\n",
       "    }\n",
       "</style>\n",
       "<table border=\"1\" class=\"dataframe\">\n",
       "  <thead>\n",
       "    <tr style=\"text-align: right;\">\n",
       "      <th></th>\n",
       "      <th>mpg</th>\n",
       "      <th>cylinders</th>\n",
       "      <th>displacement</th>\n",
       "      <th>horsepower</th>\n",
       "      <th>weight</th>\n",
       "      <th>acceleration</th>\n",
       "      <th>model_year</th>\n",
       "      <th>origin</th>\n",
       "      <th>name</th>\n",
       "    </tr>\n",
       "  </thead>\n",
       "  <tbody>\n",
       "    <tr>\n",
       "      <th>0</th>\n",
       "      <td>18.0</td>\n",
       "      <td>8</td>\n",
       "      <td>307.0</td>\n",
       "      <td>130</td>\n",
       "      <td>3504</td>\n",
       "      <td>12.0</td>\n",
       "      <td>70</td>\n",
       "      <td>1</td>\n",
       "      <td>chevrolet chevelle malibu</td>\n",
       "    </tr>\n",
       "    <tr>\n",
       "      <th>1</th>\n",
       "      <td>15.0</td>\n",
       "      <td>8</td>\n",
       "      <td>350.0</td>\n",
       "      <td>165</td>\n",
       "      <td>3693</td>\n",
       "      <td>11.5</td>\n",
       "      <td>70</td>\n",
       "      <td>1</td>\n",
       "      <td>buick skylark 320</td>\n",
       "    </tr>\n",
       "    <tr>\n",
       "      <th>2</th>\n",
       "      <td>18.0</td>\n",
       "      <td>8</td>\n",
       "      <td>318.0</td>\n",
       "      <td>150</td>\n",
       "      <td>3436</td>\n",
       "      <td>11.0</td>\n",
       "      <td>70</td>\n",
       "      <td>1</td>\n",
       "      <td>plymouth satellite</td>\n",
       "    </tr>\n",
       "    <tr>\n",
       "      <th>3</th>\n",
       "      <td>16.0</td>\n",
       "      <td>8</td>\n",
       "      <td>304.0</td>\n",
       "      <td>150</td>\n",
       "      <td>3433</td>\n",
       "      <td>12.0</td>\n",
       "      <td>70</td>\n",
       "      <td>1</td>\n",
       "      <td>amc rebel sst</td>\n",
       "    </tr>\n",
       "    <tr>\n",
       "      <th>4</th>\n",
       "      <td>17.0</td>\n",
       "      <td>8</td>\n",
       "      <td>302.0</td>\n",
       "      <td>140</td>\n",
       "      <td>3449</td>\n",
       "      <td>10.5</td>\n",
       "      <td>70</td>\n",
       "      <td>1</td>\n",
       "      <td>ford torino</td>\n",
       "    </tr>\n",
       "  </tbody>\n",
       "</table>\n",
       "</div>"
      ],
      "text/plain": [
       "    mpg  cylinders  displacement horsepower  weight  acceleration  model_year  \\\n",
       "0  18.0          8         307.0        130    3504          12.0          70   \n",
       "1  15.0          8         350.0        165    3693          11.5          70   \n",
       "2  18.0          8         318.0        150    3436          11.0          70   \n",
       "3  16.0          8         304.0        150    3433          12.0          70   \n",
       "4  17.0          8         302.0        140    3449          10.5          70   \n",
       "\n",
       "   origin                       name  \n",
       "0       1  chevrolet chevelle malibu  \n",
       "1       1          buick skylark 320  \n",
       "2       1         plymouth satellite  \n",
       "3       1              amc rebel sst  \n",
       "4       1                ford torino  "
      ]
     },
     "execution_count": 189,
     "metadata": {},
     "output_type": "execute_result"
    }
   ],
   "source": [
    "df = pd.read_csv(\"../data/data/mpg.csv\")\n",
    "df.head()"
   ]
  },
  {
   "cell_type": "code",
   "execution_count": 190,
   "metadata": {},
   "outputs": [],
   "source": [
    "df.horsepower = df.horsepower.apply(lambda x: float(x) if x != '?' else 0.0)"
   ]
  },
  {
   "cell_type": "markdown",
   "metadata": {},
   "source": [
    "We will create 2 kinds of dashboards here for practice:\n",
    "1. From the course\n",
    "2. From a creative mind"
   ]
  },
  {
   "cell_type": "markdown",
   "metadata": {},
   "source": [
    "###### "
   ]
  },
  {
   "cell_type": "markdown",
   "metadata": {},
   "source": [
    "## Simple One\n",
    "*One Graph → Second Graph* (From course)"
   ]
  },
  {
   "cell_type": "code",
   "execution_count": 12,
   "metadata": {},
   "outputs": [],
   "source": [
    "app = dash.Dash()\n",
    "\n",
    "# Creating the initial graph for graph 1\n",
    "plot = [\n",
    "        go.Scatter(x=df.model_year + 1900,  # Added 1900 because the year\n",
    "                   y=df.mpg,                # is in 78, 45... need 1978.\n",
    "                   mode=\"markers\",\n",
    "                      )\n",
    "]\n",
    "layout = go.Layout(\n",
    "            title=\"Some great stuff\",\n",
    "            hovermode=\"closest\",\n",
    "            xaxis=dict(title=\"← Model Year →\"),\n",
    "            yaxis=dict(title=\"← MPG →\")\n",
    "         )\n",
    "figure = go.Figure(data=plot, layout=layout)\n",
    "default_style={\"width\":\"50%\", \"display\":\"inline-block\"}\n",
    "\n",
    "app.layout = html.Div(children=[\n",
    "                html.Div([\n",
    "                    dcc.Graph(id=\"graph-1\", figure=figure)\n",
    "                    ], style=default_style),\n",
    "                html.Div([\n",
    "                    dcc.Graph(id=\"graph-2\")\n",
    "                    ], style=default_style)\n",
    "])\n",
    "\n",
    "app.run_server()"
   ]
  },
  {
   "cell_type": "markdown",
   "metadata": {},
   "source": [
    "If you run ↑ this. There will be the obvious output. But the problem is this ↓"
   ]
  },
  {
   "cell_type": "markdown",
   "metadata": {},
   "source": [
    "<img src=\"problem.png\" height=500 width=500>"
   ]
  },
  {
   "cell_type": "markdown",
   "metadata": {},
   "source": [
    "Now, as they are stacked which is not a problem, but **to make it look nicer, we need to add jitter**. \n",
    "\n",
    "> But again, there is a problem. We don't have `jitter` parameter in the `go.Scatter` as we had in the `go.Box()`... so now?"
   ]
  },
  {
   "cell_type": "code",
   "execution_count": 22,
   "metadata": {},
   "outputs": [],
   "source": [
    "# So we need to add jitter in the YEARS\n",
    "years_jittered = df.model_year + np.random.randint(-5, 5, df.shape[0]) * 0.1\n",
    "\n",
    "app = dash.Dash()\n",
    "plot = [            ### POI ↓ POI ###\n",
    "        go.Scatter(x=years_jittered + 1900, \n",
    "                   y=df.mpg,                \n",
    "                   mode=\"markers\",\n",
    "            )\n",
    "]\n",
    "layout = go.Layout(\n",
    "            title=\"Some great stuff\",\n",
    "            hovermode=\"closest\",\n",
    "            xaxis=dict(title=\"← Model Year →\"),\n",
    "            yaxis=dict(title=\"← MPG →\")\n",
    "         )\n",
    "figure = go.Figure(data=plot, layout=layout)\n",
    "default_style={\"width\":\"50%\", \"display\":\"inline-block\"}\n",
    "\n",
    "app.layout = html.Div(children=[\n",
    "                html.Div([\n",
    "                    dcc.Graph(id=\"graph-1\", figure=figure)\n",
    "                    ], style=default_style),\n",
    "                html.Div([\n",
    "                    dcc.Graph(id=\"graph-2\")\n",
    "                    ], style=default_style)\n",
    "])\n",
    "\n",
    "app.run_server()"
   ]
  },
  {
   "cell_type": "markdown",
   "metadata": {},
   "source": [
    "<img src=\"solution.png\" height=500 width=500>"
   ]
  },
  {
   "cell_type": "markdown",
   "metadata": {},
   "source": [
    "### Now we will correct the text displayed on hover\n",
    "Because you see, as we have done the jitter in the years, the years are shown in 1977.3 and likewise. So we need to pass the real year in the as a `text` parameter."
   ]
  },
  {
   "cell_type": "code",
   "execution_count": 30,
   "metadata": {},
   "outputs": [],
   "source": [
    "app = dash.Dash()\n",
    "\n",
    "years_jittered = df.model_year + np.random.randint(-5, 5, df.shape[0]) * 0.1\n",
    "plot = [            \n",
    "        go.Scatter(x=years_jittered + 1900, \n",
    "                   y=df.mpg,                \n",
    "                   mode=\"markers\",\n",
    "                   text=df.model_year + 1900,  ### POI ← POI ### \n",
    "                   hoverinfo= 'text'           ### POI ← POI ###\n",
    "            )\n",
    "]\n",
    "layout = go.Layout(\n",
    "            title=\"Some great stuff\",\n",
    "            hovermode=\"closest\",\n",
    "            xaxis=dict(title=\"← Model Year →\"),\n",
    "            yaxis=dict(title=\"← MPG →\")\n",
    "         )\n",
    "figure = go.Figure(data=plot, layout=layout)\n",
    "default_style={\"width\":\"50%\", \"display\":\"inline-block\"}\n",
    "\n",
    "app.layout = html.Div(children=[\n",
    "                html.Div([\n",
    "                    dcc.Graph(id=\"graph-1\", figure=figure)\n",
    "                    ], style=default_style),\n",
    "                html.Div([\n",
    "                    dcc.Graph(id=\"graph-2\")\n",
    "                    ], style=default_style)\n",
    "])\n",
    "\n",
    "app.run_server()"
   ]
  },
  {
   "cell_type": "markdown",
   "metadata": {},
   "source": [
    "**Syntax Analysis**\n",
    "```python\n",
    "go.Scatter(...,  # ↓ This will be shown as extra\n",
    "           text=df.model_year + 1900, \n",
    "           hoverinfo='text'\n",
    ")         # ↑ This will show WHAT TO SHOW\n",
    "```"
   ]
  },
  {
   "cell_type": "markdown",
   "metadata": {},
   "source": [
    "<u>Q.</u> But **What if** you pass `hoverinfo='text'` but there is no 'text' defined?  <br>\n",
    "<u>A.</u> Nothing will be shown on hover! Yeah! It is new."
   ]
  },
  {
   "cell_type": "markdown",
   "metadata": {},
   "source": [
    "# "
   ]
  },
  {
   "cell_type": "markdown",
   "metadata": {},
   "source": [
    "## Hoo... now we will create the *real* stuff\n",
    "Till here, we just discovered how to show the data points in a nice way... but the main target of this book was to take an effect on the other graph. So, *it starts now actully*."
   ]
  },
  {
   "cell_type": "code",
   "execution_count": 63,
   "metadata": {},
   "outputs": [],
   "source": [
    "app = dash.Dash()\n",
    "years_jittered = df.model_year + np.random.randint(-5, 5, df.shape[0]) * 0.1\n",
    "\n",
    "plot = [\n",
    "        go.Scatter(x=years_jittered + 1900, \n",
    "                   y=df.mpg,                \n",
    "                   mode=\"markers\",\n",
    "                   text=df[\"name\"]\n",
    "            )\n",
    "]\n",
    "layout = go.Layout(\n",
    "            title=\"Some great stuff\",\n",
    "            hovermode=\"closest\",\n",
    "            xaxis=dict(title=\"← Model Year →\"),\n",
    "            yaxis=dict(title=\"← MPG →\")\n",
    "         )\n",
    "figure = go.Figure(data=plot, layout=layout)\n",
    "default_style={\"width\":\"50%\", \"display\":\"inline-block\"}\n",
    "\n",
    "app.layout = html.Div(children=[\n",
    "                html.Div([\n",
    "                    dcc.Graph(id=\"graph-1\", figure=figure)\n",
    "                    ], style=default_style),\n",
    "                html.Div([\n",
    "                    dcc.Graph(id=\"graph-2\"),\n",
    "                    html.Pre(id=\"preview\")\n",
    "                    ], style=default_style)\n",
    "])\n",
    "\n",
    "\n",
    "# Updates the label\n",
    "@app.callback(Output(\"preview\", \"children\"),\n",
    "             [Input(\"graph-1\", \"hoverData\")])\n",
    "def update_graph2(hoverData):\n",
    "                                        ### POI ↓ POI ###\n",
    "    filtered = df.iloc[hoverData[\"points\"][0][\"pointIndex\"]]\n",
    "    \n",
    "    # Extracting details to use later\n",
    "    n_cylinders = filtered[\"cylinders\"]\n",
    "    displacement = filtered[\"displacement\"]\n",
    "    acceleration = filtered[\"acceleration\"]\n",
    "    name = filtered[\"name\"].title()\n",
    "    \n",
    "    # Returning the stuff for <PRE>\n",
    "    return f\"\"\"\n",
    "    Name: {name}\n",
    "    Number of cylinders: {n_cylinders}\n",
    "    Displacement: {displacement}\n",
    "    0 to 60 miles in: {acceleration} seconds\n",
    "    \"\"\"\n",
    "\n",
    "\n",
    "@app.callback(Output(\"graph-2\", \"figure\"),\n",
    "             [Input(\"graph-1\", \"hoverData\")])\n",
    "def update_graph2(hoverData):\n",
    "                                        ### POI ↓ POI ###\n",
    "    filtered = df.iloc[hoverData[\"points\"][0][\"pointIndex\"]]\n",
    "    \n",
    "    # Extracting stuff\n",
    "    n_cylinders = filtered[\"cylinders\"]\n",
    "    name = filtered[\"name\"].title()\n",
    "    acceleration = filtered[\"acceleration\"]\n",
    "    \n",
    "    # The plot is crazy\n",
    "    plot = [go.Scatter(x=[0, 1], ### POI ← POI ###\n",
    "                       y=[0, 60 / acceleration], ### POI ← POI ###\n",
    "                       mode=\"lines\", \n",
    "                       line=dict(width=int(n_cylinders)) ### POI ← POI ###\n",
    "                )]   \n",
    "                                       ### POI ↓ POI ↓ POI ↓ POI ↓ POI ###\n",
    "    layout = go.Layout(title=name, margin=dict(l=0, r=0, t=50, b=0),\n",
    "                       height=300, width=300, ### POI ← POI ###\n",
    "                       xaxis=dict(visible=False), ### POI ← POI ###\n",
    "                       yaxis=dict(visible=False, range=[0, 60 / df[\"acceleration\"].min()])) ### POI ← POI ###\n",
    "    figure = go.Figure(data=plot, layout=layout)\n",
    "    return figure\n",
    "\n",
    "\n",
    "\n",
    "app.run_server()"
   ]
  },
  {
   "cell_type": "markdown",
   "metadata": {},
   "source": [
    "## Oh... wai wai wai... slowdown a bit!\n",
    "I know I have thrown a lot of things together... but I think we are now capable of getting more stuff done at once. But still, let's do our: <br>\n",
    "**Syntax Analysis**"
   ]
  },
  {
   "cell_type": "markdown",
   "metadata": {},
   "source": [
    "### 1.\n",
    "```python\n",
    "filtered = df.iloc[hoverData[\"points\"][0][\"pointIndex\"]]\n",
    "```\n",
    "Now this is an amazing thing. With `pointIndex` as the one of the parameters of that point, it will actully give the index of *THAT* row so that we won't have to do some error prone stuff like `df[df.col1 == \"value\"].iloc[0]` to grab the first row no matter how many returned. As it is error prone, we should use the above mentioned technique."
   ]
  },
  {
   "cell_type": "markdown",
   "metadata": {},
   "source": [
    "### 2.\n",
    "```python\n",
    "plot = [go.Scatter(x=[0, 1],  # | This will make the slope of the line\n",
    "                              # ↓ instead of just x=[0, 1], y=[0, 1]\n",
    "                   y=[0, 60 / acceleration], \n",
    "                   mode=\"lines\", \n",
    "                   line=dict(width=int(n_cylinders))\n",
    "            )]                   # ↑ Different thickness of line\n",
    "```"
   ]
  },
  {
   "cell_type": "markdown",
   "metadata": {},
   "source": [
    "### 3.\n",
    "```python\n",
    "layout = go.Layout(title=name, #↓ (1)\n",
    "                   margin=dict(l=0, r=0, t=50, b=0),\n",
    "                   height=300, width=300, # ← (2)\n",
    "                   xaxis=dict(visible=False), \n",
    "                              # ↕ (3)\n",
    "                   yaxis=dict(visible=False,\n",
    "                              range=[0, 60 / df[\"acceleration\"].min()]))\n",
    "                              # ↑ (4)\n",
    "```\n",
    "(1) `LRTB` for Left, Right, Top, Bottom — Graph specific margins instead of CSS (*Note*: They are in the dict format in the `margin` parameter) <br>\n",
    "(2) `Width and Height` are again the Graph Specific styles to manage the width and height of graph without using CSS <br>\n",
    "(3) `visible` to toggle visibility of axes. <br>\n",
    "(4) `range` Cool! This one again goes in the dict od axes and sets the range. Works like `plt.xlim([])`."
   ]
  },
  {
   "cell_type": "markdown",
   "metadata": {},
   "source": [
    "___"
   ]
  },
  {
   "cell_type": "markdown",
   "metadata": {},
   "source": [
    "And there! We have successfully created an application / dashboard which uses the graph to update another graph!"
   ]
  },
  {
   "cell_type": "markdown",
   "metadata": {},
   "source": [
    "# "
   ]
  },
  {
   "cell_type": "markdown",
   "metadata": {},
   "source": [
    "## Extra One\n",
    "*Multiple Graphs → Multiple Reflection* (From Mind)"
   ]
  },
  {
   "cell_type": "code",
   "execution_count": 196,
   "metadata": {},
   "outputs": [],
   "source": [
    "# Extracting Company name\n",
    "df[\"company\"] = df.name.str.partition(\" \")[0].str.title()\n",
    "df[\"model_year\"] = df[\"model_year\"] + 1900"
   ]
  },
  {
   "cell_type": "markdown",
   "metadata": {},
   "source": [
    "Selectable Data:\n",
    "1. Year\n",
    "    - A range slider ✓✓\n",
    "        - Filters data accordingly\n",
    "2. Number of cylinders\n",
    "    - A group of checkboxes ✓✓\n",
    "        - Filters data accordingly\n",
    "\n",
    "Graphs:\n",
    "1. Mpg vs Weight Scatter\n",
    "    - On HOVER: ✓✓\n",
    "        - Show Card information ✓\n",
    "            - Name\n",
    "            - Released in\n",
    "            - nth fastest car (in acceleration) from the total cars in that year\n",
    "        - On HoverInfo ✓\n",
    "            - N cylinders\n",
    "            - horsepower\n",
    "    - On CLICK: ✓✓\n",
    "        - Horizontal Bar Chart  ✓\n",
    "            - Of that car with the acceleration comparision with other<br>cars in the same year\n",
    "        - Show Card information ✗\n",
    "            - Name\n",
    "            - Released in\n",
    "            - nth fastest car (in acceleration) from the total cars in that year\n",
    "    - On SELECT:\n",
    "        - Show a density plot ✓\n",
    "            - Density plot of horsepower of all cars in that selected area\n",
    "        - Show bar chart \n",
    "            - Value counts for all data points by company name\n",
    "            \n",
    "2. Density plot for the selected \n",
    "3. Horizontal Bar Chart\n",
    "4. Density plot\n",
    "5. Bar Chart"
   ]
  },
  {
   "cell_type": "markdown",
   "metadata": {},
   "source": [
    "—<br>**I think** this is much for now, let's do this!"
   ]
  },
  {
   "cell_type": "code",
   "execution_count": 197,
   "metadata": {},
   "outputs": [],
   "source": [
    "df[\"text\"] = \"Cylinders: \" + df.cylinders.astype(str) + \" — Year: \" + df.model_year.astype(str)"
   ]
  },
  {
   "cell_type": "code",
   "execution_count": 236,
   "metadata": {},
   "outputs": [],
   "source": [
    "app = dash.Dash()\n",
    "\n",
    "# Elements\n",
    "# --------\n",
    "\n",
    "# 1.\n",
    "year_min = df.model_year.min()\n",
    "year_max = df.model_year.max()\n",
    "year_slider = dcc.RangeSlider(id=\"year-slider\",\n",
    "                              min=year_min,\n",
    "                              max=year_max,\n",
    "                              value=[year_min, year_max],\n",
    "                              marks={i : i for i in range(year_min, year_max + 1, 2)})\n",
    "                            \n",
    "# 2.\n",
    "cylinder_select = dcc.Checklist(id=\"cylinder-select\",\n",
    "                                options=[\n",
    "                                    {'label': i, 'value': i}\n",
    "                                    for i in df.cylinders.unique()\n",
    "                                ],\n",
    "                                values=df.cylinders.unique(),\n",
    "                                labelStyle={'display': 'inline-block'})\n",
    "\n",
    "\n",
    "# Layout\n",
    "app.layout = html.Div(children=[ # MASTER DIV\n",
    "                html.Div(children=[ # DIV for Year and Cylinder\n",
    "                            html.Div([ # DIV for Year\n",
    "                                html.Label(\"Year\"),\n",
    "                                year_slider\n",
    "                            ]),\n",
    "                            html.Div([ # DIV for Cylinder\n",
    "                                html.Label(\"Number of Cylinders\"),\n",
    "                                cylinder_select    \n",
    "                            ], style={\"margin-top\":\"5%\"})\n",
    "                        ],\n",
    "                         style=dict(\n",
    "                            width=\"80%\",\n",
    "                            marginLeft=\"10%\")\n",
    "                ),\n",
    "                html.Div(children=[ # DIV for Graph-1 (scatter)\n",
    "                            dcc.Graph(id=\"main-scatter\")\n",
    "                        ],\n",
    "                        style={\"display\":\"inline-block\"}),\n",
    "                html.Div(children=[ # DIV for Label (card)\n",
    "                            dcc.Markdown(id=\"card\")\n",
    "                        ],\n",
    "                        style={\"position\":\"absolute\",\n",
    "                               \"margin-left\":\"60%\", \"margin-top\":\"-45%\"}),\n",
    "                html.Div(children=[ # DIV for Graph-2 (scatter)\n",
    "                            dcc.Graph(id=\"h_bar\")\n",
    "                        ],\n",
    "                        style={\"position\":\"absolute\",\n",
    "                               \"margin-left\":\"50%\", \"margin-top\":\"-27%\"}),\n",
    "                html.Div(children=[ # DIV for Graph-3 (dist)\n",
    "                            dcc.Graph(id=\"distplot\")\n",
    "                        ],\n",
    "                        style={\"position\":\"absolute\",\n",
    "                               \"margin-left\":\"5%\", \"margin-top\":\"3%\"}),\n",
    "                html.Div(children=[ # DIV for Graph-4 (bar)\n",
    "                            dcc.Graph(id=\"v_bar\")\n",
    "                        ],\n",
    "                        style={\"position\":\"absolute\",\n",
    "                               \"margin-left\":\"50%\", \"margin-top\":\"3%\"}),\n",
    "])\n",
    "\n",
    "# Updating with Year and Cylinders\n",
    "@app.callback(Output(\"main-scatter\", \"figure\"),\n",
    "             [Input(\"year-slider\", \"value\"),\n",
    "              Input(\"cylinder-select\", \"values\")])\n",
    "def filter_graph(year_range, cylinder_selected):\n",
    "    \"\"\"\n",
    "    This function will update the graph based on year slider\n",
    "    and the checkboxes for cylinders.\n",
    "    \"\"\"\n",
    "    \n",
    "    filter_ = (df.model_year >= year_range[0]) & (df.model_year <= year_range[1]) & \\\n",
    "                (df.cylinders.isin(cylinder_selected))\n",
    "    filtered_df = df[filter_]\n",
    "    \n",
    "    plot = [go.Scatter(\n",
    "                x=filtered_df.mpg,\n",
    "                y=filtered_df.weight,\n",
    "                mode=\"markers\",\n",
    "                marker=dict(opacity=0.5,\n",
    "                            color=\"cyan\",\n",
    "                            size=10),\n",
    "                text=filtered_df[\"text\"])]\n",
    "    \n",
    "    syl_len = len(cylinder_selected)\n",
    "    if syl_len == 5:\n",
    "        cyl_show = \"Cylinders: All\"\n",
    "\n",
    "    else:\n",
    "        if syl_len == 1:\n",
    "            cyl_show = \"Cylinder: \" + str(cylinder_selected[0])\n",
    "        elif syl_len == 0:\n",
    "            cyl_show = \"Cylinder: Not Selected\"\n",
    "        else:\n",
    "            cyl_show = ''\n",
    "            for i in range(syl_len):\n",
    "                if i == 0:\n",
    "                    cyl_show += 'Cylinders: '\n",
    "                elif i == syl_len - 1:\n",
    "                    cyl_show += \" and \"\n",
    "                else:\n",
    "                    cyl_show += \", \"\n",
    "                cyl_show += str(cylinder_selected[i])\n",
    "    \n",
    "    layout = go.Layout(title=f\"Year Range {year_range[0]} — {year_range[1]} | {cyl_show}\",\n",
    "                   xaxis=dict(title=\"← MPG →\"),\n",
    "                   yaxis=dict(title=\"← Weight →\"),\n",
    "                   width=900, height=670,\n",
    "                   margin=dict(l=1))\n",
    "    return go.Figure(data=plot, layout=layout)\n",
    "    \n",
    "    \n",
    "    \n",
    "# Working with hover\n",
    "@app.callback(Output(\"card\", \"children\"),\n",
    "             [Input(\"main-scatter\", \"hoverData\")])\n",
    "def hover_work(hoverData):\n",
    "    \"\"\"\n",
    "    This will just show the information in a markdown \n",
    "    dcc widget with the rank of car.\n",
    "    \"\"\"\n",
    "    \n",
    "    iloc = hoverData[\"points\"][0][\"pointIndex\"]\n",
    "    filtered_df = df.iloc[iloc]\n",
    "    name = filtered_df[\"name\"]\n",
    "    year = filtered_df[\"model_year\"]\n",
    "    acceleration = filtered_df[\"acceleration\"]\n",
    "    \n",
    "    filtered_df = df[df.model_year == year]\n",
    "    th_rank = filtered_df['acceleration'].rank(ascending=False)[iloc]\n",
    "    outof = filtered_df.shape[0]\n",
    "    \n",
    "    markdown = f\"\"\"\n",
    "# {name.title()}\n",
    "has scored  \n",
    "### {int(th_rank)}th  \n",
    "rank  \n",
    "outof  \n",
    "### {outof} cars in {year} year.\n",
    "    \"\"\"\n",
    "    return markdown\n",
    "\n",
    "\n",
    "# Working with Click\n",
    "@app.callback(Output(\"h_bar\", \"figure\"),\n",
    "             [Input(\"main-scatter\", \"clickData\")])\n",
    "def handle_click(clickData):\n",
    "    iloc = clickData[\"points\"][0][\"pointIndex\"]\n",
    "    that_year = df.iloc[iloc][\"model_year\"]\n",
    "    filtered_df = df[df.model_year == that_year].sort_values(by=\"acceleration\")\n",
    "    filtered_df.drop_duplicates(inplace=True, subset=[\"name\"])\n",
    "    filtered_df[\"name\"] = filtered_df[\"name\"].str.title()\n",
    "    \n",
    "    df_single = filtered_df[filtered_df.index == iloc]\n",
    "    filtered_df.loc[iloc, \"acceleration\"] = 0\n",
    "    \n",
    "    plot = [go.Bar(x=filtered_df.acceleration,\n",
    "                   y=filtered_df[\"name\"],\n",
    "                   orientation=\"h\",\n",
    "                   hoverinfo='x',\n",
    "                   name=\"Other Cars\"\n",
    "                ),\n",
    "            go.Bar(x=df_single.acceleration,\n",
    "                   y=df_single[\"name\"],\n",
    "                   orientation=\"h\",\n",
    "                   marker=dict(color=\"gold\"),\n",
    "                   offset=-0.4,\n",
    "                   hoverinfo='x',\n",
    "                   name=df_single[\"name\"].values[0]\n",
    "                )\n",
    "           ]\n",
    "    layout = go.Layout(title=f\"Car's acceleration in {that_year}\",\n",
    "                       margin=dict(l=250),\n",
    "                       xaxis=dict(title=\"← Acceleration →\"))\n",
    "    fig = go.Figure(data=plot, layout=layout)\n",
    "    return fig\n",
    "\n",
    "\n",
    "# Working with selection\n",
    "@app.callback(Output(\"distplot\", \"figure\"),\n",
    "             [Input(\"main-scatter\", \"selectedData\")])\n",
    "def handle_select_1(selectedData):\n",
    "    n_points = len(selectedData[\"points\"])\n",
    "    selected_ilocs = []\n",
    "    \n",
    "    for i in range(n_points):\n",
    "        selected_ilocs.append(selectedData[\"points\"][i][\"pointIndex\"])\n",
    "        \n",
    "    filtered_df = df.iloc[selected_ilocs]\n",
    "    fig = ff.create_distplot([filtered_df.horsepower.values.tolist()], \n",
    "                             group_labels=[\"Horsepower\"],\n",
    "                             show_hist=False, show_rug=False)\n",
    "    fig[\"layout\"][\"title\"] = f\"Horsepower distribution for {n_points} selected car(s)\"\n",
    "    return fig\n",
    "\n",
    "@app.callback(Output(\"v_bar\", \"figure\"),\n",
    "             [Input(\"main-scatter\", \"selectedData\")])\n",
    "def handle_select_2(selectedData):\n",
    "    n_points = len(selectedData[\"points\"])\n",
    "    selected_ilocs = []\n",
    "    \n",
    "    for i in range(n_points):\n",
    "        selected_ilocs.append(selectedData[\"points\"][i][\"pointIndex\"])\n",
    "        \n",
    "    filtered_df = df.iloc[selected_ilocs]\n",
    "    counts = filtered_df.company.value_counts()\n",
    "    plot = [go.Bar(x=counts.index,\n",
    "                   y=counts.values,\n",
    "                   marker=dict(color=counts.values))]\n",
    "    layout = go.Layout(title=\"Company frequency for selected cars\",\n",
    "                       xaxis=dict(title=\"Company\"),\n",
    "                       yaxis=dict(title=\"← Frequency (count) →\"))\n",
    "    figure = go.Figure(data=plot, layout=layout)\n",
    "    return figure\n",
    "\n",
    "    \n",
    "app.run_server()"
   ]
  },
  {
   "cell_type": "markdown",
   "metadata": {},
   "source": [
    "# Done!"
   ]
  },
  {
   "cell_type": "markdown",
   "metadata": {},
   "source": [
    "Here is how it looks ↓\n",
    "<img src=\"done.png\">\n",
    "<img src=\"done2.png\">"
   ]
  },
  {
   "cell_type": "markdown",
   "metadata": {},
   "source": [
    "# "
   ]
  },
  {
   "cell_type": "markdown",
   "metadata": {},
   "source": [
    "I know... it doesn't look masterpiece. That is because I haven't done any kind of theme applying or so... but this is the first one!\n",
    "\n",
    "Please review the code as line by line. I have not given the comment in those area but still it is pretty readable."
   ]
  },
  {
   "cell_type": "markdown",
   "metadata": {},
   "source": [
    "# "
   ]
  },
  {
   "cell_type": "markdown",
   "metadata": {},
   "source": [
    "# Next up,\n",
    "A new section with more fun is coming in the way!"
   ]
  }
 ],
 "metadata": {
  "kernelspec": {
   "display_name": "Python 3",
   "language": "python",
   "name": "python3"
  },
  "language_info": {
   "codemirror_mode": {
    "name": "ipython",
    "version": 3
   },
   "file_extension": ".py",
   "mimetype": "text/x-python",
   "name": "python",
   "nbconvert_exporter": "python",
   "pygments_lexer": "ipython3",
   "version": "3.8.5"
  }
 },
 "nbformat": 4,
 "nbformat_minor": 4
}
