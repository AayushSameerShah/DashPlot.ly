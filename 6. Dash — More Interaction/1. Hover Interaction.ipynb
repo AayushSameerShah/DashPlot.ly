{
 "cells": [
  {
   "cell_type": "markdown",
   "metadata": {},
   "source": [
    "# Hover The Point."
   ]
  },
  {
   "cell_type": "markdown",
   "metadata": {},
   "source": [
    "*This notebook will demonstrate more things to include when you hover over some data points*"
   ]
  },
  {
   "cell_type": "markdown",
   "metadata": {},
   "source": [
    "# "
   ]
  },
  {
   "cell_type": "markdown",
   "metadata": {},
   "source": [
    "**Before**: We are used to see the default information ie. X and Y axes on the data point when we hove over it. Of course we can add more data with `text` field in the plot, but still it was limited to that."
   ]
  },
  {
   "cell_type": "markdown",
   "metadata": {},
   "source": [
    "**After**: We can tweak the information in our ways to display what and how."
   ]
  },
  {
   "cell_type": "markdown",
   "metadata": {},
   "source": [
    "—"
   ]
  },
  {
   "cell_type": "markdown",
   "metadata": {},
   "source": [
    "**<u>What?</u>**: The thing that goes behind the scenes is, the information that is displayed on the screen is actully represented in `json` and then parsed for spesific information. We can actully get the location of X and Y **cordinates** where the pointer is."
   ]
  },
  {
   "cell_type": "markdown",
   "metadata": {},
   "source": [
    "**<u>How?</u>**: Every graph in plotly has one common attribute `hoverData`, which can be accessed and also exported to use it in other ways."
   ]
  },
  {
   "cell_type": "markdown",
   "metadata": {},
   "source": [
    "**<u>The Motive Behind Doin All These</u>**: Till here we have seen various DCC / HTML components to work with the inputs from the user and show some relavent information. We have also seen how to get the data and show the image based on the radio inputs. But ***What If*** we want to work / show **information based on the datapoint in the graph itself?**. It think that will give you a nice idea what is going on."
   ]
  },
  {
   "cell_type": "markdown",
   "metadata": {},
   "source": [
    "###### "
   ]
  },
  {
   "cell_type": "markdown",
   "metadata": {},
   "source": [
    "<center> • • •"
   ]
  },
  {
   "cell_type": "markdown",
   "metadata": {},
   "source": [
    "<center> Please don't get confused with <code>hovermode</code> and <code>hoverData</code> there are different things. </center>"
   ]
  },
  {
   "cell_type": "markdown",
   "metadata": {},
   "source": [
    "<center> • • •"
   ]
  },
  {
   "cell_type": "markdown",
   "metadata": {},
   "source": [
    "Let's get started."
   ]
  },
  {
   "cell_type": "markdown",
   "metadata": {},
   "source": [
    "# "
   ]
  },
  {
   "cell_type": "code",
   "execution_count": 1,
   "metadata": {},
   "outputs": [],
   "source": [
    "import dash\n",
    "import dash_core_components as dcc\n",
    "import dash_html_components as html\n",
    "from dash.dependencies import Input, Output\n",
    "\n",
    "import plotly.offline as pyo\n",
    "import plotly.graph_objs as go\n",
    "\n",
    "import pandas as pd\n",
    "import json"
   ]
  },
  {
   "cell_type": "markdown",
   "metadata": {},
   "source": [
    "# "
   ]
  },
  {
   "cell_type": "code",
   "execution_count": 2,
   "metadata": {},
   "outputs": [
    {
     "data": {
      "text/html": [
       "<div>\n",
       "<style scoped>\n",
       "    .dataframe tbody tr th:only-of-type {\n",
       "        vertical-align: middle;\n",
       "    }\n",
       "\n",
       "    .dataframe tbody tr th {\n",
       "        vertical-align: top;\n",
       "    }\n",
       "\n",
       "    .dataframe thead th {\n",
       "        text-align: right;\n",
       "    }\n",
       "</style>\n",
       "<table border=\"1\" class=\"dataframe\">\n",
       "  <thead>\n",
       "    <tr style=\"text-align: right;\">\n",
       "      <th></th>\n",
       "      <th>wheels</th>\n",
       "      <th>color</th>\n",
       "      <th>image</th>\n",
       "    </tr>\n",
       "  </thead>\n",
       "  <tbody>\n",
       "    <tr>\n",
       "      <th>0</th>\n",
       "      <td>1</td>\n",
       "      <td>red</td>\n",
       "      <td>redunicycle.jpg</td>\n",
       "    </tr>\n",
       "    <tr>\n",
       "      <th>1</th>\n",
       "      <td>1</td>\n",
       "      <td>blue</td>\n",
       "      <td>blueunicycle.jpg</td>\n",
       "    </tr>\n",
       "    <tr>\n",
       "      <th>2</th>\n",
       "      <td>1</td>\n",
       "      <td>yellow</td>\n",
       "      <td>yellowunicycle.jpg</td>\n",
       "    </tr>\n",
       "    <tr>\n",
       "      <th>3</th>\n",
       "      <td>2</td>\n",
       "      <td>red</td>\n",
       "      <td>redbicycle.jpg</td>\n",
       "    </tr>\n",
       "    <tr>\n",
       "      <th>4</th>\n",
       "      <td>2</td>\n",
       "      <td>blue</td>\n",
       "      <td>bluemotorcycle.jpg</td>\n",
       "    </tr>\n",
       "    <tr>\n",
       "      <th>5</th>\n",
       "      <td>2</td>\n",
       "      <td>yellow</td>\n",
       "      <td>yellowscooter.jpg</td>\n",
       "    </tr>\n",
       "    <tr>\n",
       "      <th>6</th>\n",
       "      <td>3</td>\n",
       "      <td>red</td>\n",
       "      <td>redtricycle.jpg</td>\n",
       "    </tr>\n",
       "    <tr>\n",
       "      <th>7</th>\n",
       "      <td>3</td>\n",
       "      <td>blue</td>\n",
       "      <td>bluetricycle.jpg</td>\n",
       "    </tr>\n",
       "    <tr>\n",
       "      <th>8</th>\n",
       "      <td>3</td>\n",
       "      <td>yellow</td>\n",
       "      <td>yellowrickshaw.jpg</td>\n",
       "    </tr>\n",
       "  </tbody>\n",
       "</table>\n",
       "</div>"
      ],
      "text/plain": [
       "   wheels   color               image\n",
       "0       1     red     redunicycle.jpg\n",
       "1       1    blue    blueunicycle.jpg\n",
       "2       1  yellow  yellowunicycle.jpg\n",
       "3       2     red      redbicycle.jpg\n",
       "4       2    blue  bluemotorcycle.jpg\n",
       "5       2  yellow   yellowscooter.jpg\n",
       "6       3     red     redtricycle.jpg\n",
       "7       3    blue    bluetricycle.jpg\n",
       "8       3  yellow  yellowrickshaw.jpg"
      ]
     },
     "execution_count": 2,
     "metadata": {},
     "output_type": "execute_result"
    }
   ],
   "source": [
    "df = pd.read_csv(\"../data/data/wheels.csv\")\n",
    "df"
   ]
  },
  {
   "cell_type": "markdown",
   "metadata": {},
   "source": [
    "# Step—By—Step"
   ]
  },
  {
   "cell_type": "markdown",
   "metadata": {},
   "source": [
    "###### "
   ]
  },
  {
   "cell_type": "markdown",
   "metadata": {},
   "source": [
    "### Step 1\n",
    "*Creting simple structure*"
   ]
  },
  {
   "cell_type": "code",
   "execution_count": 5,
   "metadata": {},
   "outputs": [],
   "source": [
    "# Creating simple app\n",
    "app = dash.Dash()\n",
    "\n",
    "# Generating a layout\n",
    "app.layout = html.Div([\n",
    "                html.Div(), # It will hold the graph\n",
    "                html.Div() # It will show the json\n",
    "])\n",
    "\n",
    "# Running server\n",
    "app.run_server()"
   ]
  },
  {
   "cell_type": "markdown",
   "metadata": {},
   "source": [
    "Really ↑ this won't do anything. So now, let's do 2nd."
   ]
  },
  {
   "cell_type": "markdown",
   "metadata": {},
   "source": [
    "###### "
   ]
  },
  {
   "cell_type": "markdown",
   "metadata": {},
   "source": [
    "### Step 2\n",
    "*Filling in Data*"
   ]
  },
  {
   "cell_type": "code",
   "execution_count": 10,
   "metadata": {},
   "outputs": [],
   "source": [
    "app = dash.Dash()\n",
    "\n",
    "# Creating scatter\n",
    "plot = [go.Scatter(x=df.color,\n",
    "                  y=df.wheels,\n",
    "                  mode=\"markers\")]\n",
    "\n",
    "# Layout which will be passed in figure\n",
    "layout = go.Layout(title=\"Hover over and see the result\")\n",
    "\n",
    "# Figure which will be innput in dcc.Graph\n",
    "figure = go.Figure(data=plot, layout=layout)\n",
    "\n",
    "app.layout = html.Div([\n",
    "                html.Div([\n",
    "                    dcc.Graph(figure=figure,\n",
    "                              id=\"graph\")\n",
    "                ]), \n",
    "                html.Div([\n",
    "                    html.Pre(id=\"preview\") # `Pre` is <pre> which will show monospaced\n",
    "                ])                         # fonts however written in the file.\n",
    "])\n",
    "\n",
    "app.run_server()"
   ]
  },
  {
   "cell_type": "markdown",
   "metadata": {},
   "source": [
    "Cool. Now this shows the scatter plot in a grid like structure and looks like it is working too. Let's do some more stuff."
   ]
  },
  {
   "cell_type": "markdown",
   "metadata": {},
   "source": [
    "### Step 3\n",
    "*Connecting with json and displaying*"
   ]
  },
  {
   "cell_type": "code",
   "execution_count": 15,
   "metadata": {},
   "outputs": [],
   "source": [
    "app = dash.Dash()\n",
    "\n",
    "plot = [go.Scatter(x=df.color,\n",
    "                   y=df.wheels,\n",
    "                   mode=\"markers\")]\n",
    "layout = go.Layout(title=\"Hover over and see the result\")\n",
    "figure = go.Figure(data=plot, layout=layout)\n",
    "\n",
    "app.layout = html.Div([\n",
    "                html.Div([\n",
    "                    dcc.Graph(figure=figure,\n",
    "                              id=\"graph\")\n",
    "                ]), \n",
    "                html.Div([\n",
    "                    html.Pre(id=\"preview\")\n",
    "                ])\n",
    "])\n",
    "\n",
    "@app.callback(Output(\"preview\", \"children\"),\n",
    "             [Input(\"graph\", \"hoverData\")])   # Used `hoverData` as the property of graph\n",
    "                         ### POI ↑ POI ###\n",
    "def show_values(hovered_data):\n",
    "    # hovered_data is the json file so need to\n",
    "    # convert in the simple text\n",
    "    json_in_text = json.dumps(hovered_data, indent=4)\n",
    "                ### POI ↑ POI ###\n",
    "    return json_in_text\n",
    "    \n",
    "\n",
    "app.run_server()"
   ]
  },
  {
   "cell_type": "markdown",
   "metadata": {},
   "source": [
    "**Works!** But if you see, we have two problems. \n",
    "1. Not the data of all points work (because hovermode is not closest).\n",
    "2. The Graph covers all screen (we need to align it to left)."
   ]
  },
  {
   "cell_type": "markdown",
   "metadata": {},
   "source": [
    "###### "
   ]
  },
  {
   "cell_type": "markdown",
   "metadata": {},
   "source": [
    "### Step 4\n",
    "*Making it smoother*"
   ]
  },
  {
   "cell_type": "code",
   "execution_count": 29,
   "metadata": {},
   "outputs": [],
   "source": [
    "app = dash.Dash()\n",
    "\n",
    "plot = [go.Scatter(x=df.color,\n",
    "                   y=df.wheels,\n",
    "                   mode=\"markers\")]\n",
    "layout = go.Layout(title=\"Hover over and see the result\", hovermode=\"closest\")\n",
    "figure = go.Figure(data=plot, layout=layout)          ### POI ↑ POI ### Solution 1st's\n",
    "\n",
    "app.layout = html.Div([\n",
    "                html.Div([\n",
    "                    dcc.Graph(figure=figure,\n",
    "                              id=\"graph\")\n",
    "                ], style={\"width\":\"30%\", \"float\":\"left\"}), \n",
    "                                   ### POI ↑ POI ### Solution 2nd's\n",
    "                html.Div([\n",
    "                    html.Pre(id=\"preview\")\n",
    "                ])\n",
    "])\n",
    "\n",
    "@app.callback(Output(\"preview\", \"children\"),\n",
    "             [Input(\"graph\", \"hoverData\")])   \n",
    "def show_values(hovered_data):\n",
    "    json_in_text = json.dumps(hovered_data, indent=4)\n",
    "    return json_in_text\n",
    "\n",
    "app.run_server()"
   ]
  },
  {
   "cell_type": "markdown",
   "metadata": {},
   "source": [
    "**Yeah! Now it is ready** <br>\n",
    "So, for the first time, you've created a graph which can return the json. Cool."
   ]
  },
  {
   "cell_type": "markdown",
   "metadata": {},
   "source": [
    "—"
   ]
  },
  {
   "cell_type": "markdown",
   "metadata": {},
   "source": [
    "**Syntax Analysis**\n",
    "```python\n",
    "...,\n",
    "html.Div([ \n",
    "    html.Pre(id=\"preview\")\n",
    "])\n",
    "...\n",
    "```"
   ]
  },
  {
   "cell_type": "markdown",
   "metadata": {},
   "source": [
    "The `pre` tag will give the monospaced result, because you see, if we were to use `<P>` or `<H1>` or just `<DIV>` they will ignore the style and spaces in json format and will ruin the design. So `<pre>` is useful."
   ]
  },
  {
   "cell_type": "markdown",
   "metadata": {},
   "source": [
    "```python\n",
    "@app.callback(Output(...),\n",
    "             [Input(\"graph\", \"hoverData\")])   \n",
    "                                # ↑ It has json obj\n",
    "def show_values(hovered_data):\n",
    "                    # Which ↓ needs to be converted to string\n",
    "    json_in_text = json.dumps(hovered_data, indent=4)\n",
    "    return json_in_text          # With some ↑ nice indent\n",
    "```"
   ]
  },
  {
   "cell_type": "markdown",
   "metadata": {},
   "source": [
    "###### "
   ]
  },
  {
   "cell_type": "markdown",
   "metadata": {},
   "source": [
    "**Extra**\n",
    "```python\n",
    "plot = [go.Scatter(..., dy=2)]\n",
    "                # Somehow ↑ tweaks the spacing on y axis\n",
    "```"
   ]
  },
  {
   "cell_type": "markdown",
   "metadata": {},
   "source": [
    "###### "
   ]
  },
  {
   "cell_type": "markdown",
   "metadata": {},
   "source": [
    "## Now, let's show image\n",
    "To show an image, we need to \"***access***\" the json data."
   ]
  },
  {
   "cell_type": "code",
   "execution_count": 24,
   "metadata": {},
   "outputs": [],
   "source": [
    "# We need to import this ↓\n",
    "import base64\n",
    "\n",
    "def encode_image(img_path):\n",
    "    # Simple Byte reading\n",
    "    with open(img_path, 'rb') as img:\n",
    "        raw_image = img.read()\n",
    "        \n",
    "    # Encoding with base64 and then decode\n",
    "    encoded = base64.b64encode(raw_image)\n",
    "    return f'data:image/png;base64,{encoded.decode()}'"
   ]
  },
  {
   "cell_type": "code",
   "execution_count": 28,
   "metadata": {},
   "outputs": [],
   "source": [
    "app = dash.Dash()\n",
    "\n",
    "plot = [go.Scatter(x=df.color,\n",
    "                   y=df.wheels,\n",
    "                   mode=\"markers\")]\n",
    "layout = go.Layout(title=\"Hover over and see the result\", hovermode=\"closest\")\n",
    "figure = go.Figure(data=plot, layout=layout)\n",
    "\n",
    "app.layout = html.Div([\n",
    "                html.Div([\n",
    "                    dcc.Graph(figure=figure,\n",
    "                              id=\"graph\")\n",
    "                ], style={\"width\":\"30%\", \"float\":\"left\"}), \n",
    "                                   \n",
    "                html.Div([\n",
    "                    html.Img(id=\"preview\") ### POI ← POI ###\n",
    "                ])\n",
    "])\n",
    "\n",
    "@app.callback(Output(\"preview\", \"src\"), ### POI ← POI ###\n",
    "             [Input(\"graph\", \"hoverData\")])   \n",
    "def show_values(hovered_data):\n",
    "    if hovered_data:\n",
    "        data = hovered_data[\"points\"][0]\n",
    "        wheels = data[\"y\"]\n",
    "        color = data[\"x\"]\n",
    "        image_name = df[(df.color == color) & (df.wheels == wheels)].image.values[0]\n",
    "        img_path = \"../data/data/images/\" + image_name\n",
    "        return encode_image(img_path) ### POI ← POI ###\n",
    "\n",
    "app.run_server()"
   ]
  },
  {
   "cell_type": "markdown",
   "metadata": {},
   "source": [
    "**Syntax Analysis**\n",
    "```python\n",
    "def show_values(hovered_data):\n",
    "    # We directly can use the dict like syntax\n",
    "    # on the json obj ↓ as can be seen.\n",
    "    data = hovered_data[\"points\"][0]\n",
    "    ...\n",
    "    return encode_image(img_path)\n",
    "\n",
    "```"
   ]
  },
  {
   "cell_type": "markdown",
   "metadata": {},
   "source": [
    "# "
   ]
  },
  {
   "cell_type": "markdown",
   "metadata": {},
   "source": [
    "# That's it!\n",
    "We learned a lot from how and what. Let's go for another ride in the next book."
   ]
  }
 ],
 "metadata": {
  "kernelspec": {
   "display_name": "Python 3",
   "language": "python",
   "name": "python3"
  },
  "language_info": {
   "codemirror_mode": {
    "name": "ipython",
    "version": 3
   },
   "file_extension": ".py",
   "mimetype": "text/x-python",
   "name": "python",
   "nbconvert_exporter": "python",
   "pygments_lexer": "ipython3",
   "version": "3.8.5"
  }
 },
 "nbformat": 4,
 "nbformat_minor": 4
}
