{
 "cells": [
  {
   "cell_type": "markdown",
   "metadata": {},
   "source": [
    "# What if we want...\n",
    "The updates to take change, after sometime—**but not immediately**?<br>\n",
    "*Yeah! That's the reason why this notebook is for. And this is where...*\n",
    "```python\n",
    "from dash.dependencies import State\n",
    "``` \n",
    "comes in. <br>Which is like hitting a submit button on the form."
   ]
  },
  {
   "cell_type": "markdown",
   "metadata": {},
   "source": [
    "#### So?\n",
    "We now have one more candidate to add in `@app.callback` along with Input() and Output() → `state()` "
   ]
  },
  {
   "cell_type": "markdown",
   "metadata": {},
   "source": [
    "___"
   ]
  },
  {
   "cell_type": "markdown",
   "metadata": {},
   "source": [
    "Let's get it done."
   ]
  },
  {
   "cell_type": "code",
   "execution_count": 1,
   "metadata": {},
   "outputs": [],
   "source": [
    "import dash\n",
    "import dash_core_components as dcc\n",
    "import dash_html_components as html\n",
    "\n",
    "from dash.dependencies import Input, Output, State"
   ]
  },
  {
   "cell_type": "code",
   "execution_count": 23,
   "metadata": {},
   "outputs": [],
   "source": [
    "app = dash.Dash()\n",
    "\n",
    "app.layout = html.Div([\n",
    "                dcc.Input(type=\"text\", id=\"entry\"),\n",
    "                ### POI ↓ POI ###\n",
    "                html.Button(\"Update Value\", id=\"submit\"),\n",
    "                html.Label(id=\"result\")\n",
    "])"
   ]
  },
  {
   "cell_type": "markdown",
   "metadata": {},
   "source": [
    "### The structure is ready"
   ]
  },
  {
   "cell_type": "markdown",
   "metadata": {},
   "source": [
    "—<br>\n",
    "*The Problem: Before Solution*"
   ]
  },
  {
   "cell_type": "code",
   "execution_count": 14,
   "metadata": {},
   "outputs": [],
   "source": [
    "# If we bind the function\n",
    "@app.callback(Output(\"result\", \"children\"),\n",
    "             [Input(\"entry\", \"value\")])\n",
    "def update_value(value):\n",
    "    return value\n",
    "\n",
    "app.run_server()"
   ]
  },
  {
   "cell_type": "markdown",
   "metadata": {},
   "source": [
    "The value is instantly updated. **We don't want that.**"
   ]
  },
  {
   "cell_type": "markdown",
   "metadata": {},
   "source": [
    "—<br>\n",
    "*The Solution: After problem*"
   ]
  },
  {
   "cell_type": "code",
   "execution_count": 25,
   "metadata": {},
   "outputs": [],
   "source": [
    "# If we bind the function this way\n",
    "@app.callback(Output(\"result\", \"children\"),\n",
    "             [Input(\"submit\", \"n_clicks\")],\n",
    "             [State(\"entry\", \"value\")])\n",
    "def update_value(_, value):\n",
    "    return value\n",
    "\n",
    "app.run_server()"
   ]
  },
  {
   "cell_type": "markdown",
   "metadata": {},
   "source": [
    "### Worked!\n"
   ]
  },
  {
   "cell_type": "markdown",
   "metadata": {},
   "source": [
    "# "
   ]
  },
  {
   "cell_type": "markdown",
   "metadata": {},
   "source": [
    "**Syntax Analysis** <br>\n",
    "I know, I know it is not **A LOT** but still there is a lot going on!"
   ]
  },
  {
   "cell_type": "markdown",
   "metadata": {},
   "source": [
    "<img src=\"Explanation.png\" height=400 width=500>"
   ]
  },
  {
   "cell_type": "markdown",
   "metadata": {},
   "source": [
    "# MFAQs\n",
    "**M**y **F**reaquently **A**sked **Q**uestions"
   ]
  },
  {
   "cell_type": "markdown",
   "metadata": {},
   "source": [
    "—"
   ]
  },
  {
   "cell_type": "markdown",
   "metadata": {},
   "source": [
    "1. ***What is <u>state()</u>?*** <br>\n",
    "This is just like the `Input()` except it holds. Unlike Input which spits back the values, I mean as it can't HOLD the values, but just throws as the values come, `State()` doesn't do that.\n",
    "\n",
    "2. ***Then why also <u>Input()</u>?***<br>\n",
    "Because `Input()` is a special function. From all around the world, `Input()` only has the ability to *call* the function. So if there is no `Input()`, the the function is useless.\n",
    "\n",
    "3. ***Why <u>Input()</u> is bound with the Button?***<br>\n",
    "As said, `Input()` is the only function which has the ability to call the function, we have to call the function WHEN the Button is clicked. So, it will only get activated when the button is clicked.\n",
    "\n",
    "4. ***What does <u>State()</u> actully do?***<br>\n",
    "`State()` will also NOT GET called untill the widget bound with `Input()` gets clicked. So, when the function is called (ie. `Input()` element accessed) the state will get all data with which it is bound to and will then pass to the function.\n",
    "\n",
    "5. ***Is that it for <u>State()</u>***?<br>\n",
    "Yeah I mean `State()` only comes into an action when the `Input()` comes, we can't use 2 times `Input()` because otherwise that will get called as we put the values. So there has to be something else to take the inputs and is as usable as `Input()` so there we have `State()`.\n",
    "\n",
    "6. ***Why we passed <u>n_clicks</u> in the argument?***<br>\n",
    "I guess you are talking about this ↓\n",
    "```python\n",
    "@app.callback(Output(...),\n",
    "             [Input(\"submit\", \"n_clicks\")],\n",
    "             [State(...)])\n",
    "```\n",
    "As there is the signature of Input, we have to pass womething in the second parameter. But the button doesn't have other kind of parameters but a common parameter in ALL html tags → `n_clicks` we have passed that to make it work. It is useless unless we really want to keep track of the clicks. \n",
    "\n",
    "You can see in the image, with Aqua color line that, we just have ignore the value of n_clicks with `_` variable."
   ]
  },
  {
   "cell_type": "markdown",
   "metadata": {},
   "source": [
    "# "
   ]
  },
  {
   "cell_type": "markdown",
   "metadata": {},
   "source": [
    "# Well, That was easy!\n",
    "In the next section we will look at something new!"
   ]
  }
 ],
 "metadata": {
  "kernelspec": {
   "display_name": "Python 3",
   "language": "python",
   "name": "python3"
  },
  "language_info": {
   "codemirror_mode": {
    "name": "ipython",
    "version": 3
   },
   "file_extension": ".py",
   "mimetype": "text/x-python",
   "name": "python",
   "nbconvert_exporter": "python",
   "pygments_lexer": "ipython3",
   "version": "3.8.5"
  }
 },
 "nbformat": 4,
 "nbformat_minor": 4
}
