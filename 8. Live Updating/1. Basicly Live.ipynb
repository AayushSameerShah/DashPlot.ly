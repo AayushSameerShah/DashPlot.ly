{
 "cells": [
  {
   "cell_type": "markdown",
   "metadata": {},
   "source": [
    "# Hey There!"
   ]
  },
  {
   "cell_type": "markdown",
   "metadata": {},
   "source": [
    "Welcome to this new and fresh section. This section covers the \"Automatic Call to the Function\" functionality. \n",
    "<br>—<br>\n",
    "### Background\n",
    "Till now, as we have used the \"Static\" data, a data which is neither growing or shrinking... but stays the same, now it is the time to get <font color=\"aayush\"><b>LIVE</b></font> data. Our script will fetch the data from the server and instantly will present in front of us in the form of some cool viz. \n",
    "\n",
    "### What to expect\n",
    "Here in this notebook, I will demonstrate **the problem**, **the idea** and then **the solution**. All step by step as its being a new concept. If you've come to refresh the mind and want to quickly get to the point what is to be used, we are going to use `dcc.Interval()` function to repeat task after some intervals.\n",
    "\n",
    "Let's go Aayush ∞"
   ]
  },
  {
   "cell_type": "markdown",
   "metadata": {},
   "source": [
    "###### "
   ]
  },
  {
   "cell_type": "markdown",
   "metadata": {},
   "source": [
    "# <center> The Task </center>"
   ]
  },
  {
   "cell_type": "markdown",
   "metadata": {},
   "source": [
    "We need the script *to remember* the refresh of the page (as the example goes in the course), so when we refresh the page, we \"*kind of*\" get the new data of how many times the page has been refreshed and then we will print on the screen. So, let's see how."
   ]
  },
  {
   "cell_type": "markdown",
   "metadata": {},
   "source": [
    "#### <center> . . ."
   ]
  },
  {
   "cell_type": "code",
   "execution_count": 2,
   "metadata": {},
   "outputs": [],
   "source": [
    "import dash\n",
    "import dash_html_components as html\n",
    "import dash_core_components as dcc\n",
    "from dash.dependencies import Output, Input"
   ]
  },
  {
   "cell_type": "markdown",
   "metadata": {},
   "source": [
    "# <center> The Problem </center>"
   ]
  },
  {
   "cell_type": "code",
   "execution_count": 5,
   "metadata": {},
   "outputs": [],
   "source": [
    "app = dash.Dash()\n",
    "\n",
    "n = 0\n",
    "n += 1\n",
    "app.layout = html.Div(children=[\n",
    "                html.H1(f\"This page has been clicked for {n} times!\")\n",
    "            ])\n",
    "\n",
    "app.run_server()"
   ]
  },
  {
   "cell_type": "markdown",
   "metadata": {},
   "source": [
    "See ↑ nothing changed on the refresh, because the value is not updated again.\n",
    "\n",
    "***HINT?*** `app.layout` is the page itself which gets executed fresh, everytime when we run the page. So if there is any mechanism which can give new n+1 value to layout when the page is refreshed, we can get the job done."
   ]
  },
  {
   "cell_type": "markdown",
   "metadata": {},
   "source": [
    "So, let's try this ↓"
   ]
  },
  {
   "cell_type": "markdown",
   "metadata": {},
   "source": [
    "# <center> The Idea </center>"
   ]
  },
  {
   "cell_type": "code",
   "execution_count": 12,
   "metadata": {},
   "outputs": [],
   "source": [
    "app = dash.Dash()\n",
    "\n",
    "n = 0\n",
    "def update_n():\n",
    "    global n\n",
    "    n += 1\n",
    "    layout = html.Div(children=[\n",
    "                        html.H1(f\"This page has been clicked for {n} times!\")\n",
    "                        ])\n",
    "    return layout\n",
    "\n",
    "app.layout = update_n()\n",
    "app.run_server()"
   ]
  },
  {
   "cell_type": "markdown",
   "metadata": {},
   "source": [
    "Shit! It didn't work either.<br>\n",
    "- **The main idea** was that, we thought, `app.layout` is a `function` which runs again, and again when we refresh the page, but that isn't true. Because if that was the case, then the implementation above should have worked. \n",
    "\n",
    "- **So, what now?** there is a little change instead of writing <code><strike>app.layout = update_n()</strike></code> we wanna write → `app.layout = update_n`.<br>\n",
    "I mean really! Just remove the paranthesis!\n",
    "\n",
    "- **What is happening in there?** Our idea was *kind of* right before of thinking the `app.layout` as the function but that was not entierly correct. The correct thing is, *what `app.layout` stores, is reusable or re-callable*. So instead of storing the output of the function with calling `()`, we just store the function which can be called. That's it."
   ]
  },
  {
   "cell_type": "markdown",
   "metadata": {},
   "source": [
    "# <center> The Solution </center>"
   ]
  },
  {
   "cell_type": "code",
   "execution_count": 14,
   "metadata": {},
   "outputs": [],
   "source": [
    "app = dash.Dash()\n",
    "\n",
    "n = 0\n",
    "def update_n():\n",
    "    global n\n",
    "    n += 1\n",
    "    layout = html.Div(children=[\n",
    "                        html.H1(f\"This page has been clicked for {n} times!\")\n",
    "                        ])\n",
    "    return layout\n",
    "\n",
    "             ### POI ↓ POI ###\n",
    "app.layout = update_n\n",
    "app.run_server()"
   ]
  },
  {
   "cell_type": "markdown",
   "metadata": {},
   "source": [
    "Easy! Isn't it?"
   ]
  },
  {
   "cell_type": "markdown",
   "metadata": {},
   "source": [
    "If you want to check, the internal representation is...\n",
    "```python\n",
    "              # This ↓ gets called\n",
    "layout_value = self._layout_value()\n",
    "self.css._update_layout(layout_value)\n",
    "```"
   ]
  },
  {
   "cell_type": "markdown",
   "metadata": {},
   "source": [
    "# "
   ]
  },
  {
   "cell_type": "markdown",
   "metadata": {},
   "source": [
    "# Now The Real Hero"
   ]
  },
  {
   "cell_type": "markdown",
   "metadata": {},
   "source": [
    "Till now, I wanted to give the idea of \"how to get new data\". So, now you will see the actual thing to go when we need to have the realtime data. That is with (let me make it in big fonts)\n",
    "# `dcc.Interval()`"
   ]
  },
  {
   "cell_type": "markdown",
   "metadata": {},
   "source": [
    "Without the prior explanation let's look at the code first."
   ]
  },
  {
   "cell_type": "code",
   "execution_count": 9,
   "metadata": {},
   "outputs": [],
   "source": [
    "app = dash.Dash()\n",
    "\n",
    "app.layout = html.Div(children=[\n",
    "                html.H1(id=\"label\"),\n",
    "                dcc.Interval(interval=1000,          ### POI ← POI ###\n",
    "                             n_intervals=10,\n",
    "                             id=\"automatic_caller\")\n",
    "])\n",
    "\n",
    "@app.callback(Output(\"label\", \"children\"),\n",
    "             [Input(\"automatic_caller\", \"n_intervals\")])\n",
    "def get_count(n_intervals):\n",
    "    return f\"This page has been refreshed {n_intervals} times!\"\n",
    "\n",
    "app.run_server()"
   ]
  },
  {
   "cell_type": "markdown",
   "metadata": {},
   "source": [
    "Amazingly works!"
   ]
  },
  {
   "cell_type": "markdown",
   "metadata": {},
   "source": [
    "**Syntax Analysis**\n",
    "```python\n",
    "app.layout = html.Div(children=[\n",
    "                html.H1(id=\"label\"),\n",
    "                dcc.Interval(interval=1000, # ...(1)\n",
    "                             n_intervals=10, # ...(2)\n",
    "                             id=\"automatic_caller\")\n",
    "])\n",
    "\n",
    "```"
   ]
  },
  {
   "cell_type": "markdown",
   "metadata": {},
   "source": [
    "First thing is, `dcc.Interval` is passed directly as a dcc object like any other.  \n",
    "Second thing is, when you just define it like that, it will get call automatically after that many times.  \n",
    "—<br>\n",
    "(1) `interval` suggests after how much time (milliseconds) you wanna call a function  \n",
    "(2) `n_intervals` it has to be set, and if set to some other number like 100 then the counting will start from 100, 101, 102... if we decide not to set, it will be **None** and the sequence will be None, 1, 2..."
   ]
  },
  {
   "cell_type": "markdown",
   "metadata": {},
   "source": [
    " <u><b>Q</b></u> What if there are ***multiple*** `dcc.Intervals()`? <br>\n",
    " <u><b>A</b></u> They will call and affect different functions individually. Let's see practically below ↓\n",
    " "
   ]
  },
  {
   "cell_type": "markdown",
   "metadata": {},
   "source": [
    "### 1. All *Intervals* attatched to some function"
   ]
  },
  {
   "cell_type": "code",
   "execution_count": 12,
   "metadata": {},
   "outputs": [],
   "source": [
    "app = dash.Dash()\n",
    "\n",
    "app.layout = html.Div(children=[\n",
    "                html.H1(id=\"label_1\"),\n",
    "                html.H1(id=\"label_2\"),\n",
    "                html.H1(id=\"label_3\"),\n",
    "                \n",
    "                dcc.Interval(interval=2000,\n",
    "                             n_intervals=0,\n",
    "                             id=\"caller_1\"),\n",
    "                dcc.Interval(interval=1000,\n",
    "                             n_intervals=0,\n",
    "                             id=\"caller_2\"),\n",
    "                dcc.Interval(interval=500,\n",
    "                             n_intervals=0,\n",
    "                             id=\"caller_3\")\n",
    "])\n",
    "\n",
    "# 1 Label\n",
    "@app.callback(Output(\"label_1\", \"children\"),\n",
    "             [Input(\"caller_1\", \"n_intervals\")])\n",
    "def get_count_1(n_intervals):\n",
    "    return f\"This page has been refreshed {n_intervals} times AFTER 2 SECONDS GAP!\"\n",
    "\n",
    "\n",
    "# 2 Label\n",
    "@app.callback(Output(\"label_2\", \"children\"),\n",
    "             [Input(\"caller_2\", \"n_intervals\")])\n",
    "def get_count_2(n_intervals):\n",
    "    return f\"This page has been refreshed {n_intervals} times AFTER 1 SECOND GAP!\"\n",
    "\n",
    "\n",
    "# 3 Label\n",
    "@app.callback(Output(\"label_3\", \"children\"),\n",
    "             [Input(\"caller_3\", \"n_intervals\")])\n",
    "def get_count_3(n_intervals):\n",
    "    return f\"This page has been refreshed {n_intervals} times! AFTER 0.5 SECOND GAP!\"\n",
    "\n",
    "app.run_server()"
   ]
  },
  {
   "cell_type": "markdown",
   "metadata": {},
   "source": [
    "See it works!"
   ]
  },
  {
   "cell_type": "markdown",
   "metadata": {},
   "source": [
    "### 2. NOT All *Intervals* attatched to some function"
   ]
  },
  {
   "cell_type": "code",
   "execution_count": 14,
   "metadata": {},
   "outputs": [],
   "source": [
    "app = dash.Dash()\n",
    "\n",
    "app.layout = html.Div(children=[\n",
    "                html.H1(id=\"label_1\"),\n",
    "                html.H1(id=\"label_2\"),\n",
    "                html.H1(id=\"label_3\"),\n",
    "                \n",
    "                dcc.Interval(interval=2000,\n",
    "                             n_intervals=0,\n",
    "                             id=\"caller_1\"),\n",
    "                dcc.Interval(interval=1000,\n",
    "                             n_intervals=0,\n",
    "                             id=\"caller_2\"),\n",
    "                dcc.Interval(interval=500,\n",
    "                             n_intervals=0,\n",
    "                             id=\"caller_3\")\n",
    "])\n",
    "\n",
    "# 1 Label\n",
    "@app.callback(Output(\"label_1\", \"children\"),\n",
    "             [Input(\"caller_1\", \"n_intervals\")])\n",
    "def get_count_1(n_intervals):\n",
    "    return f\"This page has been refreshed {n_intervals} times AFTER 2 SECONDS GAP!\"\n",
    "\n",
    "\n",
    "### UN-ATTACHING 2nd INTERVAL ###\n",
    "# ----------------------------- #\n",
    "# @app.callback(Output(\"label_2\", \"children\"),\n",
    "#              [Input(\"caller_2\", \"n_intervals\")])\n",
    "# def get_count_2(n_intervals):\n",
    "#     return f\"This page has been refreshed {n_intervals} times AFTER 1 SECOND GAP!\"\n",
    "# ----------------------------- #\n",
    "### UN-ATTACHING 2nd INTERVAL ###\n",
    "\n",
    "\n",
    "# 3 Label\n",
    "@app.callback(Output(\"label_3\", \"children\"),\n",
    "             [Input(\"caller_3\", \"n_intervals\")])\n",
    "def get_count_3(n_intervals):\n",
    "    return f\"This page has been refreshed {n_intervals} times! AFTER 0.5 SECOND GAP!\"\n",
    "\n",
    "app.run_server()"
   ]
  },
  {
   "cell_type": "markdown",
   "metadata": {},
   "source": [
    "Still works! Just except the `2nd` label **is not shown.**"
   ]
  },
  {
   "cell_type": "markdown",
   "metadata": {},
   "source": [
    "# "
   ]
  },
  {
   "cell_type": "markdown",
   "metadata": {},
   "source": [
    "Great! Now the basics of `dcc.Interval` are clear, we can move to...\n",
    "# Next step,\n",
    "When we will get the benefit of this functionality to get new and LIVE data and update our Dashboard!"
   ]
  }
 ],
 "metadata": {
  "kernelspec": {
   "display_name": "Python 3",
   "language": "python",
   "name": "python3"
  },
  "language_info": {
   "codemirror_mode": {
    "name": "ipython",
    "version": 3
   },
   "file_extension": ".py",
   "mimetype": "text/x-python",
   "name": "python",
   "nbconvert_exporter": "python",
   "pygments_lexer": "ipython3",
   "version": "3.8.5"
  }
 },
 "nbformat": 4,
 "nbformat_minor": 4
}
