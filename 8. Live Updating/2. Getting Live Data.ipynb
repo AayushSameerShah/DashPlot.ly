{
 "cells": [
  {
   "cell_type": "markdown",
   "metadata": {},
   "source": [
    "# It has to start with Little."
   ]
  },
  {
   "cell_type": "markdown",
   "metadata": {},
   "source": [
    "As this is our first time hands on the live data, we can either get from some sort of API or we can run the scraping script to do it for us. For now, we will scrap a little data from [this site](https://www.flightradar24.com)."
   ]
  },
  {
   "cell_type": "markdown",
   "metadata": {},
   "source": [
    "Let's get started ∞"
   ]
  },
  {
   "cell_type": "markdown",
   "metadata": {},
   "source": [
    "# "
   ]
  },
  {
   "cell_type": "code",
   "execution_count": 29,
   "metadata": {},
   "outputs": [],
   "source": [
    "import dash\n",
    "import dash_core_components as dcc\n",
    "import dash_html_components as html\n",
    "from dash.dependencies import Output, Input\n",
    "\n",
    "import plotly.graph_objs as go\n",
    "import requests"
   ]
  },
  {
   "cell_type": "code",
   "execution_count": 6,
   "metadata": {},
   "outputs": [],
   "source": [
    "app = dash.Dash()\n",
    "\n",
    "app.layout = html.Div([\n",
    "                html.Div([\n",
    "                    html.Iframe(src=\"https://www.flightradar24.com/0,-171.61/2\",\n",
    "                                height=500, width=1200)\n",
    "                ])\n",
    "])\n",
    "\n",
    "app.run_server()"
   ]
  },
  {
   "cell_type": "markdown",
   "metadata": {},
   "source": [
    "The thing is, we wanna show the site, in our page. But here, the site has refused to connect when it is called inside Iframe tag. So we have to try another website."
   ]
  },
  {
   "cell_type": "markdown",
   "metadata": {},
   "source": [
    "After some searcing of the topic which can be best for this purpose, I fount this stock price [site](https://www.financialexpress.com/market/stock-market/reliance-industries-ltd-stock-price/). So let's do scrapping."
   ]
  },
  {
   "cell_type": "code",
   "execution_count": 13,
   "metadata": {},
   "outputs": [],
   "source": [
    "from bs4 import BeautifulSoup as bs\n",
    "import requests"
   ]
  },
  {
   "cell_type": "code",
   "execution_count": 48,
   "metadata": {},
   "outputs": [],
   "source": [
    "app = dash.Dash()\n",
    "url = \"https://in.investing.com/equities/reliance-industries-historical-data\"\n",
    "app.layout = html.Div([\n",
    "                html.Div([\n",
    "                    html.Iframe(src=url,\n",
    "                                height=500, width=1200)\n",
    "                ]),\n",
    "                html.Div([\n",
    "                    html.H1(id=\"price\"),\n",
    "                    dcc.Interval(interval=2000, id='caller')\n",
    "                ])\n",
    "])\n",
    "\n",
    "@app.callback(Output(\"price\", \"children\"),\n",
    "             [Input(\"caller\", \"n_intervals\")])\n",
    "def update_price(_):\n",
    "    response = requests.get(url, headers={\"User-Agent\":\"Mozilla/5.0\"})\n",
    "    soup = bs(response.content)\n",
    "    price = soup.find(\"bdo\", attrs={\"class\":\"last-price-value\"}).text\n",
    "    return f\"The current price is {price}\"\n",
    "\n",
    "\n",
    "app.run_server()"
   ]
  },
  {
   "cell_type": "markdown",
   "metadata": {},
   "source": [
    "Great! We are getting the price! Let's plot that on the graph."
   ]
  },
  {
   "cell_type": "code",
   "execution_count": 50,
   "metadata": {},
   "outputs": [],
   "source": [
    "app = dash.Dash()\n",
    "url = \"https://in.investing.com/equities/reliance-industries-historical-data\"\n",
    "\n",
    "app.layout = html.Div([\n",
    "                html.Div([\n",
    "                    html.Iframe(src=url,\n",
    "                                height=500, width=1200)\n",
    "                ]),\n",
    "                html.Div([\n",
    "                    html.H1(id=\"price\"),\n",
    "                    dcc.Interval(interval=2000, id='caller')\n",
    "                ]),\n",
    "                html.Div([\n",
    "                    dcc.Graph(id=\"show_it\")\n",
    "                ])\n",
    "])\n",
    "\n",
    "stock_prices = []\n",
    "@app.callback(Output(\"price\", \"children\"),\n",
    "             [Input(\"caller\", \"n_intervals\")])\n",
    "def update_price(_):\n",
    "    response = requests.get(url, headers={\"User-Agent\":\"Mozilla/5.0\"})\n",
    "    soup = bs(response.content)\n",
    "    price = soup.find(\"bdo\", attrs={\"class\":\"last-price-value\"}).text\n",
    "    stock_prices.append(price)\n",
    "    return f\"The current price is {price}\"\n",
    "\n",
    "\n",
    "@app.callback(Output(\"show_it\", \"figure\"),\n",
    "             [Input(\"caller\", \"n_intervals\")])\n",
    "def update_figure(_):\n",
    "    plot = [go.Scatter(x = list(range(len(stock_prices))),\n",
    "                       y = stock_prices,\n",
    "                       mode = \"lines\")]\n",
    "    \n",
    "    layout = go.Layout(title=\"Reliance Stock Data\")\n",
    "    figure = go.Figure(data=plot, layout=layout)\n",
    "    return figure\n",
    "    \n",
    "app.run_server()"
   ]
  },
  {
   "cell_type": "markdown",
   "metadata": {},
   "source": [
    "Works amazingly! I know, there is no any comments or syntax analysis there in the code, but you know, it is simple going. So I didn't. "
   ]
  },
  {
   "cell_type": "markdown",
   "metadata": {},
   "source": [
    "# "
   ]
  },
  {
   "cell_type": "markdown",
   "metadata": {},
   "source": [
    "# That's it!\n",
    "Next up, We will learn to deploy our dashboard."
   ]
  }
 ],
 "metadata": {
  "kernelspec": {
   "display_name": "Python 3",
   "language": "python",
   "name": "python3"
  },
  "language_info": {
   "codemirror_mode": {
    "name": "ipython",
    "version": 3
   },
   "file_extension": ".py",
   "mimetype": "text/x-python",
   "name": "python",
   "nbconvert_exporter": "python",
   "pygments_lexer": "ipython3",
   "version": "3.8.5"
  }
 },
 "nbformat": 4,
 "nbformat_minor": 4
}
