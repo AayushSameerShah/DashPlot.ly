{
 "cells": [
  {
   "cell_type": "markdown",
   "metadata": {},
   "source": [
    "# Exercise"
   ]
  },
  {
   "cell_type": "code",
   "execution_count": 1,
   "metadata": {},
   "outputs": [],
   "source": [
    "# %load Bubblechart.py\n",
    "#######\n",
    "# Objective: Create a bubble chart that compares three other features\n",
    "# from the mpg.csv dataset. Fields include: 'mpg', 'cylinders', 'displacement'\n",
    "# 'horsepower', 'weight', 'acceleration', 'model_year', 'origin', 'name'\n",
    "######"
   ]
  },
  {
   "cell_type": "markdown",
   "metadata": {},
   "source": [
    "# OOPS!\n",
    "This dataset is the same, and I don't think it is worthy to go with this again. <br>\n",
    "Skipping it."
   ]
  }
 ],
 "metadata": {
  "kernelspec": {
   "display_name": "Python 3",
   "language": "python",
   "name": "python3"
  },
  "language_info": {
   "codemirror_mode": {
    "name": "ipython",
    "version": 3
   },
   "file_extension": ".py",
   "mimetype": "text/x-python",
   "name": "python",
   "nbconvert_exporter": "python",
   "pygments_lexer": "ipython3",
   "version": "3.8.5"
  }
 },
 "nbformat": 4,
 "nbformat_minor": 4
}
