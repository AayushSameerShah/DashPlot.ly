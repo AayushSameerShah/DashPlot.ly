{
 "cells": [
  {
   "cell_type": "markdown",
   "metadata": {},
   "source": [
    "# Here,\n",
    "We will set some title and hovermodes ... let's see instead of talk"
   ]
  },
  {
   "cell_type": "code",
   "execution_count": 1,
   "metadata": {},
   "outputs": [],
   "source": [
    "import numpy as np\n",
    "import plotly.offline as pyo\n",
    "import plotly.graph_objs as go"
   ]
  },
  {
   "cell_type": "code",
   "execution_count": 2,
   "metadata": {},
   "outputs": [],
   "source": [
    "x = np.random.randint(0, 100, 100)\n",
    "y = 2 * x + np.random.randint(0, 100, 100)"
   ]
  },
  {
   "cell_type": "code",
   "execution_count": 4,
   "metadata": {},
   "outputs": [
    {
     "data": {
      "text/plain": [
       "'file://C:\\\\Users\\\\GIGABYTE\\\\Desktop\\\\Plot.ly\\\\1. Plotly — Basics\\\\temp-plot.html'"
      ]
     },
     "execution_count": 4,
     "metadata": {},
     "output_type": "execute_result"
    }
   ],
   "source": [
    "plot = [go.Scatter(x=x, y=y, mode='markers')]\n",
    "\n",
    "# Now to set the title on xaxis and y, we have to \n",
    "# set a `layout` variable and then pass it in the\n",
    "# .plot()\n",
    "layout = go.Layout(title=\"The relationship between x and y\",\n",
    "                  xaxis=dict(title=\"← X data →\"),\n",
    "                  yaxis=dict(title=\"← Y data →\"),\n",
    "                  hovermode=\"closest\")\n",
    "\n",
    "fig = go.Figure(data=plot, layout=layout)\n",
    "pyo.plot(fig)"
   ]
  },
  {
   "cell_type": "markdown",
   "metadata": {},
   "source": [
    "### Amazing!\n",
    "Let's see what is happening:\n",
    "- When we have to set something on the plot (other than the plot ploints), we have to make a `Layout`\n",
    "- `Layout` enables us to set multiple items. It is much like `axes.set()` function.\n",
    "    * Note that there is `hovermode` set to `closest` that will show the <br> x and y values together and if we don't want to set that, the option <br> is available on the live plot itself.\n",
    "- Now instead of `plot` list to be passed in the `pyo.plot()` we now have to pass the layout together.\n",
    "\n",
    "#### How?\n",
    "```python\n",
    "'''To pass the layout and plot together, we have to make a `figure` obj'''\n",
    "\n",
    "# This ↓ will bind `plot` and `layout` together\n",
    "fig = go.Figure(data=plot, layout=layout)\n",
    "\n",
    "# Now, simply pass the `fig` instead of `plot` in pyo.plot()\n",
    "pyo.plot(fig)\n",
    "```"
   ]
  },
  {
   "cell_type": "markdown",
   "metadata": {},
   "source": [
    "# "
   ]
  },
  {
   "cell_type": "markdown",
   "metadata": {},
   "source": [
    "## Now, colors and shapes"
   ]
  },
  {
   "cell_type": "code",
   "execution_count": 5,
   "metadata": {},
   "outputs": [
    {
     "data": {
      "text/plain": [
       "'file://C:\\\\Users\\\\GIGABYTE\\\\Desktop\\\\Plot.ly\\\\1. Plotly — Basics\\\\temp-plot.html'"
      ]
     },
     "execution_count": 5,
     "metadata": {},
     "output_type": "execute_result"
    }
   ],
   "source": [
    "plot = [go.Scatter(x=x, y=y, mode='markers', name=\"SCATTER\",\n",
    "                   marker=dict(\n",
    "                       size=20,\n",
    "                       color='red',\n",
    "                       symbol=2,\n",
    "                       line=dict(width=1),\n",
    "                       opacity=0.6\n",
    "                   ))]\n",
    "\n",
    "layout = go.Layout(title=\"The scatter of relation\",\n",
    "                      xaxis=dict(title=\"← X →\"),\n",
    "                      yaxis=dict(title=\"← Y →\"))\n",
    "\n",
    "fig = go.Figure(data=plot, layout=layout)\n",
    "pyo.plot(fig)"
   ]
  },
  {
   "cell_type": "markdown",
   "metadata": {},
   "source": [
    "Looks good! Now, there are multiple things to talk."
   ]
  },
  {
   "cell_type": "markdown",
   "metadata": {},
   "source": [
    "—"
   ]
  },
  {
   "cell_type": "markdown",
   "metadata": {},
   "source": [
    "Till now, I got some style convention of the plotly\n",
    "1. It makes things compact **by passing the configurations** of a widget as a dictionary form\n",
    "2. Like marker has it's own set of settings and inside of those there is a line which has its own set of settings <br> which prevents the redundancy of rewriting the same kind of parameters as we do in the matplotlib like: `markerstyle=\"\"`, `markersize=\"\"`, `markerfacecolor=\"\"` ...\n",
    "3. `name = \"\"` is an attribute... which is the replacement of `label` in plt. Used for legend name.\n",
    "4. `text = \"\"` again, an attribute in the `go.Scatter` *(which well will work with any plot)* - this will control what **extra information** do you want to show when the mouse is over the point.\n",
    "5. `hoverinfo = 'x' + 'y' + 'text'` shows in which order you want to show the information when you hover. Yes, you need to pass the literal 'x', 'y' ... (more example in 6. Dash — More Iteraction → 4. Using Every Interaction)\n"
   ]
  },
  {
   "cell_type": "markdown",
   "metadata": {},
   "source": [
    "Some attributes (settings) for `MARKER`:\n",
    "    \n",
    "    ['autocolorscale', 'cauto', 'cmax', 'cmin', 'color', 'colorbar',\n",
    "    'colorscale', 'colorsrc', 'gradient', 'line', 'maxdisplayed',\n",
    "    'opacity', 'opacitysrc', 'reversescale', 'showscale', 'size',\n",
    "    'sizemin', 'sizemode', 'sizeref', 'sizesrc', 'symbol', 'symbolsrc']"
   ]
  },
  {
   "cell_type": "markdown",
   "metadata": {},
   "source": [
    "Some attributes (settings) for `LINE` (in marker):\n",
    "\n",
    "    ['autocolorscale', 'cauto', 'cmax', 'cmin', 'color', 'colorscale',\n",
    "    'colorsrc', 'reversescale', 'width', 'widthsrc']"
   ]
  },
  {
   "cell_type": "markdown",
   "metadata": {},
   "source": [
    "**See that** instead of `alpha` here is `opacity`."
   ]
  },
  {
   "cell_type": "markdown",
   "metadata": {},
   "source": [
    "**Also See that**: Like in matplotlib, we can give the symbol like `*, x, s, o`... but here they all have their names. Ex. 'v' will not work like it does in the matplotlib. \n",
    "\n",
    "Check from **`0 to 144`** they have the different symbols. (Number 0 to 144 - yes.)"
   ]
  },
  {
   "cell_type": "markdown",
   "metadata": {},
   "source": [
    "# "
   ]
  },
  {
   "cell_type": "markdown",
   "metadata": {},
   "source": [
    "# That's it!!\n",
    "This notebook was not intended to showcase the scatter plots, but rather a *syntax* of plotly. <br>\n",
    "From now, as we are somewhat familiar with the syntax and basic configurations, we will see other plot types and do the stuff from there.\n",
    "\n",
    "Next up, line charts."
   ]
  },
  {
   "cell_type": "markdown",
   "metadata": {},
   "source": [
    "# "
   ]
  }
 ],
 "metadata": {
  "kernelspec": {
   "display_name": "Python 3",
   "language": "python",
   "name": "python3"
  },
  "language_info": {
   "codemirror_mode": {
    "name": "ipython",
    "version": 3
   },
   "file_extension": ".py",
   "mimetype": "text/x-python",
   "name": "python",
   "nbconvert_exporter": "python",
   "pygments_lexer": "ipython3",
   "version": "3.8.5"
  }
 },
 "nbformat": 4,
 "nbformat_minor": 4
}
