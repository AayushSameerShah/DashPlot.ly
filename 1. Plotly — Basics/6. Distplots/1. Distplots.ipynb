{
 "cells": [
  {
   "cell_type": "markdown",
   "metadata": {},
   "source": [
    "# Distplots\n",
    "or *Distribution Plots*"
   ]
  },
  {
   "cell_type": "markdown",
   "metadata": {},
   "source": [
    "—"
   ]
  },
  {
   "cell_type": "markdown",
   "metadata": {},
   "source": [
    "### This plot is...\n",
    "basically combination of `three plots`."
   ]
  },
  {
   "cell_type": "markdown",
   "metadata": {},
   "source": [
    "# <center> *Histogram + KDE + Rug Plot* = **Dist Plot** </center>"
   ]
  },
  {
   "cell_type": "markdown",
   "metadata": {},
   "source": [
    "This `Distplot` is also useful to compare the distribution of multiple categories. Like **Age** distribution for male and female. On the same axis but with different colors."
   ]
  },
  {
   "cell_type": "markdown",
   "metadata": {},
   "source": [
    "> This time the **imports will be different**."
   ]
  },
  {
   "cell_type": "code",
   "execution_count": 1,
   "metadata": {},
   "outputs": [],
   "source": [
    "import plotly.offline as pyo\n",
    "import numpy as np\n",
    "\n",
    "### NEW ↓ NEW ###\n",
    "import plotly.figure_factory as ff\n",
    "### Does some complex figures (like multiple categories on the same axis) "
   ]
  },
  {
   "cell_type": "markdown",
   "metadata": {},
   "source": [
    "#### Wait...\n",
    "*Whay not ↓*\n",
    "```python\n",
    "import plotly.graph_objs as go\n",
    "```\n",
    "##### Because:\n",
    "When you press `go.<TAB>` you won't see any thing like `Distplot` or `distplot`. So, we can say that DISTPLOT is a COMPLEX kind of plot that is included in the `figure_factory` instead of `graph_objs`. \n",
    "\n",
    "***More***: `ff` has other kind of complex plots like *Violin*, *Gantt*, *OHLC*... so we can say that they are the complex plots."
   ]
  },
  {
   "cell_type": "markdown",
   "metadata": {},
   "source": [
    "# "
   ]
  },
  {
   "cell_type": "markdown",
   "metadata": {},
   "source": [
    "Available Plots"
   ]
  },
  {
   "cell_type": "code",
   "execution_count": 11,
   "metadata": {},
   "outputs": [
    {
     "data": {
      "text/plain": [
       "['create_2d_density',\n",
       " 'create_annotated_heatmap',\n",
       " 'create_bullet',\n",
       " 'create_candlestick',\n",
       " 'create_choropleth',\n",
       " 'create_dendrogram',\n",
       " 'create_distplot',\n",
       " 'create_facet_grid',\n",
       " 'create_gantt',\n",
       " 'create_ohlc',\n",
       " 'create_quiver',\n",
       " 'create_scatterplotmatrix',\n",
       " 'create_streamline',\n",
       " 'create_table',\n",
       " 'create_trisurf',\n",
       " 'create_violin']"
      ]
     },
     "execution_count": 11,
     "metadata": {},
     "output_type": "execute_result"
    }
   ],
   "source": [
    "[plot for plot in dir(ff) if plot.startswith(\"create\")]"
   ]
  },
  {
   "cell_type": "markdown",
   "metadata": {},
   "source": [
    "Let's get started with the Distplot."
   ]
  },
  {
   "cell_type": "markdown",
   "metadata": {},
   "source": [
    "##### "
   ]
  },
  {
   "cell_type": "markdown",
   "metadata": {},
   "source": [
    "## First Normal DistPlot"
   ]
  },
  {
   "cell_type": "code",
   "execution_count": 2,
   "metadata": {},
   "outputs": [
    {
     "data": {
      "text/plain": [
       "'file://C:\\\\Users\\\\GIGABYTE\\\\Desktop\\\\Plot.ly\\\\1. Plotly — Basics\\\\6. Distplots\\\\temp-plot.html'"
      ]
     },
     "execution_count": 2,
     "metadata": {},
     "output_type": "execute_result"
    }
   ],
   "source": [
    "x = np.random.normal(0, 5, 1000)\n",
    "\n",
    "# New Syntax. Don't freak out\n",
    "plot = ff.create_distplot(hist_data=[x], group_labels=[\"First\"])\n",
    "pyo.plot(plot)"
   ]
  },
  {
   "cell_type": "markdown",
   "metadata": {},
   "source": [
    "Yes, new thing.<br> But please keep in mind that this is not the normal `go` plot. This is the \n",
    "other `ff` plot which has a new syntax → **because it requires different categories BY DEFAULT.**"
   ]
  },
  {
   "cell_type": "markdown",
   "metadata": {},
   "source": [
    "##### Syntax Analysis\n",
    "```python\n",
    "                                # | This one will be mapped as the \n",
    "                                # ↓`names` of `labels` for legend\n",
    "plot = ff.create_distplot([x], [\"First\"])\n",
    "                        # ↑ Is the data - the actual data\n",
    "                        # which is passed in `hist_data` \n",
    "                        # parameter on the first pos.\n",
    "```"
   ]
  },
  {
   "cell_type": "markdown",
   "metadata": {},
   "source": [
    "They must be the list. So that means, we can pass data by categories by default, as the syntax allows us to do so."
   ]
  },
  {
   "cell_type": "markdown",
   "metadata": {},
   "source": [
    "## With some masala"
   ]
  },
  {
   "cell_type": "code",
   "execution_count": 3,
   "metadata": {},
   "outputs": [
    {
     "data": {
      "text/plain": [
       "'file://C:\\\\Users\\\\GIGABYTE\\\\Desktop\\\\Plot.ly\\\\1. Plotly — Basics\\\\6. Distplots\\\\temp-plot.html'"
      ]
     },
     "execution_count": 3,
     "metadata": {},
     "output_type": "execute_result"
    }
   ],
   "source": [
    "x = np.random.normal(0, 5, 1000)\n",
    "y = np.random.normal(10, 5, 1000)\n",
    "\n",
    "                                ### POI ↓ POI ↓ POI ↓ POI ↓ POI ↓ POI ↓ POI  ###\n",
    "plot = ff.create_distplot(hist_data=[x, y], group_labels=[\"First\", \"Second\"])\n",
    "pyo.plot(plot)"
   ]
  },
  {
   "cell_type": "markdown",
   "metadata": {},
   "source": [
    "###### "
   ]
  },
  {
   "cell_type": "markdown",
   "metadata": {},
   "source": [
    "## Some bin size settings?"
   ]
  },
  {
   "cell_type": "code",
   "execution_count": 28,
   "metadata": {},
   "outputs": [
    {
     "data": {
      "text/plain": [
       "'file://C:\\\\Users\\\\GIGABYTE\\\\Desktop\\\\Plot.ly\\\\1. Plotly — Basics\\\\6. Distplots\\\\temp-plot.html'"
      ]
     },
     "execution_count": 28,
     "metadata": {},
     "output_type": "execute_result"
    }
   ],
   "source": [
    "x = np.random.normal(0, 5, 1000)\n",
    "y = np.random.normal(10, 5, 1000)\n",
    "\n",
    "                         \n",
    "plot = ff.create_distplot(hist_data=[x, y], group_labels=[\"First\", \"Second\"],\n",
    "                          bin_size=[2, 5])\n",
    "                            ### POI ↑ POI  ###\n",
    "pyo.plot(plot)"
   ]
  },
  {
   "cell_type": "markdown",
   "metadata": {},
   "source": [
    "See? It also has to passed for all dists. As in the list."
   ]
  },
  {
   "cell_type": "markdown",
   "metadata": {},
   "source": [
    "**If you are wondering...** on will it have `xbins = (start=0, end=100, size=50)` kind of style as we did int hte histogram? The answer is no. It doesn't have that kind of facility."
   ]
  },
  {
   "cell_type": "markdown",
   "metadata": {},
   "source": [
    "##### "
   ]
  },
  {
   "cell_type": "markdown",
   "metadata": {},
   "source": [
    "## Don't want to show Hist?"
   ]
  },
  {
   "cell_type": "markdown",
   "metadata": {},
   "source": [
    "Use, `show_hist = False` in the ff.create_distplot()."
   ]
  },
  {
   "cell_type": "markdown",
   "metadata": {},
   "source": [
    "# "
   ]
  },
  {
   "cell_type": "markdown",
   "metadata": {},
   "source": [
    "# That's it!\n",
    "Nextly, we will do some excercise"
   ]
  },
  {
   "cell_type": "markdown",
   "metadata": {},
   "source": [
    "# "
   ]
  }
 ],
 "metadata": {
  "kernelspec": {
   "display_name": "Python 3",
   "language": "python",
   "name": "python3"
  },
  "language_info": {
   "codemirror_mode": {
    "name": "ipython",
    "version": 3
   },
   "file_extension": ".py",
   "mimetype": "text/x-python",
   "name": "python",
   "nbconvert_exporter": "python",
   "pygments_lexer": "ipython3",
   "version": "3.8.5"
  }
 },
 "nbformat": 4,
 "nbformat_minor": 4
}
