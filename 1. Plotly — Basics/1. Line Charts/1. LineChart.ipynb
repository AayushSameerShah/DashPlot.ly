{
 "cells": [
  {
   "cell_type": "markdown",
   "metadata": {},
   "source": [
    "# Line Plots"
   ]
  },
  {
   "cell_type": "markdown",
   "metadata": {},
   "source": [
    "Line plots doesn't have the `seperate` go.Line kind of function. It is the same, a scatter function but **instead of MODE='markers'** we will put **'lines'**."
   ]
  },
  {
   "cell_type": "markdown",
   "metadata": {},
   "source": [
    "###### "
   ]
  },
  {
   "cell_type": "code",
   "execution_count": 28,
   "metadata": {},
   "outputs": [],
   "source": [
    "import numpy as np\n",
    "import plotly.offline as pyo, plotly.graph_objs as go"
   ]
  },
  {
   "cell_type": "markdown",
   "metadata": {},
   "source": [
    "###### "
   ]
  },
  {
   "cell_type": "markdown",
   "metadata": {},
   "source": [
    "*Simple Line Plot*"
   ]
  },
  {
   "cell_type": "code",
   "execution_count": 9,
   "metadata": {},
   "outputs": [
    {
     "data": {
      "text/plain": [
       "'file://C:\\\\Users\\\\GIGABYTE\\\\Desktop\\\\Plot.ly\\\\1. Plotly — Basics\\\\temp-plot.html'"
      ]
     },
     "execution_count": 9,
     "metadata": {},
     "output_type": "execute_result"
    }
   ],
   "source": [
    "x = np.arange(1, 101)\n",
    "y = np.random.randn(100)\n",
    "\n",
    "# New convention of defining plots\n",
    "trace = go.Scatter(x=x, y=y, mode='line')\n",
    "data = [trace]\n",
    "\n",
    "layout = go.Layout(title=\"The fun with LinePlot\")\n",
    "fig = go.Figure(data=data, layout=layout)\n",
    "\n",
    "pyo.plot(fig)"
   ]
  },
  {
   "cell_type": "markdown",
   "metadata": {},
   "source": [
    "See there? `mode='line'`?\n",
    "\n",
    "And also note that, we have introduced a new thing, `trace` variable. Which will help us to plot two charts together. So there is `NO \"[ ]\" with go.Scatter`"
   ]
  },
  {
   "cell_type": "markdown",
   "metadata": {},
   "source": [
    "###### "
   ]
  },
  {
   "cell_type": "markdown",
   "metadata": {},
   "source": [
    "*Line Plot WITH markers*"
   ]
  },
  {
   "cell_type": "code",
   "execution_count": 21,
   "metadata": {},
   "outputs": [
    {
     "data": {
      "text/plain": [
       "'file://C:\\\\Users\\\\GIGABYTE\\\\Desktop\\\\Plot.ly\\\\1. Plotly — Basics\\\\temp-plot.html'"
      ]
     },
     "execution_count": 21,
     "metadata": {},
     "output_type": "execute_result"
    }
   ],
   "source": [
    "x = np.arange(1, 101)\n",
    "y = np.random.randn(100)\n",
    "\n",
    "# New convention of defining plots\n",
    "trace = go.Scatter(x=x, y=y, mode='lines+markers')\n",
    "data = [trace] \n",
    "\n",
    "layout = go.Layout(title=\"The fun with LinePlot\")\n",
    "fig = go.Figure(data=data, layout=layout)\n",
    "\n",
    "pyo.plot(fig)"
   ]
  },
  {
   "cell_type": "markdown",
   "metadata": {},
   "source": [
    "## "
   ]
  },
  {
   "cell_type": "markdown",
   "metadata": {},
   "source": [
    "*Line Plot WITH markers (custom - overlapping)*"
   ]
  },
  {
   "cell_type": "markdown",
   "metadata": {},
   "source": [
    "Cool! But what **even** cooler is ↓ this"
   ]
  },
  {
   "cell_type": "code",
   "execution_count": 18,
   "metadata": {},
   "outputs": [
    {
     "data": {
      "text/plain": [
       "'file://C:\\\\Users\\\\GIGABYTE\\\\Desktop\\\\Plot.ly\\\\1. Plotly — Basics\\\\temp-plot.html'"
      ]
     },
     "execution_count": 18,
     "metadata": {},
     "output_type": "execute_result"
    }
   ],
   "source": [
    "x = np.arange(1, 101)\n",
    "y = np.random.randn(100)\n",
    "\n",
    "# New convention of defining plots\n",
    "trace_1 = go.Scatter(x=x, y=y, mode='markers', name=\"Marker\")\n",
    "trace_2 = go.Scatter(x=x, y=y, mode='lines', name=\"Lines\")\n",
    "\n",
    "# How helpful ↓ \n",
    "data = [trace_1, trace_2] \n",
    "\n",
    "layout = go.Layout(title=\"The fun with LinePlot\")\n",
    "fig = go.Figure(data=data, layout=layout)\n",
    "\n",
    "pyo.plot(fig)"
   ]
  },
  {
   "cell_type": "markdown",
   "metadata": {},
   "source": [
    "##### "
   ]
  },
  {
   "cell_type": "markdown",
   "metadata": {},
   "source": [
    "### Use `data = [trace_1, trace_2, trace_n]` for overlapping plots!"
   ]
  },
  {
   "cell_type": "markdown",
   "metadata": {},
   "source": [
    "##### "
   ]
  },
  {
   "cell_type": "markdown",
   "metadata": {},
   "source": [
    "So, here we saw **`3 types`** of mode values:\n",
    "1. markers\n",
    "2. lines\n",
    "3. lines+markers"
   ]
  },
  {
   "cell_type": "markdown",
   "metadata": {},
   "source": [
    "> **name** argument is really really helpful for legend."
   ]
  },
  {
   "cell_type": "markdown",
   "metadata": {},
   "source": [
    "# "
   ]
  },
  {
   "cell_type": "markdown",
   "metadata": {},
   "source": [
    "# Now, some stuff with **Pandas**"
   ]
  },
  {
   "cell_type": "code",
   "execution_count": 1,
   "metadata": {},
   "outputs": [],
   "source": [
    "import pandas as pd"
   ]
  },
  {
   "cell_type": "code",
   "execution_count": 22,
   "metadata": {},
   "outputs": [
    {
     "data": {
      "text/html": [
       "<div>\n",
       "<style scoped>\n",
       "    .dataframe tbody tr th:only-of-type {\n",
       "        vertical-align: middle;\n",
       "    }\n",
       "\n",
       "    .dataframe tbody tr th {\n",
       "        vertical-align: top;\n",
       "    }\n",
       "\n",
       "    .dataframe thead th {\n",
       "        text-align: right;\n",
       "    }\n",
       "</style>\n",
       "<table border=\"1\" class=\"dataframe\">\n",
       "  <thead>\n",
       "    <tr style=\"text-align: right;\">\n",
       "      <th></th>\n",
       "      <th>SUMLEV</th>\n",
       "      <th>REGION</th>\n",
       "      <th>DIVISION</th>\n",
       "      <th>STATE</th>\n",
       "      <th>NAME</th>\n",
       "      <th>CENSUS2010POP</th>\n",
       "      <th>ESTIMATESBASE2010</th>\n",
       "      <th>POPESTIMATE2010</th>\n",
       "      <th>POPESTIMATE2011</th>\n",
       "      <th>POPESTIMATE2012</th>\n",
       "      <th>...</th>\n",
       "      <th>RDOMESTICMIG2015</th>\n",
       "      <th>RDOMESTICMIG2016</th>\n",
       "      <th>RDOMESTICMIG2017</th>\n",
       "      <th>RNETMIG2011</th>\n",
       "      <th>RNETMIG2012</th>\n",
       "      <th>RNETMIG2013</th>\n",
       "      <th>RNETMIG2014</th>\n",
       "      <th>RNETMIG2015</th>\n",
       "      <th>RNETMIG2016</th>\n",
       "      <th>RNETMIG2017</th>\n",
       "    </tr>\n",
       "  </thead>\n",
       "  <tbody>\n",
       "    <tr>\n",
       "      <th>0</th>\n",
       "      <td>10.0</td>\n",
       "      <td>0</td>\n",
       "      <td>0</td>\n",
       "      <td>0.0</td>\n",
       "      <td>United States</td>\n",
       "      <td>308745538.0</td>\n",
       "      <td>308758105.0</td>\n",
       "      <td>309338421.0</td>\n",
       "      <td>311644280.0</td>\n",
       "      <td>313993272.0</td>\n",
       "      <td>...</td>\n",
       "      <td>0.000000</td>\n",
       "      <td>0.000000</td>\n",
       "      <td>0.000000</td>\n",
       "      <td>2.720900</td>\n",
       "      <td>2.920371</td>\n",
       "      <td>2.883643</td>\n",
       "      <td>3.173228</td>\n",
       "      <td>3.516743</td>\n",
       "      <td>3.513394</td>\n",
       "      <td>3.423941</td>\n",
       "    </tr>\n",
       "    <tr>\n",
       "      <th>1</th>\n",
       "      <td>20.0</td>\n",
       "      <td>1</td>\n",
       "      <td>0</td>\n",
       "      <td>0.0</td>\n",
       "      <td>Northeast Region</td>\n",
       "      <td>55317240.0</td>\n",
       "      <td>55318350.0</td>\n",
       "      <td>55388349.0</td>\n",
       "      <td>55642659.0</td>\n",
       "      <td>55860261.0</td>\n",
       "      <td>...</td>\n",
       "      <td>-6.103092</td>\n",
       "      <td>-6.619089</td>\n",
       "      <td>-5.559570</td>\n",
       "      <td>1.467950</td>\n",
       "      <td>0.779137</td>\n",
       "      <td>0.605873</td>\n",
       "      <td>-0.082832</td>\n",
       "      <td>-0.903931</td>\n",
       "      <td>-1.307503</td>\n",
       "      <td>-0.288930</td>\n",
       "    </tr>\n",
       "    <tr>\n",
       "      <th>2</th>\n",
       "      <td>20.0</td>\n",
       "      <td>2</td>\n",
       "      <td>0</td>\n",
       "      <td>0.0</td>\n",
       "      <td>Midwest Region</td>\n",
       "      <td>66927001.0</td>\n",
       "      <td>66929794.0</td>\n",
       "      <td>66973360.0</td>\n",
       "      <td>67141501.0</td>\n",
       "      <td>67318295.0</td>\n",
       "      <td>...</td>\n",
       "      <td>-3.458531</td>\n",
       "      <td>-3.307295</td>\n",
       "      <td>-2.304640</td>\n",
       "      <td>-1.187519</td>\n",
       "      <td>-1.010696</td>\n",
       "      <td>-0.120354</td>\n",
       "      <td>-0.752477</td>\n",
       "      <td>-1.323952</td>\n",
       "      <td>-1.160735</td>\n",
       "      <td>-0.191323</td>\n",
       "    </tr>\n",
       "    <tr>\n",
       "      <th>3</th>\n",
       "      <td>20.0</td>\n",
       "      <td>3</td>\n",
       "      <td>0</td>\n",
       "      <td>0.0</td>\n",
       "      <td>South Region</td>\n",
       "      <td>114555744.0</td>\n",
       "      <td>114563024.0</td>\n",
       "      <td>114869241.0</td>\n",
       "      <td>116060993.0</td>\n",
       "      <td>117291728.0</td>\n",
       "      <td>...</td>\n",
       "      <td>3.788037</td>\n",
       "      <td>3.592695</td>\n",
       "      <td>2.900528</td>\n",
       "      <td>5.544289</td>\n",
       "      <td>5.831747</td>\n",
       "      <td>5.362083</td>\n",
       "      <td>6.317310</td>\n",
       "      <td>7.336162</td>\n",
       "      <td>7.113818</td>\n",
       "      <td>6.304010</td>\n",
       "    </tr>\n",
       "    <tr>\n",
       "      <th>4</th>\n",
       "      <td>20.0</td>\n",
       "      <td>4</td>\n",
       "      <td>0</td>\n",
       "      <td>0.0</td>\n",
       "      <td>West Region</td>\n",
       "      <td>71945553.0</td>\n",
       "      <td>71946937.0</td>\n",
       "      <td>72107471.0</td>\n",
       "      <td>72799127.0</td>\n",
       "      <td>73522988.0</td>\n",
       "      <td>...</td>\n",
       "      <td>1.613450</td>\n",
       "      <td>2.099001</td>\n",
       "      <td>1.475519</td>\n",
       "      <td>2.798796</td>\n",
       "      <td>3.521423</td>\n",
       "      <td>3.396627</td>\n",
       "      <td>4.163576</td>\n",
       "      <td>5.067452</td>\n",
       "      <td>5.488965</td>\n",
       "      <td>4.737979</td>\n",
       "    </tr>\n",
       "  </tbody>\n",
       "</table>\n",
       "<p>5 rows × 121 columns</p>\n",
       "</div>"
      ],
      "text/plain": [
       "   SUMLEV REGION DIVISION  STATE              NAME  CENSUS2010POP  \\\n",
       "0    10.0      0        0    0.0     United States    308745538.0   \n",
       "1    20.0      1        0    0.0  Northeast Region     55317240.0   \n",
       "2    20.0      2        0    0.0    Midwest Region     66927001.0   \n",
       "3    20.0      3        0    0.0      South Region    114555744.0   \n",
       "4    20.0      4        0    0.0       West Region     71945553.0   \n",
       "\n",
       "   ESTIMATESBASE2010  POPESTIMATE2010  POPESTIMATE2011  POPESTIMATE2012  ...  \\\n",
       "0        308758105.0      309338421.0      311644280.0      313993272.0  ...   \n",
       "1         55318350.0       55388349.0       55642659.0       55860261.0  ...   \n",
       "2         66929794.0       66973360.0       67141501.0       67318295.0  ...   \n",
       "3        114563024.0      114869241.0      116060993.0      117291728.0  ...   \n",
       "4         71946937.0       72107471.0       72799127.0       73522988.0  ...   \n",
       "\n",
       "   RDOMESTICMIG2015  RDOMESTICMIG2016  RDOMESTICMIG2017  RNETMIG2011  \\\n",
       "0          0.000000          0.000000          0.000000     2.720900   \n",
       "1         -6.103092         -6.619089         -5.559570     1.467950   \n",
       "2         -3.458531         -3.307295         -2.304640    -1.187519   \n",
       "3          3.788037          3.592695          2.900528     5.544289   \n",
       "4          1.613450          2.099001          1.475519     2.798796   \n",
       "\n",
       "   RNETMIG2012  RNETMIG2013  RNETMIG2014  RNETMIG2015  RNETMIG2016  \\\n",
       "0     2.920371     2.883643     3.173228     3.516743     3.513394   \n",
       "1     0.779137     0.605873    -0.082832    -0.903931    -1.307503   \n",
       "2    -1.010696    -0.120354    -0.752477    -1.323952    -1.160735   \n",
       "3     5.831747     5.362083     6.317310     7.336162     7.113818   \n",
       "4     3.521423     3.396627     4.163576     5.067452     5.488965   \n",
       "\n",
       "   RNETMIG2017  \n",
       "0     3.423941  \n",
       "1    -0.288930  \n",
       "2    -0.191323  \n",
       "3     6.304010  \n",
       "4     4.737979  \n",
       "\n",
       "[5 rows x 121 columns]"
      ]
     },
     "execution_count": 22,
     "metadata": {},
     "output_type": "execute_result"
    }
   ],
   "source": [
    "df = pd.read_csv(\"../../DATA/SourceData/nst-est2017-alldata.csv\")\n",
    "df.head()"
   ]
  },
  {
   "cell_type": "code",
   "execution_count": 24,
   "metadata": {},
   "outputs": [],
   "source": [
    "df = df[df[\"DIVISION\"] == '1']\n",
    "df.set_index(\"NAME\", inplace=True)"
   ]
  },
  {
   "cell_type": "code",
   "execution_count": 25,
   "metadata": {},
   "outputs": [
    {
     "data": {
      "text/plain": [
       "['POPESTIMATE2010',\n",
       " 'POPESTIMATE2011',\n",
       " 'POPESTIMATE2012',\n",
       " 'POPESTIMATE2013',\n",
       " 'POPESTIMATE2014',\n",
       " 'POPESTIMATE2015',\n",
       " 'POPESTIMATE2016',\n",
       " 'POPESTIMATE2017']"
      ]
     },
     "execution_count": 25,
     "metadata": {},
     "output_type": "execute_result"
    }
   ],
   "source": [
    "pop_cols = [col for col in df.columns if col.startswith(\"POP\")]\n",
    "pop_cols"
   ]
  },
  {
   "cell_type": "code",
   "execution_count": 26,
   "metadata": {},
   "outputs": [
    {
     "data": {
      "text/html": [
       "<div>\n",
       "<style scoped>\n",
       "    .dataframe tbody tr th:only-of-type {\n",
       "        vertical-align: middle;\n",
       "    }\n",
       "\n",
       "    .dataframe tbody tr th {\n",
       "        vertical-align: top;\n",
       "    }\n",
       "\n",
       "    .dataframe thead th {\n",
       "        text-align: right;\n",
       "    }\n",
       "</style>\n",
       "<table border=\"1\" class=\"dataframe\">\n",
       "  <thead>\n",
       "    <tr style=\"text-align: right;\">\n",
       "      <th></th>\n",
       "      <th>POPESTIMATE2010</th>\n",
       "      <th>POPESTIMATE2011</th>\n",
       "      <th>POPESTIMATE2012</th>\n",
       "      <th>POPESTIMATE2013</th>\n",
       "      <th>POPESTIMATE2014</th>\n",
       "      <th>POPESTIMATE2015</th>\n",
       "      <th>POPESTIMATE2016</th>\n",
       "      <th>POPESTIMATE2017</th>\n",
       "    </tr>\n",
       "    <tr>\n",
       "      <th>NAME</th>\n",
       "      <th></th>\n",
       "      <th></th>\n",
       "      <th></th>\n",
       "      <th></th>\n",
       "      <th></th>\n",
       "      <th></th>\n",
       "      <th></th>\n",
       "      <th></th>\n",
       "    </tr>\n",
       "  </thead>\n",
       "  <tbody>\n",
       "    <tr>\n",
       "      <th>Connecticut</th>\n",
       "      <td>3580171.0</td>\n",
       "      <td>3591927.0</td>\n",
       "      <td>3597705.0</td>\n",
       "      <td>3602470.0</td>\n",
       "      <td>3600188.0</td>\n",
       "      <td>3593862.0</td>\n",
       "      <td>3587685.0</td>\n",
       "      <td>3588184.0</td>\n",
       "    </tr>\n",
       "    <tr>\n",
       "      <th>Maine</th>\n",
       "      <td>1327568.0</td>\n",
       "      <td>1327968.0</td>\n",
       "      <td>1328101.0</td>\n",
       "      <td>1327975.0</td>\n",
       "      <td>1328903.0</td>\n",
       "      <td>1327787.0</td>\n",
       "      <td>1330232.0</td>\n",
       "      <td>1335907.0</td>\n",
       "    </tr>\n",
       "    <tr>\n",
       "      <th>Massachusetts</th>\n",
       "      <td>6564943.0</td>\n",
       "      <td>6612178.0</td>\n",
       "      <td>6659627.0</td>\n",
       "      <td>6711138.0</td>\n",
       "      <td>6757925.0</td>\n",
       "      <td>6794002.0</td>\n",
       "      <td>6823721.0</td>\n",
       "      <td>6859819.0</td>\n",
       "    </tr>\n",
       "    <tr>\n",
       "      <th>New Hampshire</th>\n",
       "      <td>1316700.0</td>\n",
       "      <td>1318345.0</td>\n",
       "      <td>1320923.0</td>\n",
       "      <td>1322622.0</td>\n",
       "      <td>1328684.0</td>\n",
       "      <td>1330134.0</td>\n",
       "      <td>1335015.0</td>\n",
       "      <td>1342795.0</td>\n",
       "    </tr>\n",
       "    <tr>\n",
       "      <th>Rhode Island</th>\n",
       "      <td>1053169.0</td>\n",
       "      <td>1052154.0</td>\n",
       "      <td>1052761.0</td>\n",
       "      <td>1052784.0</td>\n",
       "      <td>1054782.0</td>\n",
       "      <td>1055916.0</td>\n",
       "      <td>1057566.0</td>\n",
       "      <td>1059639.0</td>\n",
       "    </tr>\n",
       "    <tr>\n",
       "      <th>Vermont</th>\n",
       "      <td>625842.0</td>\n",
       "      <td>626210.0</td>\n",
       "      <td>625606.0</td>\n",
       "      <td>626044.0</td>\n",
       "      <td>625665.0</td>\n",
       "      <td>624455.0</td>\n",
       "      <td>623354.0</td>\n",
       "      <td>623657.0</td>\n",
       "    </tr>\n",
       "  </tbody>\n",
       "</table>\n",
       "</div>"
      ],
      "text/plain": [
       "               POPESTIMATE2010  POPESTIMATE2011  POPESTIMATE2012  \\\n",
       "NAME                                                               \n",
       "Connecticut          3580171.0        3591927.0        3597705.0   \n",
       "Maine                1327568.0        1327968.0        1328101.0   \n",
       "Massachusetts        6564943.0        6612178.0        6659627.0   \n",
       "New Hampshire        1316700.0        1318345.0        1320923.0   \n",
       "Rhode Island         1053169.0        1052154.0        1052761.0   \n",
       "Vermont               625842.0         626210.0         625606.0   \n",
       "\n",
       "               POPESTIMATE2013  POPESTIMATE2014  POPESTIMATE2015  \\\n",
       "NAME                                                               \n",
       "Connecticut          3602470.0        3600188.0        3593862.0   \n",
       "Maine                1327975.0        1328903.0        1327787.0   \n",
       "Massachusetts        6711138.0        6757925.0        6794002.0   \n",
       "New Hampshire        1322622.0        1328684.0        1330134.0   \n",
       "Rhode Island         1052784.0        1054782.0        1055916.0   \n",
       "Vermont               626044.0         625665.0         624455.0   \n",
       "\n",
       "               POPESTIMATE2016  POPESTIMATE2017  \n",
       "NAME                                             \n",
       "Connecticut          3587685.0        3588184.0  \n",
       "Maine                1330232.0        1335907.0  \n",
       "Massachusetts        6823721.0        6859819.0  \n",
       "New Hampshire        1335015.0        1342795.0  \n",
       "Rhode Island         1057566.0        1059639.0  \n",
       "Vermont               623354.0         623657.0  "
      ]
     },
     "execution_count": 26,
     "metadata": {},
     "output_type": "execute_result"
    }
   ],
   "source": [
    "df = df[pop_cols]\n",
    "df"
   ]
  },
  {
   "cell_type": "code",
   "execution_count": 33,
   "metadata": {},
   "outputs": [
    {
     "data": {
      "text/plain": [
       "'file://C:\\\\Users\\\\GIGABYTE\\\\Desktop\\\\Plot.ly\\\\1. Plotly — Basics\\\\Line Charts\\\\temp-plot.html'"
      ]
     },
     "execution_count": 33,
     "metadata": {},
     "output_type": "execute_result"
    }
   ],
   "source": [
    "# Now, plotting\n",
    "plot = [go.Scatter(x=df.index, y=df.POPESTIMATE2010, mode='lines')]\n",
    "pyo.plot(plot)"
   ]
  },
  {
   "cell_type": "markdown",
   "metadata": {},
   "source": [
    "Now, you see? We have to plot for every columns... that is kind of an ugly task... let's do it with the LIST COMP, as `go.Scatter()` itself has to be in the list!!!"
   ]
  },
  {
   "cell_type": "markdown",
   "metadata": {},
   "source": [
    "# "
   ]
  },
  {
   "cell_type": "code",
   "execution_count": 37,
   "metadata": {},
   "outputs": [
    {
     "data": {
      "text/plain": [
       "'file://C:\\\\Users\\\\GIGABYTE\\\\Desktop\\\\Plot.ly\\\\1. Plotly — Basics\\\\Line Charts\\\\temp-plot.html'"
      ]
     },
     "execution_count": 37,
     "metadata": {},
     "output_type": "execute_result"
    }
   ],
   "source": [
    "# with list comp\n",
    "data = [go.Scatter(x=df.columns,\n",
    "                   y=df.loc[name],\n",
    "                   mode='lines',\n",
    "                   name=name) for name in df.index]\n",
    "pyo.plot(data)"
   ]
  },
  {
   "cell_type": "markdown",
   "metadata": {},
   "source": [
    "Wai, Wai, Wai... what's going on!\n",
    "\n",
    "Look, we want to have a plot of... TIME on X axis and VALUE on Y axis for all STATES on the index. So what we did...\n",
    "```python\n",
    "data = [go.Scatter(x=df.columns,     # TIME\n",
    "                   y=df.loc[name],   # VALUE\n",
    "                   mode='lines',\n",
    "                   name=name) for name in df.index]\n",
    "```\n",
    "Now, as it iterates over multiple index, it will create different lines."
   ]
  },
  {
   "cell_type": "markdown",
   "metadata": {},
   "source": [
    "### "
   ]
  },
  {
   "cell_type": "markdown",
   "metadata": {},
   "source": [
    "#### I know, it is a bit confusing because it is new... \n",
    "But for the reason that I don't forget how the same result is plotted in matplotlib... here is a small chunk of code to produce the same in plt."
   ]
  },
  {
   "cell_type": "code",
   "execution_count": 38,
   "metadata": {},
   "outputs": [],
   "source": [
    "# Optional\n",
    "import matplotlib.pyplot as plt"
   ]
  },
  {
   "cell_type": "code",
   "execution_count": 44,
   "metadata": {},
   "outputs": [
    {
     "data": {
      "image/png": "[encoded data removed]",
      "text/plain": [
       "<Figure size 432x288 with 1 Axes>"
      ]
     },
     "metadata": {
      "needs_background": "light"
     },
     "output_type": "display_data"
    }
   ],
   "source": [
    "df.T.plot(legend=False)\n",
    "plt.xticks(rotation=90);"
   ]
  },
  {
   "cell_type": "markdown",
   "metadata": {},
   "source": [
    "Chee... Chee... **આટલું ફાસ્ટ?**"
   ]
  },
  {
   "cell_type": "markdown",
   "metadata": {},
   "source": [
    "No one beats, PLT!"
   ]
  },
  {
   "cell_type": "code",
   "execution_count": 49,
   "metadata": {},
   "outputs": [
    {
     "data": {
      "image/png": "[encoded data removed]",
      "text/plain": [
       "<Figure size 432x288 with 1 Axes>"
      ]
     },
     "metadata": {
      "needs_background": "light"
     },
     "output_type": "display_data"
    }
   ],
   "source": [
    "plt.plot(df.iloc[0])\n",
    "plt.plot(df.iloc[1])\n",
    "plt.plot(df.iloc[2])\n",
    "plt.plot(df.iloc[3])\n",
    "plt.plot(df.iloc[4])\n",
    "plt.plot(df.iloc[5])\n",
    "plt.xticks(rotation=90);"
   ]
  },
  {
   "cell_type": "markdown",
   "metadata": {},
   "source": [
    "# "
   ]
  },
  {
   "cell_type": "markdown",
   "metadata": {},
   "source": [
    "# That's it!\n",
    "Next up, we will solve the Extercise for the line charts together!"
   ]
  }
 ],
 "metadata": {
  "kernelspec": {
   "display_name": "Python 3",
   "language": "python",
   "name": "python3"
  },
  "language_info": {
   "codemirror_mode": {
    "name": "ipython",
    "version": 3
   },
   "file_extension": ".py",
   "mimetype": "text/x-python",
   "name": "python",
   "nbconvert_exporter": "python",
   "pygments_lexer": "ipython3",
   "version": "3.8.5"
  }
 },
 "nbformat": 4,
 "nbformat_minor": 4
}
