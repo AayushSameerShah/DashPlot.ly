{
 "cells": [
  {
   "cell_type": "markdown",
   "metadata": {},
   "source": [
    "# LineChart exercise\n",
    "*used `%load linechart.py` to load the content in the cell*"
   ]
  },
  {
   "cell_type": "code",
   "execution_count": 4,
   "metadata": {},
   "outputs": [],
   "source": [
    "# %load Linechart.py\n",
    "#######\n",
    "# Objective: Using the file 2010YumaAZ.csv, develop a Line Chart\n",
    "# that plots seven days worth of temperature data on one graph.\n",
    "# You can use a for loop to assign each day to its own trace.\n",
    "######\n",
    "\n",
    "# Perform imports here:\n",
    "import pandas as pd\n",
    "import plotly.offline as pyo\n",
    "import plotly.graph_objs as go\n",
    "\n",
    "\n",
    "# Create a pandas DataFrame from 2010YumaAZ.csv\n",
    "df = pd.read_csv('../../Data/Data/2010YumaAZ.csv')\n",
    "days = ['TUESDAY','WEDNESDAY','THURSDAY','FRIDAY','SATURDAY','SUNDAY','MONDAY']"
   ]
  },
  {
   "cell_type": "code",
   "execution_count": 6,
   "metadata": {},
   "outputs": [
    {
     "data": {
      "text/plain": [
       "array(['TUESDAY', 'WEDNESDAY', 'THURSDAY', 'FRIDAY', 'SATURDAY', 'SUNDAY',\n",
       "       'MONDAY'], dtype=object)"
      ]
     },
     "execution_count": 6,
     "metadata": {},
     "output_type": "execute_result"
    }
   ],
   "source": [
    "df.DAY.unique()"
   ]
  },
  {
   "cell_type": "code",
   "execution_count": 10,
   "metadata": {},
   "outputs": [
    {
     "data": {
      "text/html": [
       "<div>\n",
       "<style scoped>\n",
       "    .dataframe tbody tr th:only-of-type {\n",
       "        vertical-align: middle;\n",
       "    }\n",
       "\n",
       "    .dataframe tbody tr th {\n",
       "        vertical-align: top;\n",
       "    }\n",
       "\n",
       "    .dataframe thead th {\n",
       "        text-align: right;\n",
       "    }\n",
       "</style>\n",
       "<table border=\"1\" class=\"dataframe\">\n",
       "  <thead>\n",
       "    <tr style=\"text-align: right;\">\n",
       "      <th></th>\n",
       "      <th>LST_TIME</th>\n",
       "      <th>T_HR_AVG</th>\n",
       "    </tr>\n",
       "    <tr>\n",
       "      <th>DAY</th>\n",
       "      <th></th>\n",
       "      <th></th>\n",
       "    </tr>\n",
       "  </thead>\n",
       "  <tbody>\n",
       "    <tr>\n",
       "      <th>TUESDAY</th>\n",
       "      <td>0:00</td>\n",
       "      <td>25.2</td>\n",
       "    </tr>\n",
       "    <tr>\n",
       "      <th>TUESDAY</th>\n",
       "      <td>1:00</td>\n",
       "      <td>24.1</td>\n",
       "    </tr>\n",
       "    <tr>\n",
       "      <th>TUESDAY</th>\n",
       "      <td>2:00</td>\n",
       "      <td>24.4</td>\n",
       "    </tr>\n",
       "    <tr>\n",
       "      <th>TUESDAY</th>\n",
       "      <td>3:00</td>\n",
       "      <td>24.9</td>\n",
       "    </tr>\n",
       "    <tr>\n",
       "      <th>TUESDAY</th>\n",
       "      <td>4:00</td>\n",
       "      <td>22.8</td>\n",
       "    </tr>\n",
       "    <tr>\n",
       "      <th>...</th>\n",
       "      <td>...</td>\n",
       "      <td>...</td>\n",
       "    </tr>\n",
       "    <tr>\n",
       "      <th>MONDAY</th>\n",
       "      <td>19:00</td>\n",
       "      <td>39.4</td>\n",
       "    </tr>\n",
       "    <tr>\n",
       "      <th>MONDAY</th>\n",
       "      <td>20:00</td>\n",
       "      <td>38.5</td>\n",
       "    </tr>\n",
       "    <tr>\n",
       "      <th>MONDAY</th>\n",
       "      <td>21:00</td>\n",
       "      <td>37.0</td>\n",
       "    </tr>\n",
       "    <tr>\n",
       "      <th>MONDAY</th>\n",
       "      <td>22:00</td>\n",
       "      <td>34.7</td>\n",
       "    </tr>\n",
       "    <tr>\n",
       "      <th>MONDAY</th>\n",
       "      <td>23:00</td>\n",
       "      <td>32.6</td>\n",
       "    </tr>\n",
       "  </tbody>\n",
       "</table>\n",
       "<p>168 rows × 2 columns</p>\n",
       "</div>"
      ],
      "text/plain": [
       "        LST_TIME  T_HR_AVG\n",
       "DAY                       \n",
       "TUESDAY     0:00      25.2\n",
       "TUESDAY     1:00      24.1\n",
       "TUESDAY     2:00      24.4\n",
       "TUESDAY     3:00      24.9\n",
       "TUESDAY     4:00      22.8\n",
       "...          ...       ...\n",
       "MONDAY     19:00      39.4\n",
       "MONDAY     20:00      38.5\n",
       "MONDAY     21:00      37.0\n",
       "MONDAY     22:00      34.7\n",
       "MONDAY     23:00      32.6\n",
       "\n",
       "[168 rows x 2 columns]"
      ]
     },
     "execution_count": 10,
     "metadata": {},
     "output_type": "execute_result"
    }
   ],
   "source": [
    "df = df.set_index(\"DAY\").drop(\"LST_DATE\", axis=1)\n",
    "df"
   ]
  },
  {
   "cell_type": "code",
   "execution_count": 13,
   "metadata": {},
   "outputs": [
    {
     "data": {
      "text/plain": [
       "'file://C:\\\\Users\\\\GIGABYTE\\\\Desktop\\\\Plot.ly\\\\1. Plotly — Basics\\\\Line Charts\\\\temp-plot.html'"
      ]
     },
     "execution_count": 13,
     "metadata": {},
     "output_type": "execute_result"
    }
   ],
   "source": [
    "# Use a for loop (or list comprehension to create traces for the data list)\n",
    "data = [go.Scatter(x=df[df.index == day].LST_TIME,\n",
    "                   y=df[df.index == day].T_HR_AVG,\n",
    "                   mode=\"lines\",\n",
    "                   name=day) for day in df.index.unique()]\n",
    "\n",
    "# Define the layout\n",
    "layout = go.Layout(title=\"Average Temprature/hr by day\",\n",
    "                  xaxis=dict(title=\"← Hour →\"),\n",
    "                  yaxis=dict(title=\"← Temprature →\"))\n",
    "fig = go.Figure(data=data, layout=layout)\n",
    "\n",
    "# Create a fig from data and layout, and plot the fig\n",
    "pyo.plot(fig)"
   ]
  },
  {
   "cell_type": "markdown",
   "metadata": {},
   "source": [
    "# Amazing!"
   ]
  }
 ],
 "metadata": {
  "kernelspec": {
   "display_name": "Python 3",
   "language": "python",
   "name": "python3"
  },
  "language_info": {
   "codemirror_mode": {
    "name": "ipython",
    "version": 3
   },
   "file_extension": ".py",
   "mimetype": "text/x-python",
   "name": "python",
   "nbconvert_exporter": "python",
   "pygments_lexer": "ipython3",
   "version": "3.8.5"
  }
 },
 "nbformat": 4,
 "nbformat_minor": 4
}
