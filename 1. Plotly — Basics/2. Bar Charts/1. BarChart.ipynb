{
 "cells": [
  {
   "cell_type": "markdown",
   "metadata": {},
   "source": [
    "# Yep, a BarChart"
   ]
  },
  {
   "cell_type": "markdown",
   "metadata": {},
   "source": [
    "*Well, I like some CamelCase there.*"
   ]
  },
  {
   "cell_type": "markdown",
   "metadata": {},
   "source": [
    "##### "
   ]
  },
  {
   "cell_type": "markdown",
   "metadata": {},
   "source": [
    "**There** is a trade - off between Stacked bar vs Clustered bar. Because if we use the stacked, we can't say how much count is from what category. But if we do the clustered, we can see count of each category.\n",
    "\n",
    "But there, we can't see total number, as we have to count. **So my suggestion** is to add a TOTAL COUNT in the clustered chart. It will look nice. But again, it depends on the situation which type looks better."
   ]
  },
  {
   "cell_type": "markdown",
   "metadata": {},
   "source": [
    "# "
   ]
  },
  {
   "cell_type": "code",
   "execution_count": 1,
   "metadata": {},
   "outputs": [],
   "source": [
    "import pandas as pd\n",
    "import plotly.offline as pyo\n",
    "import plotly.graph_objs as go"
   ]
  },
  {
   "cell_type": "code",
   "execution_count": 4,
   "metadata": {},
   "outputs": [
    {
     "data": {
      "text/html": [
       "<div>\n",
       "<style scoped>\n",
       "    .dataframe tbody tr th:only-of-type {\n",
       "        vertical-align: middle;\n",
       "    }\n",
       "\n",
       "    .dataframe tbody tr th {\n",
       "        vertical-align: top;\n",
       "    }\n",
       "\n",
       "    .dataframe thead th {\n",
       "        text-align: right;\n",
       "    }\n",
       "</style>\n",
       "<table border=\"1\" class=\"dataframe\">\n",
       "  <thead>\n",
       "    <tr style=\"text-align: right;\">\n",
       "      <th></th>\n",
       "      <th>Rank</th>\n",
       "      <th>NOC</th>\n",
       "      <th>Gold</th>\n",
       "      <th>Silver</th>\n",
       "      <th>Bronze</th>\n",
       "      <th>Total</th>\n",
       "    </tr>\n",
       "  </thead>\n",
       "  <tbody>\n",
       "    <tr>\n",
       "      <th>0</th>\n",
       "      <td>1</td>\n",
       "      <td>Norway</td>\n",
       "      <td>14</td>\n",
       "      <td>14</td>\n",
       "      <td>11</td>\n",
       "      <td>39</td>\n",
       "    </tr>\n",
       "    <tr>\n",
       "      <th>1</th>\n",
       "      <td>2</td>\n",
       "      <td>Germany</td>\n",
       "      <td>14</td>\n",
       "      <td>10</td>\n",
       "      <td>7</td>\n",
       "      <td>31</td>\n",
       "    </tr>\n",
       "    <tr>\n",
       "      <th>2</th>\n",
       "      <td>3</td>\n",
       "      <td>Canada</td>\n",
       "      <td>11</td>\n",
       "      <td>8</td>\n",
       "      <td>10</td>\n",
       "      <td>29</td>\n",
       "    </tr>\n",
       "    <tr>\n",
       "      <th>3</th>\n",
       "      <td>4</td>\n",
       "      <td>United States</td>\n",
       "      <td>9</td>\n",
       "      <td>8</td>\n",
       "      <td>6</td>\n",
       "      <td>23</td>\n",
       "    </tr>\n",
       "    <tr>\n",
       "      <th>4</th>\n",
       "      <td>5</td>\n",
       "      <td>Netherlands</td>\n",
       "      <td>8</td>\n",
       "      <td>6</td>\n",
       "      <td>6</td>\n",
       "      <td>20</td>\n",
       "    </tr>\n",
       "    <tr>\n",
       "      <th>5</th>\n",
       "      <td>6</td>\n",
       "      <td>Sweden</td>\n",
       "      <td>7</td>\n",
       "      <td>6</td>\n",
       "      <td>1</td>\n",
       "      <td>14</td>\n",
       "    </tr>\n",
       "    <tr>\n",
       "      <th>6</th>\n",
       "      <td>7</td>\n",
       "      <td>Republic of Korea</td>\n",
       "      <td>5</td>\n",
       "      <td>8</td>\n",
       "      <td>4</td>\n",
       "      <td>17</td>\n",
       "    </tr>\n",
       "    <tr>\n",
       "      <th>7</th>\n",
       "      <td>8</td>\n",
       "      <td>Switzerland</td>\n",
       "      <td>5</td>\n",
       "      <td>6</td>\n",
       "      <td>4</td>\n",
       "      <td>15</td>\n",
       "    </tr>\n",
       "    <tr>\n",
       "      <th>8</th>\n",
       "      <td>9</td>\n",
       "      <td>France</td>\n",
       "      <td>5</td>\n",
       "      <td>4</td>\n",
       "      <td>6</td>\n",
       "      <td>15</td>\n",
       "    </tr>\n",
       "    <tr>\n",
       "      <th>9</th>\n",
       "      <td>10</td>\n",
       "      <td>Austria</td>\n",
       "      <td>5</td>\n",
       "      <td>3</td>\n",
       "      <td>6</td>\n",
       "      <td>14</td>\n",
       "    </tr>\n",
       "    <tr>\n",
       "      <th>10</th>\n",
       "      <td>11</td>\n",
       "      <td>Japan</td>\n",
       "      <td>4</td>\n",
       "      <td>5</td>\n",
       "      <td>4</td>\n",
       "      <td>13</td>\n",
       "    </tr>\n",
       "    <tr>\n",
       "      <th>11</th>\n",
       "      <td>12</td>\n",
       "      <td>Italy</td>\n",
       "      <td>3</td>\n",
       "      <td>2</td>\n",
       "      <td>5</td>\n",
       "      <td>10</td>\n",
       "    </tr>\n",
       "    <tr>\n",
       "      <th>12</th>\n",
       "      <td>13</td>\n",
       "      <td>OAR</td>\n",
       "      <td>2</td>\n",
       "      <td>6</td>\n",
       "      <td>9</td>\n",
       "      <td>17</td>\n",
       "    </tr>\n",
       "    <tr>\n",
       "      <th>13</th>\n",
       "      <td>14</td>\n",
       "      <td>Czech Republic</td>\n",
       "      <td>2</td>\n",
       "      <td>2</td>\n",
       "      <td>3</td>\n",
       "      <td>7</td>\n",
       "    </tr>\n",
       "    <tr>\n",
       "      <th>14</th>\n",
       "      <td>15</td>\n",
       "      <td>Belarus</td>\n",
       "      <td>2</td>\n",
       "      <td>1</td>\n",
       "      <td>0</td>\n",
       "      <td>3</td>\n",
       "    </tr>\n",
       "    <tr>\n",
       "      <th>15</th>\n",
       "      <td>16</td>\n",
       "      <td>China</td>\n",
       "      <td>1</td>\n",
       "      <td>6</td>\n",
       "      <td>2</td>\n",
       "      <td>9</td>\n",
       "    </tr>\n",
       "    <tr>\n",
       "      <th>16</th>\n",
       "      <td>17</td>\n",
       "      <td>Slovakia</td>\n",
       "      <td>1</td>\n",
       "      <td>2</td>\n",
       "      <td>0</td>\n",
       "      <td>3</td>\n",
       "    </tr>\n",
       "    <tr>\n",
       "      <th>17</th>\n",
       "      <td>18</td>\n",
       "      <td>Finland</td>\n",
       "      <td>1</td>\n",
       "      <td>1</td>\n",
       "      <td>4</td>\n",
       "      <td>6</td>\n",
       "    </tr>\n",
       "    <tr>\n",
       "      <th>18</th>\n",
       "      <td>19</td>\n",
       "      <td>Great Britain</td>\n",
       "      <td>1</td>\n",
       "      <td>0</td>\n",
       "      <td>4</td>\n",
       "      <td>5</td>\n",
       "    </tr>\n",
       "    <tr>\n",
       "      <th>19</th>\n",
       "      <td>20</td>\n",
       "      <td>Poland</td>\n",
       "      <td>1</td>\n",
       "      <td>0</td>\n",
       "      <td>1</td>\n",
       "      <td>2</td>\n",
       "    </tr>\n",
       "    <tr>\n",
       "      <th>20</th>\n",
       "      <td>21</td>\n",
       "      <td>Hungary</td>\n",
       "      <td>1</td>\n",
       "      <td>0</td>\n",
       "      <td>0</td>\n",
       "      <td>1</td>\n",
       "    </tr>\n",
       "    <tr>\n",
       "      <th>21</th>\n",
       "      <td>21</td>\n",
       "      <td>Ukraine</td>\n",
       "      <td>1</td>\n",
       "      <td>0</td>\n",
       "      <td>0</td>\n",
       "      <td>1</td>\n",
       "    </tr>\n",
       "    <tr>\n",
       "      <th>22</th>\n",
       "      <td>23</td>\n",
       "      <td>Australia</td>\n",
       "      <td>0</td>\n",
       "      <td>2</td>\n",
       "      <td>1</td>\n",
       "      <td>3</td>\n",
       "    </tr>\n",
       "    <tr>\n",
       "      <th>23</th>\n",
       "      <td>24</td>\n",
       "      <td>Slovenia</td>\n",
       "      <td>0</td>\n",
       "      <td>1</td>\n",
       "      <td>1</td>\n",
       "      <td>2</td>\n",
       "    </tr>\n",
       "    <tr>\n",
       "      <th>24</th>\n",
       "      <td>25</td>\n",
       "      <td>Belgium</td>\n",
       "      <td>0</td>\n",
       "      <td>1</td>\n",
       "      <td>0</td>\n",
       "      <td>1</td>\n",
       "    </tr>\n",
       "    <tr>\n",
       "      <th>25</th>\n",
       "      <td>26</td>\n",
       "      <td>Spain</td>\n",
       "      <td>0</td>\n",
       "      <td>0</td>\n",
       "      <td>2</td>\n",
       "      <td>2</td>\n",
       "    </tr>\n",
       "    <tr>\n",
       "      <th>26</th>\n",
       "      <td>26</td>\n",
       "      <td>New Zealand</td>\n",
       "      <td>0</td>\n",
       "      <td>0</td>\n",
       "      <td>2</td>\n",
       "      <td>2</td>\n",
       "    </tr>\n",
       "    <tr>\n",
       "      <th>27</th>\n",
       "      <td>28</td>\n",
       "      <td>Kazakhstan</td>\n",
       "      <td>0</td>\n",
       "      <td>0</td>\n",
       "      <td>1</td>\n",
       "      <td>1</td>\n",
       "    </tr>\n",
       "    <tr>\n",
       "      <th>28</th>\n",
       "      <td>28</td>\n",
       "      <td>Latvia</td>\n",
       "      <td>0</td>\n",
       "      <td>0</td>\n",
       "      <td>1</td>\n",
       "      <td>1</td>\n",
       "    </tr>\n",
       "    <tr>\n",
       "      <th>29</th>\n",
       "      <td>28</td>\n",
       "      <td>Liechtenstein</td>\n",
       "      <td>0</td>\n",
       "      <td>0</td>\n",
       "      <td>1</td>\n",
       "      <td>1</td>\n",
       "    </tr>\n",
       "  </tbody>\n",
       "</table>\n",
       "</div>"
      ],
      "text/plain": [
       "    Rank                NOC  Gold  Silver  Bronze  Total\n",
       "0      1             Norway    14      14      11     39\n",
       "1      2            Germany    14      10       7     31\n",
       "2      3             Canada    11       8      10     29\n",
       "3      4      United States     9       8       6     23\n",
       "4      5        Netherlands     8       6       6     20\n",
       "5      6             Sweden     7       6       1     14\n",
       "6      7  Republic of Korea     5       8       4     17\n",
       "7      8        Switzerland     5       6       4     15\n",
       "8      9             France     5       4       6     15\n",
       "9     10            Austria     5       3       6     14\n",
       "10    11              Japan     4       5       4     13\n",
       "11    12              Italy     3       2       5     10\n",
       "12    13                OAR     2       6       9     17\n",
       "13    14     Czech Republic     2       2       3      7\n",
       "14    15            Belarus     2       1       0      3\n",
       "15    16              China     1       6       2      9\n",
       "16    17           Slovakia     1       2       0      3\n",
       "17    18            Finland     1       1       4      6\n",
       "18    19      Great Britain     1       0       4      5\n",
       "19    20             Poland     1       0       1      2\n",
       "20    21            Hungary     1       0       0      1\n",
       "21    21            Ukraine     1       0       0      1\n",
       "22    23          Australia     0       2       1      3\n",
       "23    24           Slovenia     0       1       1      2\n",
       "24    25            Belgium     0       1       0      1\n",
       "25    26              Spain     0       0       2      2\n",
       "26    26        New Zealand     0       0       2      2\n",
       "27    28         Kazakhstan     0       0       1      1\n",
       "28    28             Latvia     0       0       1      1\n",
       "29    28      Liechtenstein     0       0       1      1"
      ]
     },
     "execution_count": 4,
     "metadata": {},
     "output_type": "execute_result"
    }
   ],
   "source": [
    "df = pd.read_csv(\"../../DATA/Data/2018WinterOlympics.csv\")\n",
    "df"
   ]
  },
  {
   "cell_type": "markdown",
   "metadata": {},
   "source": [
    "# "
   ]
  },
  {
   "cell_type": "markdown",
   "metadata": {},
   "source": [
    "## Simple Bar"
   ]
  },
  {
   "cell_type": "code",
   "execution_count": 32,
   "metadata": {},
   "outputs": [
    {
     "data": {
      "text/plain": [
       "'file://C:\\\\Users\\\\GIGABYTE\\\\Desktop\\\\Plot.ly\\\\1. Plotly — Basics\\\\2. Bar Charts\\\\temp-plot.html'"
      ]
     },
     "execution_count": 32,
     "metadata": {},
     "output_type": "execute_result"
    }
   ],
   "source": [
    "plot = [go.Bar(x=df.NOC, y=df.Total)]\n",
    "pyo.plot(plot)"
   ]
  },
  {
   "cell_type": "markdown",
   "metadata": {},
   "source": [
    "So simple. Let's make some fun with clusters."
   ]
  },
  {
   "cell_type": "markdown",
   "metadata": {},
   "source": [
    "# "
   ]
  },
  {
   "cell_type": "markdown",
   "metadata": {},
   "source": [
    "## Clustered Bar"
   ]
  },
  {
   "cell_type": "markdown",
   "metadata": {},
   "source": [
    "**Note**: `plotly` doesn't provide the actual (built-in) thing for clusters. We have to join the pieces together. <br>\n",
    "**But**, the <u>good thing</u> is, it is INTELLIGENT enough, that if you provide ***multiple barcharts*** together with repeatative X-axis values, it will combine the bars of that into a cluster and ... there! you have the cluster bar chart! "
   ]
  },
  {
   "cell_type": "code",
   "execution_count": 38,
   "metadata": {},
   "outputs": [
    {
     "data": {
      "text/plain": [
       "'file://C:\\\\Users\\\\GIGABYTE\\\\Desktop\\\\Plot.ly\\\\1. Plotly — Basics\\\\2. Bar Charts\\\\temp-plot.html'"
      ]
     },
     "execution_count": 38,
     "metadata": {},
     "output_type": "execute_result"
    }
   ],
   "source": [
    "trace_1 = go.Bar(x=df.NOC, y=df.Gold, name=\"Gold\", marker=dict(color=\"gold\"))\n",
    "trace_2 = go.Bar(x=df.NOC, y=df.Silver, name=\"Silver\", marker=dict(color=\"silver\"))\n",
    "trace_3 = go.Bar(x=df.NOC, y=df.Bronze, name=\"Bronze\", marker=dict(color=\"brown\"))\n",
    "\n",
    "plot = [trace_1, trace_2, trace_3]\n",
    "pyo.plot(plot)"
   ]
  },
  {
   "cell_type": "markdown",
   "metadata": {},
   "source": [
    "**Amazingly** cool!"
   ]
  },
  {
   "cell_type": "markdown",
   "metadata": {},
   "source": [
    "# "
   ]
  },
  {
   "cell_type": "markdown",
   "metadata": {},
   "source": [
    "## Stacked Bar"
   ]
  },
  {
   "cell_type": "markdown",
   "metadata": {},
   "source": [
    "Now, again, if we want something - a type of chart in plotly, it makes us to *join the patches* together and itself is INTELLIGENT ehough that it can interpret things easily.\n",
    "\n",
    "Stacked Bar, has no new syntax. The code is **same as the clustered bar** as we did just now, just a parameter is waiting for us to be written.\n",
    "\n",
    "```python\n",
    "go.Layout(barmode=\"stack\")\n",
    "```\n",
    "That's it. <br>\n",
    "— <br>\n",
    "But still, we have to add a line of Layout, because otherwise it wouldn't know."
   ]
  },
  {
   "cell_type": "code",
   "execution_count": 39,
   "metadata": {},
   "outputs": [
    {
     "data": {
      "text/plain": [
       "'file://C:\\\\Users\\\\GIGABYTE\\\\Desktop\\\\Plot.ly\\\\1. Plotly — Basics\\\\2. Bar Charts\\\\temp-plot.html'"
      ]
     },
     "execution_count": 39,
     "metadata": {},
     "output_type": "execute_result"
    }
   ],
   "source": [
    "trace_1 = go.Bar(x=df.NOC, y=df.Gold, name=\"Gold\", marker=dict(color=\"gold\"))\n",
    "trace_2 = go.Bar(x=df.NOC, y=df.Silver, name=\"Silver\", marker=dict(color=\"silver\"))\n",
    "trace_3 = go.Bar(x=df.NOC, y=df.Bronze, name=\"Bronze\", marker=dict(color=\"brown\"))\n",
    "\n",
    "plot = [trace_1, trace_2, trace_3]\n",
    "layout = go.Layout(barmode=\"stack\") # ignoring the title argument\n",
    "\n",
    "fig = go.Figure(data=plot, layout=layout)\n",
    "pyo.plot(fig)"
   ]
  },
  {
   "cell_type": "markdown",
   "metadata": {},
   "source": [
    "Cool! isn't it?"
   ]
  },
  {
   "cell_type": "markdown",
   "metadata": {},
   "source": [
    "# "
   ]
  },
  {
   "cell_type": "markdown",
   "metadata": {},
   "source": [
    "Playing with stuff... "
   ]
  },
  {
   "cell_type": "code",
   "execution_count": 44,
   "metadata": {},
   "outputs": [
    {
     "data": {
      "text/plain": [
       "'file://C:\\\\Users\\\\GIGABYTE\\\\Desktop\\\\Plot.ly\\\\1. Plotly — Basics\\\\2. Bar Charts\\\\temp-plot.html'"
      ]
     },
     "execution_count": 44,
     "metadata": {},
     "output_type": "execute_result"
    }
   ],
   "source": [
    "trace_1 = go.Bar(x=df.NOC, y=df.Gold, name=\"Gold\", marker=dict(color=\"gold\"))\n",
    "trace_2 = go.Bar(x=df.NOC, y=df.Silver, name=\"Silver\", marker=dict(color=\"silver\"))\n",
    "trace_3 = go.Bar(x=df.NOC, y=df.Bronze, name=\"Bronze\", marker=dict(color=\"brown\"))\n",
    "\n",
    "# Trying the scatter with bar\n",
    "trace_4 = go.Scatter(x=df.NOC, y=df.Total, mode=\"markers\", name=\"Scatter\")\n",
    "\n",
    "plot = [trace_1, trace_2, trace_3, trace_4]\n",
    "layout = go.Layout(barmode=\"stack\") # ignoring the title argument\n",
    "\n",
    "fig = go.Figure(data=plot, layout=layout)\n",
    "pyo.plot(fig)"
   ]
  },
  {
   "cell_type": "markdown",
   "metadata": {},
   "source": [
    "That ensures that, `barmode = \"stacked\"` only applies to the BAR traces!"
   ]
  },
  {
   "cell_type": "markdown",
   "metadata": {},
   "source": [
    "# "
   ]
  },
  {
   "cell_type": "markdown",
   "metadata": {},
   "source": [
    "Adding another bar, which has different values."
   ]
  },
  {
   "cell_type": "code",
   "execution_count": 45,
   "metadata": {},
   "outputs": [
    {
     "data": {
      "text/plain": [
       "'file://C:\\\\Users\\\\GIGABYTE\\\\Desktop\\\\Plot.ly\\\\1. Plotly — Basics\\\\2. Bar Charts\\\\temp-plot.html'"
      ]
     },
     "execution_count": 45,
     "metadata": {},
     "output_type": "execute_result"
    }
   ],
   "source": [
    "trace_1 = go.Bar(x=df.NOC, y=df.Gold, name=\"Gold\", marker=dict(color=\"gold\"))\n",
    "trace_2 = go.Bar(x=df.NOC, y=df.Silver, name=\"Silver\", marker=dict(color=\"silver\"))\n",
    "trace_3 = go.Bar(x=df.NOC, y=df.Bronze, name=\"Bronze\", marker=dict(color=\"brown\"))\n",
    "\n",
    "# Trying the another values of bar\n",
    "trace_4 = go.Bar(x=[\"Aayush\", \"Sameer\", \"Shah\"], y=[21, 55, 100], name=\"Another Bar\")\n",
    "\n",
    "plot = [trace_1, trace_2, trace_3, trace_4]\n",
    "layout = go.Layout(barmode=\"stack\") # ignoring the title argument\n",
    "\n",
    "fig = go.Figure(data=plot, layout=layout)\n",
    "pyo.plot(fig)"
   ]
  },
  {
   "cell_type": "markdown",
   "metadata": {},
   "source": [
    "###### "
   ]
  },
  {
   "cell_type": "markdown",
   "metadata": {},
   "source": [
    "Same concept"
   ]
  },
  {
   "cell_type": "code",
   "execution_count": 47,
   "metadata": {},
   "outputs": [
    {
     "data": {
      "text/plain": [
       "'file://C:\\\\Users\\\\GIGABYTE\\\\Desktop\\\\Plot.ly\\\\1. Plotly — Basics\\\\2. Bar Charts\\\\temp-plot.html'"
      ]
     },
     "execution_count": 47,
     "metadata": {},
     "output_type": "execute_result"
    }
   ],
   "source": [
    "trace_1 = go.Bar(x=df.NOC, y=df.Gold, name=\"Gold\", marker=dict(color=\"gold\"))\n",
    "trace_2 = go.Bar(x=df.NOC, y=df.Silver, name=\"Silver\", marker=dict(color=\"silver\"))\n",
    "trace_3 = go.Bar(x=df.NOC, y=df.Bronze, name=\"Bronze\", marker=dict(color=\"brown\"))\n",
    "\n",
    "# Trying the another values of bar\n",
    "trace_4 = go.Bar(x=[\"Aayush\", \"Sameer\", \"Shah\"], y=[21, 55, 100], name=\"Another Bar\")\n",
    "trace_5 = go.Bar(x=[\"Aayush\", \"Sameer\", \"Shah\"], y=[20, 45, 50], name=\"Another Bar 2\")\n",
    "\n",
    "plot = [trace_1, trace_2, trace_3, trace_4, trace_5]\n",
    "layout = go.Layout(barmode=\"stack\") # ignoring the title argument\n",
    "\n",
    "fig = go.Figure(data=plot, layout=layout)\n",
    "pyo.plot(fig)"
   ]
  },
  {
   "cell_type": "markdown",
   "metadata": {},
   "source": [
    "# "
   ]
  },
  {
   "cell_type": "markdown",
   "metadata": {},
   "source": [
    "# That's it!\n",
    "The Bar Chart is done man! Let's move forward to the excercise."
   ]
  }
 ],
 "metadata": {
  "kernelspec": {
   "display_name": "Python 3",
   "language": "python",
   "name": "python3"
  },
  "language_info": {
   "codemirror_mode": {
    "name": "ipython",
    "version": 3
   },
   "file_extension": ".py",
   "mimetype": "text/x-python",
   "name": "python",
   "nbconvert_exporter": "python",
   "pygments_lexer": "ipython3",
   "version": "3.8.5"
  }
 },
 "nbformat": 4,
 "nbformat_minor": 4
}
