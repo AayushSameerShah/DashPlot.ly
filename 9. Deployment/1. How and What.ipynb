{
 "cells": [
  {
   "cell_type": "markdown",
   "metadata": {},
   "source": [
    "# <center> 🎊 Deployment 🎊 </center>"
   ]
  },
  {
   "cell_type": "markdown",
   "metadata": {},
   "source": [
    "## Congrats Note<br>—\n",
    "Great one man! We are at the Deployment stage of this course which means that all the essential part or the concepts to learn are complete. Now, we just need to \"Showcase\" that to others. \n",
    "\n",
    "I have joined other programs before, in which they teach the deployment process, but everytime it seem complicated and many many configurations were there to be done before setting up even a single web page. This time, I think I should at least try. So, now we will learn how to deploy.\n",
    "\n",
    "Of course, the explanation will not be that much from my side in thie notebook, but still there will be something."
   ]
  },
  {
   "cell_type": "markdown",
   "metadata": {},
   "source": [
    "## What and How<br>—\n",
    "\n",
    "Our \"Dash\" has the special library to allow us the authentication capability, through `dash.auth` package.<br> Which provides `2 types` of authentication:\n",
    "1. HTTP (basic authentication)\n",
    "2. Plotly OAuth (advanced authentication with more controls)"
   ]
  },
  {
   "cell_type": "markdown",
   "metadata": {},
   "source": [
    "___\n",
    "#### 1. HTTP\n",
    "- The most basic authentication method. \n",
    "- We hardcode the *username* and *password* in the code and then send to the viewers.\n",
    "\n",
    "Limitations:\n",
    "- User can't log out\n",
    "- We are responsible for the uname and password.\n",
    "- Users can't create their own accounts.\n",
    "- We are responsible to store their uname and password pairs in our code."
   ]
  },
  {
   "cell_type": "markdown",
   "metadata": {},
   "source": [
    "#### 2. Plotly OAuth\n",
    "- Provides authentication through online plotly account ie. their site.\n",
    "- It is paid service."
   ]
  },
  {
   "cell_type": "markdown",
   "metadata": {},
   "source": [
    "We will implement the basic HTTP here."
   ]
  },
  {
   "cell_type": "markdown",
   "metadata": {},
   "source": [
    "# "
   ]
  },
  {
   "cell_type": "markdown",
   "metadata": {},
   "source": [
    "# In the Next Book\n",
    "We will start doing all those technical stuff."
   ]
  }
 ],
 "metadata": {
  "kernelspec": {
   "display_name": "Python 3",
   "language": "python",
   "name": "python3"
  },
  "language_info": {
   "codemirror_mode": {
    "name": "ipython",
    "version": 3
   },
   "file_extension": ".py",
   "mimetype": "text/x-python",
   "name": "python",
   "nbconvert_exporter": "python",
   "pygments_lexer": "ipython3",
   "version": "3.8.5"
  }
 },
 "nbformat": 4,
 "nbformat_minor": 4
}
