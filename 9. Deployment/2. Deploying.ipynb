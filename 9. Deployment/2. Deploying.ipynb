{
 "cells": [
  {
   "cell_type": "markdown",
   "metadata": {},
   "source": [
    "# Deployment Part 1"
   ]
  },
  {
   "cell_type": "markdown",
   "metadata": {},
   "source": [
    "We will deploy the stock market comparision app to the server"
   ]
  },
  {
   "cell_type": "markdown",
   "metadata": {},
   "source": [
    "# "
   ]
  },
  {
   "cell_type": "code",
   "execution_count": 3,
   "metadata": {},
   "outputs": [],
   "source": [
    "# Importing main library to deploy\n",
    "import dash_auth"
   ]
  },
  {
   "cell_type": "markdown",
   "metadata": {},
   "source": [
    "This ↑ import will not work because of some current plotly dependencies. But actully we don't even need that. It is like will ask for USERNAME and PASSWORD when you get to that page and if that is correct pair, you will have the access the page. That's it. It is just like if and else. So nothing about the deployment here."
   ]
  },
  {
   "cell_type": "markdown",
   "metadata": {},
   "source": [
    "##### So, directly we are heading to the deployment part."
   ]
  },
  {
   "cell_type": "markdown",
   "metadata": {},
   "source": [
    "Oh wai. This is entirely the process apart to code with python. So I can't show here. So...\n",
    "\n",
    "# That's it!\n",
    "---\n",
    "After doing the steps, as the course is a bit old, there was a mismatch. I created the URL for that file on heroku but while pushing, it gave errors. After much time, I left that. But that process was just a step away. It's fine. \n",
    "\n",
    "Finally we have completed the course, I have learnt something new with what's possible with Dash. So I will try to get most out of it if possible. So, see you at the next course!\n",
    "\n",
    "Course completed on: 1st Sep 2021<br>\n",
    "Aayush ∞ Shah"
   ]
  }
 ],
 "metadata": {
  "kernelspec": {
   "display_name": "Python 3",
   "language": "python",
   "name": "python3"
  },
  "language_info": {
   "codemirror_mode": {
    "name": "ipython",
    "version": 3
   },
   "file_extension": ".py",
   "mimetype": "text/x-python",
   "name": "python",
   "nbconvert_exporter": "python",
   "pygments_lexer": "ipython3",
   "version": "3.8.5"
  }
 },
 "nbformat": 4,
 "nbformat_minor": 4
}
