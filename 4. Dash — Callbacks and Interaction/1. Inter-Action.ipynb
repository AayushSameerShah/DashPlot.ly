{
 "cells": [
  {
   "cell_type": "markdown",
   "metadata": {},
   "source": [
    "# Hey there!"
   ]
  },
  {
   "cell_type": "markdown",
   "metadata": {},
   "source": [
    "*The basics* now has been ended. I know, it sounds like we are not going to take a step easily with explanation from now. But it isn't. The thing is, more exciting part is coming in our way!\n",
    "\n",
    "Callbacks and Interactions allow us to control what we want to see on the chart in the way we want. So, you can say - **it *is* the basics** of callbacks and iteractions! So now, basically we will hadle the values from the components that we have already put in the previous section!"
   ]
  },
  {
   "cell_type": "markdown",
   "metadata": {},
   "source": [
    "# "
   ]
  },
  {
   "cell_type": "markdown",
   "metadata": {},
   "source": [
    "### Introducing a new package here...\n",
    "```python\n",
    "from dash.dependencies import Input, Output\n",
    "```\n",
    "And also note that, this is the `from` call, not the direct `import`. <br>\n",
    "Whatever, Let's get started."
   ]
  },
  {
   "cell_type": "markdown",
   "metadata": {},
   "source": [
    "# "
   ]
  },
  {
   "cell_type": "code",
   "execution_count": 1,
   "metadata": {},
   "outputs": [],
   "source": [
    "import dash, dash_core_components as dcc, dash_html_components as html\n",
    "from dash.dependencies import Input, Output"
   ]
  },
  {
   "cell_type": "code",
   "execution_count": 4,
   "metadata": {},
   "outputs": [],
   "source": [
    "# A simple textbox on the page\n",
    "\n",
    "app = dash.Dash()\n",
    "app.layout = html.Div(children=[\n",
    "                        dcc.Input(type=\"text\", placeholder=\"Your name\", id=\"name\"), ### POI ← POI ###\n",
    "                            ])\n",
    "\n",
    "app.run_server()"
   ]
  },
  {
   "cell_type": "markdown",
   "metadata": {},
   "source": [
    "**One thing to note**: \n",
    "```python\n",
    "dcc.Input(type=\"text\", placeholder=\"Your name\", id=\"name\")\n",
    "```\n",
    "Here, note that `Input` is an `HTML` tag. ***But still it is NOT FROM `html.Input`.*** It is from `dcc.Input` which exactly a replacement of:\n",
    "```html\n",
    "<input type=\"text\" placeholder=\"Your name\" id=\"name\">\n",
    "```"
   ]
  },
  {
   "cell_type": "markdown",
   "metadata": {},
   "source": [
    "> ###  Remember to give **`id`** in the input box. Otherwise that won't be accessible."
   ]
  },
  {
   "cell_type": "markdown",
   "metadata": {},
   "source": [
    "# "
   ]
  },
  {
   "cell_type": "markdown",
   "metadata": {},
   "source": [
    "# Structure"
   ]
  },
  {
   "cell_type": "markdown",
   "metadata": {},
   "source": [
    "```python\n",
    "app = ...\n",
    "app.layout = [\n",
    "                [\n",
    "                    []\n",
    "                ]\n",
    "             ]\n",
    "            \n",
    "# Main stuff\n",
    "@app.callback(Output(component_id=..., component_property=...),\n",
    "              [Input(component_id=..., component_propertyr=...)])\n",
    "def update_value(new_value):\n",
    "    return f\"This is {new_value}\"\n",
    "```"
   ]
  },
  {
   "cell_type": "markdown",
   "metadata": {},
   "source": [
    "### Let's fill that in!"
   ]
  },
  {
   "cell_type": "code",
   "execution_count": 8,
   "metadata": {},
   "outputs": [],
   "source": [
    "app = dash.Dash()\n",
    "app.layout = html.Div(children=[\n",
    "                        dcc.Input(type=\"text\", placeholder=\"Name\", id=\"name_text\"),\n",
    "                        html.P(id=\"name_place\") # Here the values entered in the Textbox will reflect\n",
    "])\n",
    "\n",
    "@app.callback(Output(component_id=\"name_place\", component_property=\"children\"),  ### POI\n",
    "              [Input(component_id=\"name_text\", component_property=\"value\")])     ### ←-\n",
    "def show_value(new_value):                                                       ### POI\n",
    "    return f\"This is what you're writing: {new_value}\"\n",
    "\n",
    "app.run_server()"
   ]
  },
  {
   "cell_type": "markdown",
   "metadata": {},
   "source": [
    "↑ This was awsome!!"
   ]
  },
  {
   "cell_type": "markdown",
   "metadata": {},
   "source": [
    "**Syntax Analysis**"
   ]
  },
  {
   "cell_type": "markdown",
   "metadata": {},
   "source": [
    "<img src=\"./HowWorks.png\">"
   ]
  },
  {
   "cell_type": "markdown",
   "metadata": {},
   "source": [
    "**White Lines**: \n",
    "- Output: Where to **PUT** the values. <br>\n",
    "It requires the *parameter* name so that it will place the resulting value FROM the function.\n",
    "- Input: Where to **GET** the values. <br>\n",
    "From which *parameter* it has to fetch the value from."
   ]
  },
  {
   "cell_type": "markdown",
   "metadata": {},
   "source": [
    "**Aqua Lines**: \n",
    "- Output: Id of that Output Widget <br>\n",
    "- Input: Id of that Input Widget <br>"
   ]
  },
  {
   "cell_type": "markdown",
   "metadata": {},
   "source": [
    "**Flow**:\n",
    "\n",
    "    I pressed \"A\" → Input Box → Id(\"name_text\") → property(value=\"A\")) → Function\n",
    "                                                                            ↓\n",
    "                      Show ← property(children) ← Id(\"name_place\") ←  Output Widget\n"
   ]
  },
  {
   "cell_type": "markdown",
   "metadata": {},
   "source": [
    "###### "
   ]
  },
  {
   "cell_type": "markdown",
   "metadata": {},
   "source": [
    "In between, the function `show_value` does all the preprocessing on the data. And the final string will be given to the Output widget."
   ]
  },
  {
   "cell_type": "markdown",
   "metadata": {},
   "source": [
    "# "
   ]
  },
  {
   "cell_type": "markdown",
   "metadata": {},
   "source": [
    "# That's Great!\n",
    "For now, it was enough to show how the Input and Output works. In the next one, `FOR THE FIRST TIME` we will *connect* the widgets to the graphs. So they will update themselves based on the values we provide.\n",
    "\n",
    "Amazing, Exciting. Let's go ∞"
   ]
  }
 ],
 "metadata": {
  "kernelspec": {
   "display_name": "Python 3",
   "language": "python",
   "name": "python3"
  },
  "language_info": {
   "codemirror_mode": {
    "name": "ipython",
    "version": 3
   },
   "file_extension": ".py",
   "mimetype": "text/x-python",
   "name": "python",
   "nbconvert_exporter": "python",
   "pygments_lexer": "ipython3",
   "version": "3.8.5"
  }
 },
 "nbformat": 4,
 "nbformat_minor": 4
}
