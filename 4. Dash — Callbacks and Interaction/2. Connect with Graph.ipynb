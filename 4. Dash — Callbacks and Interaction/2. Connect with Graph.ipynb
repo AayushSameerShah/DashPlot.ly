{
 "cells": [
  {
   "cell_type": "markdown",
   "metadata": {},
   "source": [
    "# Connection"
   ]
  },
  {
   "cell_type": "markdown",
   "metadata": {},
   "source": [
    "Not much talk, let's go."
   ]
  },
  {
   "cell_type": "code",
   "execution_count": 1,
   "metadata": {},
   "outputs": [],
   "source": [
    "import dash\n",
    "import dash_html_components as html\n",
    "import dash_core_components as dcc\n",
    "from dash.dependencies import Input, Output\n",
    "\n",
    "import plotly.graph_objs as go\n",
    "import plotly.offline as pyo\n",
    "\n",
    "import pandas as pd"
   ]
  },
  {
   "cell_type": "code",
   "execution_count": 2,
   "metadata": {},
   "outputs": [
    {
     "data": {
      "text/html": [
       "<div>\n",
       "<style scoped>\n",
       "    .dataframe tbody tr th:only-of-type {\n",
       "        vertical-align: middle;\n",
       "    }\n",
       "\n",
       "    .dataframe tbody tr th {\n",
       "        vertical-align: top;\n",
       "    }\n",
       "\n",
       "    .dataframe thead th {\n",
       "        text-align: right;\n",
       "    }\n",
       "</style>\n",
       "<table border=\"1\" class=\"dataframe\">\n",
       "  <thead>\n",
       "    <tr style=\"text-align: right;\">\n",
       "      <th></th>\n",
       "      <th>country</th>\n",
       "      <th>year</th>\n",
       "      <th>pop</th>\n",
       "      <th>continent</th>\n",
       "      <th>lifeExp</th>\n",
       "      <th>gdpPercap</th>\n",
       "    </tr>\n",
       "  </thead>\n",
       "  <tbody>\n",
       "    <tr>\n",
       "      <th>0</th>\n",
       "      <td>Afghanistan</td>\n",
       "      <td>1952</td>\n",
       "      <td>8425333.0</td>\n",
       "      <td>Asia</td>\n",
       "      <td>28.801</td>\n",
       "      <td>779.445314</td>\n",
       "    </tr>\n",
       "    <tr>\n",
       "      <th>1</th>\n",
       "      <td>Afghanistan</td>\n",
       "      <td>1957</td>\n",
       "      <td>9240934.0</td>\n",
       "      <td>Asia</td>\n",
       "      <td>30.332</td>\n",
       "      <td>820.853030</td>\n",
       "    </tr>\n",
       "    <tr>\n",
       "      <th>2</th>\n",
       "      <td>Afghanistan</td>\n",
       "      <td>1962</td>\n",
       "      <td>10267083.0</td>\n",
       "      <td>Asia</td>\n",
       "      <td>31.997</td>\n",
       "      <td>853.100710</td>\n",
       "    </tr>\n",
       "    <tr>\n",
       "      <th>3</th>\n",
       "      <td>Afghanistan</td>\n",
       "      <td>1967</td>\n",
       "      <td>11537966.0</td>\n",
       "      <td>Asia</td>\n",
       "      <td>34.020</td>\n",
       "      <td>836.197138</td>\n",
       "    </tr>\n",
       "    <tr>\n",
       "      <th>4</th>\n",
       "      <td>Afghanistan</td>\n",
       "      <td>1972</td>\n",
       "      <td>13079460.0</td>\n",
       "      <td>Asia</td>\n",
       "      <td>36.088</td>\n",
       "      <td>739.981106</td>\n",
       "    </tr>\n",
       "    <tr>\n",
       "      <th>...</th>\n",
       "      <td>...</td>\n",
       "      <td>...</td>\n",
       "      <td>...</td>\n",
       "      <td>...</td>\n",
       "      <td>...</td>\n",
       "      <td>...</td>\n",
       "    </tr>\n",
       "    <tr>\n",
       "      <th>1699</th>\n",
       "      <td>Zimbabwe</td>\n",
       "      <td>1987</td>\n",
       "      <td>9216418.0</td>\n",
       "      <td>Africa</td>\n",
       "      <td>62.351</td>\n",
       "      <td>706.157306</td>\n",
       "    </tr>\n",
       "    <tr>\n",
       "      <th>1700</th>\n",
       "      <td>Zimbabwe</td>\n",
       "      <td>1992</td>\n",
       "      <td>10704340.0</td>\n",
       "      <td>Africa</td>\n",
       "      <td>60.377</td>\n",
       "      <td>693.420786</td>\n",
       "    </tr>\n",
       "    <tr>\n",
       "      <th>1701</th>\n",
       "      <td>Zimbabwe</td>\n",
       "      <td>1997</td>\n",
       "      <td>11404948.0</td>\n",
       "      <td>Africa</td>\n",
       "      <td>46.809</td>\n",
       "      <td>792.449960</td>\n",
       "    </tr>\n",
       "    <tr>\n",
       "      <th>1702</th>\n",
       "      <td>Zimbabwe</td>\n",
       "      <td>2002</td>\n",
       "      <td>11926563.0</td>\n",
       "      <td>Africa</td>\n",
       "      <td>39.989</td>\n",
       "      <td>672.038623</td>\n",
       "    </tr>\n",
       "    <tr>\n",
       "      <th>1703</th>\n",
       "      <td>Zimbabwe</td>\n",
       "      <td>2007</td>\n",
       "      <td>12311143.0</td>\n",
       "      <td>Africa</td>\n",
       "      <td>43.487</td>\n",
       "      <td>469.709298</td>\n",
       "    </tr>\n",
       "  </tbody>\n",
       "</table>\n",
       "<p>1704 rows × 6 columns</p>\n",
       "</div>"
      ],
      "text/plain": [
       "          country  year         pop continent  lifeExp   gdpPercap\n",
       "0     Afghanistan  1952   8425333.0      Asia   28.801  779.445314\n",
       "1     Afghanistan  1957   9240934.0      Asia   30.332  820.853030\n",
       "2     Afghanistan  1962  10267083.0      Asia   31.997  853.100710\n",
       "3     Afghanistan  1967  11537966.0      Asia   34.020  836.197138\n",
       "4     Afghanistan  1972  13079460.0      Asia   36.088  739.981106\n",
       "...           ...   ...         ...       ...      ...         ...\n",
       "1699     Zimbabwe  1987   9216418.0    Africa   62.351  706.157306\n",
       "1700     Zimbabwe  1992  10704340.0    Africa   60.377  693.420786\n",
       "1701     Zimbabwe  1997  11404948.0    Africa   46.809  792.449960\n",
       "1702     Zimbabwe  2002  11926563.0    Africa   39.989  672.038623\n",
       "1703     Zimbabwe  2007  12311143.0    Africa   43.487  469.709298\n",
       "\n",
       "[1704 rows x 6 columns]"
      ]
     },
     "execution_count": 2,
     "metadata": {},
     "output_type": "execute_result"
    }
   ],
   "source": [
    "df = pd.read_csv(\"../DATA/Data/gapminderDataFiveYear.csv\")\n",
    "df"
   ]
  },
  {
   "cell_type": "markdown",
   "metadata": {},
   "source": [
    "# "
   ]
  },
  {
   "cell_type": "markdown",
   "metadata": {},
   "source": [
    "## Simply Creating a Simple Connection\n",
    "*By simple I mean, without using much creativity*"
   ]
  },
  {
   "cell_type": "markdown",
   "metadata": {},
   "source": [
    "###### "
   ]
  },
  {
   "cell_type": "markdown",
   "metadata": {},
   "source": [
    "Level — 1 (Structure)"
   ]
  },
  {
   "cell_type": "code",
   "execution_count": 6,
   "metadata": {},
   "outputs": [],
   "source": [
    "app = dash.Dash()\n",
    "app.layout = html.Div(children=[\n",
    "                        dcc.Graph(id=\"graph\"),\n",
    "                        dcc.Dropdown(id=\"select_year\",\n",
    "                                     options=[{\"label\":str(year), \"value\":year}\n",
    "                                              for year in df.year.unique()],\n",
    "                                     value=1952)\n",
    "                \n",
    "])\n",
    "\n",
    "\n",
    "@app.callback(Output(component_id=\"graph\", component_property=\"???\"),\n",
    "              [Input(component_id=\"select_year\", component_property=\"value\")])\n",
    "def update_graph(selected_year):\n",
    "    return selected_year\n",
    "\n",
    "app.run_server()"
   ]
  },
  {
   "cell_type": "markdown",
   "metadata": {},
   "source": [
    "*Till here, we have just createad a layout and defined a function (which works.)*"
   ]
  },
  {
   "cell_type": "markdown",
   "metadata": {},
   "source": [
    "###### "
   ]
  },
  {
   "cell_type": "markdown",
   "metadata": {},
   "source": [
    "Level — 2 (Connected & Working)"
   ]
  },
  {
   "cell_type": "code",
   "execution_count": null,
   "metadata": {},
   "outputs": [],
   "source": [
    "app = dash.Dash()\n",
    "\n",
    "app.layout = html.Div(children=[\n",
    "                        dcc.Graph(id=\"graph\"),\n",
    "                        dcc.Dropdown(id=\"select_year\",\n",
    "                                     options=[{\"label\":str(year), \"value\":year}\n",
    "                                              for year in df.year.unique()],\n",
    "                                     value=1952)\n",
    "                \n",
    "])\n",
    "\n",
    "\n",
    "@app.callback(Output(component_id=\"graph\", component_property=\"figure\"),\n",
    "              [Input(component_id=\"select_year\", component_property=\"value\")])\n",
    "\n",
    "def update_graph(selected_year):\n",
    "    for_that_year = df[df.year == selected_year]\n",
    "    traces = [go.Scatter(x=for_that_year.gdpPercap,\n",
    "                         y=for_that_year.lifeExp,\n",
    "                         mode=\"markers\")]\n",
    "    \n",
    "    layout = go.Layout(title=f\"GDP Per Capita for year: {selected_year}\",\n",
    "                        xaxis=dict(title=\"← GDP →\"),\n",
    "                        yaxis=dict(title=\"← LifeExp →\"))\n",
    "    return dict(data=traces, layout=layout)\n",
    "\n",
    "app.run_server()"
   ]
  },
  {
   "cell_type": "markdown",
   "metadata": {},
   "source": [
    "Really! I made it myself. It was easy going...  <br>\n",
    "—"
   ]
  },
  {
   "cell_type": "markdown",
   "metadata": {},
   "source": [
    "**Syntax Analysis**"
   ]
  },
  {
   "cell_type": "markdown",
   "metadata": {},
   "source": [
    "Change has just happened in the function.\n",
    "\n",
    "```python\n",
    "                                            # The property `figure` because we will return\n",
    "                                            # ↓  {data:data, layout:layout} \n",
    "@app.callback(Output(component_id=\"graph\", component_property=\"figure\"),\n",
    "              [Input(component_id=\"select_year\", component_property=\"value\")])\n",
    "\n",
    "def update_graph(selected_year):\n",
    "    for_that_year = df[df.year == selected_year]  # Filtering the data for that year only.\n",
    "    traces = [go.Scatter(x=for_that_year.gdpPercap, # A normal scatter plot for that year\n",
    "                         y=for_that_year.lifeExp,\n",
    "                         mode=\"markers\")]\n",
    "    \n",
    "    layout = go.Layout(title=f\"GDP Per Capita for year: {selected_year}\",  # Just a layout with YEAR in title\n",
    "                       xaxis=dict(title=\"← GDP →\"),\n",
    "                       yaxis=dict(title=\"← LifeExp →\"))\n",
    "    return dict(data=traces, layout=layout)  # ← Returning the dict, well it is what dcc.graph requires!\n",
    "```"
   ]
  },
  {
   "cell_type": "markdown",
   "metadata": {},
   "source": [
    "###### "
   ]
  },
  {
   "cell_type": "markdown",
   "metadata": {},
   "source": [
    "Level — 3 (More features - Size, Colors...)"
   ]
  },
  {
   "cell_type": "code",
   "execution_count": null,
   "metadata": {},
   "outputs": [],
   "source": [
    "app = dash.Dash()\n",
    "\n",
    "app.layout = html.Div(children=[\n",
    "                        dcc.Graph(id=\"graph\"),\n",
    "                        dcc.Dropdown(id=\"select_year\",\n",
    "                                     options=[{\"label\":str(year), \"value\":year}\n",
    "                                              for year in df.year.unique()],\n",
    "                                     value=1952)\n",
    "                \n",
    "])\n",
    "\n",
    "\n",
    "@app.callback(Output(component_id=\"graph\", component_property=\"figure\"),\n",
    "              [Input(component_id=\"select_year\", component_property=\"value\")])\n",
    "\n",
    "def update_graph(selected_year):\n",
    "    for_that_year = df[df.year == selected_year]\n",
    "    traces = []\n",
    "    \n",
    "    # Using a loop for each continent # \n",
    "    # to seperate them with different colors. #\n",
    "    \n",
    "    ### POI ↓ POI ### \n",
    "    for cont in for_that_year.continent.unique():\n",
    "        for_that_cont = for_that_year[for_that_year.continent == cont]    \n",
    "        traces.append(go.Scatter(x=for_that_cont.gdpPercap,\n",
    "                                 y=for_that_cont.lifeExp,\n",
    "                                 mode=\"markers\",\n",
    "                                 marker=dict(size=for_that_cont[\"pop\"] / 5000000), # Gives different sizes\n",
    "                                 name=cont,\n",
    "                                 text=for_that_cont.country\n",
    "                                )\n",
    "                     )\n",
    "    \n",
    "    layout = go.Layout(title=f\"GDP Per Capita for year: {selected_year}\",\n",
    "                       xaxis=dict(title=\"← GDP →\", type=\"log\"),\n",
    "                                                ### POI ↑ POI ###\n",
    "                       yaxis=dict(title=\"← LifeExp →\"))\n",
    "    return dict(data=traces, layout=layout)\n",
    "\n",
    "app.run_server()"
   ]
  },
  {
   "cell_type": "markdown",
   "metadata": {},
   "source": [
    "# "
   ]
  },
  {
   "cell_type": "markdown",
   "metadata": {},
   "source": [
    "# Yeah, I know\n",
    "That was a lot, but not new! It was super easy to implement. Cool."
   ]
  }
 ],
 "metadata": {
  "kernelspec": {
   "display_name": "Python 3",
   "language": "python",
   "name": "python3"
  },
  "language_info": {
   "codemirror_mode": {
    "name": "ipython",
    "version": 3
   },
   "file_extension": ".py",
   "mimetype": "text/x-python",
   "name": "python",
   "nbconvert_exporter": "python",
   "pygments_lexer": "ipython3",
   "version": "3.8.5"
  }
 },
 "nbformat": 4,
 "nbformat_minor": 4
}
