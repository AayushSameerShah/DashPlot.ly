{
 "cells": [
  {
   "cell_type": "markdown",
   "metadata": {},
   "source": [
    "# Interaction Exercise "
   ]
  },
  {
   "cell_type": "code",
   "execution_count": 2,
   "metadata": {},
   "outputs": [],
   "source": [
    "# %load Exercise.py\n",
    "#######\n",
    "# Objective: Create a dashboard that takes in two or more\n",
    "# input values and returns their product as the output.\n",
    "######\n",
    "\n",
    "# Perform imports here:\n",
    "import dash\n",
    "import dash_html_components as html\n",
    "import dash_core_components as dcc\n",
    "from dash.dependencies import Input, Output\n",
    "\n",
    "import plotly.graph_objs as go"
   ]
  },
  {
   "cell_type": "code",
   "execution_count": 18,
   "metadata": {},
   "outputs": [],
   "source": [
    "# Launch the application:\n",
    "app = dash.Dash()\n",
    "\n",
    "label_style = {\"margin-top\":\"200\"}\n",
    "\n",
    "app.layout = html.Div([\n",
    "                dcc.RangeSlider(id=\"slider\",\n",
    "                               min=-50,\n",
    "                               max=50,\n",
    "                               marks={i:i for i in range(-50, 51, 5)}),\n",
    "    \n",
    "                html.Div([\n",
    "                    html.Label(id=\"left\"),\n",
    "                    html.Label(\" x \"),\n",
    "                    html.Label(id=\"right\"),\n",
    "                    html.Label(id=\"result\"),\n",
    "                ], style=label_style)\n",
    "])\n",
    "\n",
    "\n",
    "# Create a Dash layout that contains input components\n",
    "# and at least one output. Assign IDs to each component:\n",
    "\n",
    "@app.callback(Output(\"left\", \"children\"),\n",
    "             [Input(\"slider\", \"value\")])\n",
    "def put_left(value):\n",
    "    if value: return str(value[0])\n",
    "\n",
    "@app.callback(Output(\"right\", \"children\"),\n",
    "             [Input(\"slider\", \"value\")])\n",
    "def put_right(value):\n",
    "    if value: return str(value[1]) + \" = \"\n",
    "\n",
    "@app.callback(Output(\"result\", \"children\"),\n",
    "             [Input(\"slider\", \"value\")])\n",
    "def calculate(values):\n",
    "    if values: return values[0] * values[1]\n",
    "\n",
    "app.run_server()"
   ]
  },
  {
   "cell_type": "markdown",
   "metadata": {},
   "source": [
    "Done!"
   ]
  }
 ],
 "metadata": {
  "kernelspec": {
   "display_name": "Python 3",
   "language": "python",
   "name": "python3"
  },
  "language_info": {
   "codemirror_mode": {
    "name": "ipython",
    "version": 3
   },
   "file_extension": ".py",
   "mimetype": "text/x-python",
   "name": "python",
   "nbconvert_exporter": "python",
   "pygments_lexer": "ipython3",
   "version": "3.8.5"
  }
 },
 "nbformat": 4,
 "nbformat_minor": 4
}
