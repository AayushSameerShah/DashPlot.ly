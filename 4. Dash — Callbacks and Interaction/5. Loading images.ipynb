{
 "cells": [
  {
   "cell_type": "markdown",
   "metadata": {},
   "source": [
    "# Let's start simple."
   ]
  },
  {
   "cell_type": "code",
   "execution_count": 1,
   "metadata": {},
   "outputs": [],
   "source": [
    "import dash\n",
    "import dash_html_components as html\n",
    "import dash_core_components as dcc\n",
    "from dash.dependencies import Input, Output\n",
    "\n",
    "import plotly.graph_objs as go\n",
    "import plotly.offline as pyo\n",
    "\n",
    "import pandas as pd"
   ]
  },
  {
   "cell_type": "code",
   "execution_count": 3,
   "metadata": {},
   "outputs": [
    {
     "data": {
      "text/html": [
       "<div>\n",
       "<style scoped>\n",
       "    .dataframe tbody tr th:only-of-type {\n",
       "        vertical-align: middle;\n",
       "    }\n",
       "\n",
       "    .dataframe tbody tr th {\n",
       "        vertical-align: top;\n",
       "    }\n",
       "\n",
       "    .dataframe thead th {\n",
       "        text-align: right;\n",
       "    }\n",
       "</style>\n",
       "<table border=\"1\" class=\"dataframe\">\n",
       "  <thead>\n",
       "    <tr style=\"text-align: right;\">\n",
       "      <th></th>\n",
       "      <th>wheels</th>\n",
       "      <th>color</th>\n",
       "      <th>image</th>\n",
       "    </tr>\n",
       "  </thead>\n",
       "  <tbody>\n",
       "    <tr>\n",
       "      <th>0</th>\n",
       "      <td>1</td>\n",
       "      <td>red</td>\n",
       "      <td>redunicycle.jpg</td>\n",
       "    </tr>\n",
       "    <tr>\n",
       "      <th>1</th>\n",
       "      <td>1</td>\n",
       "      <td>blue</td>\n",
       "      <td>blueunicycle.jpg</td>\n",
       "    </tr>\n",
       "    <tr>\n",
       "      <th>2</th>\n",
       "      <td>1</td>\n",
       "      <td>yellow</td>\n",
       "      <td>yellowunicycle.jpg</td>\n",
       "    </tr>\n",
       "    <tr>\n",
       "      <th>3</th>\n",
       "      <td>2</td>\n",
       "      <td>red</td>\n",
       "      <td>redbicycle.jpg</td>\n",
       "    </tr>\n",
       "    <tr>\n",
       "      <th>4</th>\n",
       "      <td>2</td>\n",
       "      <td>blue</td>\n",
       "      <td>bluemotorcycle.jpg</td>\n",
       "    </tr>\n",
       "    <tr>\n",
       "      <th>5</th>\n",
       "      <td>2</td>\n",
       "      <td>yellow</td>\n",
       "      <td>yellowscooter.jpg</td>\n",
       "    </tr>\n",
       "    <tr>\n",
       "      <th>6</th>\n",
       "      <td>3</td>\n",
       "      <td>red</td>\n",
       "      <td>redtricycle.jpg</td>\n",
       "    </tr>\n",
       "    <tr>\n",
       "      <th>7</th>\n",
       "      <td>3</td>\n",
       "      <td>blue</td>\n",
       "      <td>bluetricycle.jpg</td>\n",
       "    </tr>\n",
       "    <tr>\n",
       "      <th>8</th>\n",
       "      <td>3</td>\n",
       "      <td>yellow</td>\n",
       "      <td>yellowrickshaw.jpg</td>\n",
       "    </tr>\n",
       "  </tbody>\n",
       "</table>\n",
       "</div>"
      ],
      "text/plain": [
       "   wheels   color               image\n",
       "0       1     red     redunicycle.jpg\n",
       "1       1    blue    blueunicycle.jpg\n",
       "2       1  yellow  yellowunicycle.jpg\n",
       "3       2     red      redbicycle.jpg\n",
       "4       2    blue  bluemotorcycle.jpg\n",
       "5       2  yellow   yellowscooter.jpg\n",
       "6       3     red     redtricycle.jpg\n",
       "7       3    blue    bluetricycle.jpg\n",
       "8       3  yellow  yellowrickshaw.jpg"
      ]
     },
     "execution_count": 3,
     "metadata": {},
     "output_type": "execute_result"
    }
   ],
   "source": [
    "df = pd.read_csv(\"../data/data/wheels.csv\")\n",
    "df"
   ]
  },
  {
   "cell_type": "markdown",
   "metadata": {},
   "source": [
    "Minimalistic."
   ]
  },
  {
   "cell_type": "code",
   "execution_count": 19,
   "metadata": {},
   "outputs": [],
   "source": [
    "app = dash.Dash()\n",
    "\n",
    "# common style\n",
    "style = {\"margin-top\":\"2%\"}\n",
    "\n",
    "app.layout = html.Div([\n",
    "                html.Div([\n",
    "                    html.Label(\"Number of Wheels\"),\n",
    "                    dcc.RadioItems(options=[{\"label\":wh, \"value\":wh} \n",
    "                                           for wh in df.wheels.unique()],\n",
    "                                   value=1,\n",
    "                                   id=\"wheels\"),\n",
    "                    html.Label(id=\"selection-1\")\n",
    "                ], style=style),\n",
    "                html.Div([\n",
    "                    html.Label(\"Color\"),\n",
    "                    dcc.RadioItems(options=[{\"label\":cl, \"value\":cl} \n",
    "                                           for cl in df.color.unique()],\n",
    "                                   value=\"red\",\n",
    "                                   id=\"color\"),\n",
    "                    html.Label(id=\"selection-2\")\n",
    "                ], style=style),\n",
    "                html.Img(id=\"image\")\n",
    "    \n",
    "])\n",
    "\n",
    "# Label update\n",
    "@app.callback(Output(\"selection-1\", \"children\"),\n",
    "             [Input(\"wheels\", \"value\")])\n",
    "def update_label_1(selection):\n",
    "    return f\"You have selected '{selection}'\"\n",
    "\n",
    "# Label update\n",
    "@app.callback(Output(\"selection-2\", \"children\"),\n",
    "             [Input(\"color\", \"value\")])\n",
    "def update_label_2(selection):\n",
    "    return f\"You have selected '{selection}'\"\n",
    "\n",
    "# Load image\n",
    "@app.callback(Output(\"image\", \"src\"),\n",
    "             [Input(\"wheels\", \"value\"),\n",
    "              Input(\"color\", \"value\")])\n",
    "def update_image(wheel, color):\n",
    "    img = df[(df.color == color) & (df.wheels == wheel)][\"image\"].values[0]\n",
    "    return f\"../../DATA/Data/Images/{img}\"\n",
    "\n",
    "\n",
    "app.run_server()"
   ]
  },
  {
   "cell_type": "markdown",
   "metadata": {},
   "source": [
    "↑ The program is **GOOD** but, the image WON'T LOAD. It is because python has to decode the image first. To do that see the code below. (The code above is fine except the image loading)"
   ]
  },
  {
   "cell_type": "code",
   "execution_count": 22,
   "metadata": {},
   "outputs": [],
   "source": [
    "# We need to import this ↓\n",
    "import base64\n",
    "\n",
    "def encode_image(img_path):\n",
    "    # Simple Byte reading\n",
    "    with open(img_path, 'rb') as img:\n",
    "        raw_image = img.read()\n",
    "        \n",
    "    # Encoding with base64 and then decode\n",
    "    encoded = base64.b64encode(raw_image)\n",
    "    return f'data:image/png;base64,{encoded.decode()}'"
   ]
  },
  {
   "cell_type": "code",
   "execution_count": 25,
   "metadata": {},
   "outputs": [],
   "source": [
    "app = dash.Dash()\n",
    "\n",
    "# common style\n",
    "style = {\"margin-top\":\"2%\"}\n",
    "\n",
    "app.layout = html.Div([\n",
    "                html.Div([\n",
    "                    html.Label(\"Number of Wheels\"),\n",
    "                    dcc.RadioItems(options=[{\"label\":wh, \"value\":wh} \n",
    "                                           for wh in df.wheels.unique()],\n",
    "                                   value=1,\n",
    "                                   id=\"wheels\"),\n",
    "                    html.Label(id=\"selection-1\")\n",
    "                ], style=style),\n",
    "                html.Div([\n",
    "                    html.Label(\"Color\"),\n",
    "                    dcc.RadioItems(options=[{\"label\":cl, \"value\":cl} \n",
    "                                           for cl in df.color.unique()],\n",
    "                                   value=\"red\",\n",
    "                                   id=\"color\"),\n",
    "                    html.Label(id=\"selection-2\")\n",
    "                ], style=style),\n",
    "                html.Img(id=\"image\")\n",
    "    \n",
    "])\n",
    "\n",
    "# Label update\n",
    "@app.callback(Output(\"selection-1\", \"children\"),\n",
    "             [Input(\"wheels\", \"value\")])\n",
    "def update_label_1(selection):\n",
    "    return f\"You have selected '{selection}'\"\n",
    "\n",
    "# Label update\n",
    "@app.callback(Output(\"selection-2\", \"children\"),\n",
    "             [Input(\"color\", \"value\")])\n",
    "def update_label_2(selection):\n",
    "    return f\"You have selected '{selection}'\"\n",
    "\n",
    "# Load image\n",
    "@app.callback(Output(\"image\", \"src\"),\n",
    "             [Input(\"wheels\", \"value\"),\n",
    "              Input(\"color\", \"value\")])\n",
    "def update_image(wheel, color):\n",
    "    img = df[(df.color == color) & (df.wheels == wheel)][\"image\"].values[0]\n",
    "    return encode_image(f\"../DATA/Data/Images/{img}\")\n",
    "    ### Just changed ↑ this. Nothing else ###\n",
    "    \n",
    "app.run_server()"
   ]
  },
  {
   "cell_type": "markdown",
   "metadata": {},
   "source": [
    "# ↑ Works!!\n",
    "   Instead of returning the raw path, now we will return the bytes of the image"
   ]
  },
  {
   "cell_type": "markdown",
   "metadata": {},
   "source": [
    "# "
   ]
  },
  {
   "cell_type": "markdown",
   "metadata": {},
   "source": [
    "# That's it!\n",
    "Next up, more exciting is coming."
   ]
  }
 ],
 "metadata": {
  "kernelspec": {
   "display_name": "Python 3",
   "language": "python",
   "name": "python3"
  },
  "language_info": {
   "codemirror_mode": {
    "name": "ipython",
    "version": 3
   },
   "file_extension": ".py",
   "mimetype": "text/x-python",
   "name": "python",
   "nbconvert_exporter": "python",
   "pygments_lexer": "ipython3",
   "version": "3.8.5"
  }
 },
 "nbformat": 4,
 "nbformat_minor": 4
}
